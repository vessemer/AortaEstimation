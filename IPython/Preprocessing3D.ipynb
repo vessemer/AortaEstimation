{
 "cells": [
  {
   "cell_type": "code",
   "execution_count": 75,
   "metadata": {},
   "outputs": [],
   "source": [
    "% matplotlib inline\n",
    "\n",
    "import matplotlib.pyplot as plt\n",
    "import seaborn\n",
    "seaborn.set_style('white')\n",
    "\n",
    "from mpl_toolkits.mplot3d.art3d import Poly3DCollection"
   ]
  },
  {
   "cell_type": "code",
   "execution_count": 2,
   "metadata": {},
   "outputs": [
    {
     "name": "stderr",
     "output_type": "stream",
     "text": [
      "Using TensorFlow backend.\n",
      "/home/ubuntu/anaconda3/envs/tensorflow_p36/lib/python3.6/importlib/_bootstrap.py:219: RuntimeWarning: compiletime version 3.5 of module 'tensorflow.python.framework.fast_tensor_util' does not match runtime version 3.6\n",
      "  return f(*args, **kwds)\n"
     ]
    }
   ],
   "source": [
    "from glob import glob \n",
    "import os\n",
    "from tqdm import tqdm_notebook as tqdm \n",
    "from itertools import product\n",
    "\n",
    "import numpy as np\n",
    "import scipy.ndimage\n",
    "import cv2\n",
    "from multiprocessing import Pool\n",
    "\n",
    "import sys\n",
    "sys.path.append('../scripts')\n",
    "sys.path.append('../nets')\n",
    "import load_utils\n",
    "import watereshed\n",
    "import generator_3D\n",
    "import unet\n",
    "\n",
    "from keras.callbacks import ModelCheckpoint\n",
    "import pandas as pd\n",
    "\n",
    "import warnings\n",
    "warnings.filterwarnings('ignore')\n",
    "\n",
    "\n",
    "from skimage import measure\n",
    "from skimage.morphology import convex_hull_image\n",
    "\n",
    "import pickle\n",
    "from skimage.measure import regionprops"
   ]
  },
  {
   "cell_type": "code",
   "execution_count": 3,
   "metadata": {},
   "outputs": [],
   "source": [
    "PATHS = {\n",
    "    'DATA': '/home/ubuntu/cdata/DM_Data/RIII',\n",
    "    'DESC': '/home/ubuntu/cdata/DM_Data/REPRISEIIISizes.xlsx'\n",
    "}\n",
    "\n",
    "\n",
    "SIDE = 224\n",
    "BATCH_SIZE = 32\n",
    "SPLIT = .15"
   ]
  },
  {
   "cell_type": "code",
   "execution_count": 4,
   "metadata": {},
   "outputs": [],
   "source": [
    "def load(path, random=True, standardize=True):\n",
    "    if os.path.basename(os.path.dirname(path)) == 'raw':\n",
    "        patches = glob(os.path.join(path, 'patch*.npy'))\n",
    "        patch = np.load(patches[np.random.randint(len(patches))])\n",
    "        if standardize:\n",
    "\n",
    "            return np.dstack([\n",
    "                scipy.ndimage.zoom(patch[..., 0], .7),\n",
    "                scipy.ndimage.zoom(patch[..., -1], .7, order=0)\n",
    "            ])\n",
    "        \n",
    "        return patch\n",
    "    \n",
    "    patch = np.load(os.path.join(path, 'patch.npy'))\n",
    "    if random:\n",
    "        return patch[np.random.randint(len(patch))]\n",
    "    return patch[0]"
   ]
  },
  {
   "cell_type": "code",
   "execution_count": 5,
   "metadata": {},
   "outputs": [],
   "source": [
    "def preprocess_test(patch):\n",
    "    window = min(patch.shape[1], int(1.7 * SIDE))\n",
    "    point = np.array(patch.shape) // 2 - window // 2\n",
    "    point = np.clip(point, 0, np.array(patch.shape) - window)\n",
    "    patch = patch[\n",
    "        point[0]: point[0] + window, \n",
    "        point[1]: point[1] + window\n",
    "    ]\n",
    "\n",
    "    clip = cv2.resize(patch, dsize=(SIDE, SIDE))\n",
    "    return clip\n",
    "\n",
    "\n",
    "def preprocess_val(patch):\n",
    "    window = min(patch.shape[1], int(1.7 * SIDE))\n",
    "    point = np.array(patch.shape[:-1]) // 2 - window // 2\n",
    "    point = np.clip(point, 0, np.array(patch.shape[:-1]) - window)\n",
    "    \n",
    "    patch = patch[\n",
    "        point[0]: point[0] + window, \n",
    "        point[1]: point[1] + window\n",
    "    ]\n",
    "\n",
    "    return np.dstack([\n",
    "        scipy.ndimage.zoom(patch[..., 0], SIDE / patch.shape[0]),\n",
    "        scipy.ndimage.zoom(patch[..., -1], SIDE / patch.shape[0], order=0)\n",
    "    ])\n",
    "\n",
    "\n",
    "def preprocess_train(patch):\n",
    "    if np.random.randint(2):\n",
    "        patch = np.flip(patch, 0)\n",
    "    \n",
    "    if np.random.randint(2):\n",
    "        patch = np.flip(patch, 1)\n",
    "    \n",
    "    if np.random.randint(3):\n",
    "        shift = np.random.uniform(-.2, .2, size=2)\n",
    "        shift *= np.array(patch.shape[:2])\n",
    "        patch = np.dstack([\n",
    "            scipy.ndimage.shift(patch[..., 0], shift),\n",
    "            scipy.ndimage.shift(patch[..., -1], shift, order=0)\n",
    "        ])\n",
    "        \n",
    "    if np.random.randint(3):\n",
    "        rotate = np.random.uniform(-40, 40)\n",
    "        patch = np.dstack([\n",
    "            scipy.ndimage.rotate(patch[..., :-1], rotate),\n",
    "            scipy.ndimage.rotate(patch[..., -1:], rotate, order=0)\n",
    "        ])\n",
    "    \n",
    "    scale = np.random.uniform(.5, 1.5)\n",
    "    window = min(min(patch.shape[:-1]), int(SIDE * scale))\n",
    "    if np.count_nonzero(patch[..., 1]):\n",
    "        coords = np.array(np.where(patch[..., 1]))\n",
    "        cmin, cmax = coords.min(1) - window, coords.max(1)\n",
    "        point = np.array([\n",
    "            np.random.randint(cmin[0], cmax[0]),\n",
    "            np.random.randint(cmin[1], cmax[1])\n",
    "        ])\n",
    "    else:\n",
    "        point = np.random.randint(0, min(patch.shape[:-1]) - window + 1)\n",
    "    point = np.clip(point, 0, np.array(patch.shape[:-1]) - window)\n",
    "    \n",
    "    patch = patch[\n",
    "        point[0]: point[0] + window, \n",
    "        point[1]: point[1] + window\n",
    "    ]\n",
    "\n",
    "    return np.dstack([\n",
    "        scipy.ndimage.zoom(patch[..., 0], SIDE / patch.shape[0]),\n",
    "        scipy.ndimage.zoom(patch[..., -1], SIDE / patch.shape[0], order=0)\n",
    "    ])"
   ]
  },
  {
   "cell_type": "code",
   "execution_count": 6,
   "metadata": {},
   "outputs": [],
   "source": [
    "def eval_generator(patient, batch_size=BATCH_SIZE):\n",
    "    for i in range(len(patient) // batch_size + 1):\n",
    "        batch = patient[i * batch_size: (i + 1) * batch_size]\n",
    "        processed = list(map(preprocess_val, batch))\n",
    "        processed = np.array(processed)\n",
    "        yield (np.expand_dims(processed[..., 0], -1) + 199.) / 461., np.expand_dims(processed[..., 1], -1) > 0\n",
    "        \n",
    "\n",
    "def test_generator(patient, train_mode=False, batch_size=BATCH_SIZE):\n",
    "    for i in range(len(patient) // batch_size + 1):\n",
    "        batch = patient[i * batch_size: (i + 1) * batch_size]\n",
    "        processed = list(map(preprocess_test, batch))\n",
    "        processed = np.array(processed)\n",
    "        yield (np.expand_dims(processed, -1) + 199.) / 461.\n",
    "        \n",
    "\n",
    "def generator(paths, train_mode=False, batch_size=BATCH_SIZE, shuffle_coef=.7):\n",
    "    while True:\n",
    "        paths = [\n",
    "            os.path.join(\n",
    "                os.path.dirname(os.path.dirname(path)), \n",
    "                os.path.basename(path)\n",
    "            ) \n",
    "            if os.path.basename(os.path.dirname(path)) == 'raw'\n",
    "            else path\n",
    "            for path in paths\n",
    "        ]\n",
    "        if train_mode:\n",
    "            np.random.shuffle(paths)\n",
    "            paths = [\n",
    "                os.path.join(os.path.dirname(path), 'raw', os.path.basename(path)) \n",
    "                if shuffle_coef * len(paths) >= i \n",
    "                else path \n",
    "                for i, path in enumerate(paths)\n",
    "            ]\n",
    "            np.random.shuffle(paths)\n",
    "            \n",
    "        for i in range(len(paths) // batch_size + 1):\n",
    "            batch = paths[i * batch_size: (i + 1) * batch_size]\n",
    "            with Pool(4) as pool:\n",
    "                processed = pool.map(load, batch)\n",
    "\n",
    "            if train_mode:\n",
    "                with Pool(14) as pool:\n",
    "                    processed = pool.map(preprocess_train, processed)\n",
    "            else:\n",
    "                with Pool(14) as pool:\n",
    "                    processed = pool.map(preprocess_val, processed)\n",
    "            processed = np.array(processed)\n",
    "            yield (np.expand_dims(processed[..., 0], -1) + 199.) / 461., np.expand_dims(processed[..., 1], -1) > 0"
   ]
  },
  {
   "cell_type": "code",
   "execution_count": 7,
   "metadata": {},
   "outputs": [],
   "source": [
    "valve_df = pd.read_csv('../valve.csv')\n",
    "labels_df = pd.read_excel('../../DM_Data/REPRISE III Sizes.xlsx')\n",
    "test = valve_df.seriesuid.isin(labels_df['Subject name or identifier'])\n",
    "paths = valve_df.seriesuid.apply(lambda x: os.path.join(PATHS['DATA'], x)).values\n",
    "train = paths[True - test]\n",
    "test = paths[test]\n",
    "zis_paths = {os.path.basename(path): os.path.join(path, 'zis.npy') for path in paths}\n",
    "prods_paths = {os.path.basename(path): os.path.join(path, 'prods.npy') for path in paths}"
   ]
  },
  {
   "cell_type": "code",
   "execution_count": 8,
   "metadata": {},
   "outputs": [],
   "source": [
    "from IPython.display import clear_output"
   ]
  },
  {
   "cell_type": "code",
   "execution_count": 21,
   "metadata": {
    "scrolled": false
   },
   "outputs": [
    {
     "name": "stdout",
     "output_type": "stream",
     "text": [
      "\n"
     ]
    }
   ],
   "source": [
    "for pidx, path in tqdm(enumerate(paths[186:])):\n",
    "    print(path)\n",
    "    print(pidx)\n",
    "    patient, meta = load_utils.load_patient(PATHS['DATA'],  os.path.basename(path), metadata=True)\n",
    "    row = labels_df[labels_df['Subject name or identifier'] == os.path.basename(path)]\n",
    "    fact = meta['PixSpac']\n",
    "\n",
    "    mask = glob(os.path.join(PATHS['DATA'], os.path.basename(path), '*_A.stl'))\n",
    "    mask = load_utils.load_mesh(mask[0], meta) \n",
    "    mask = np.expand_dims(mask, -1)\n",
    "    mask = mask[..., 0]\n",
    "    \n",
    "    x, y = np.asarray(np.where(mask))[[0, 2]]\n",
    "    z = np.polyfit(x, y, 2)\n",
    "    p = np.poly1d(z)\n",
    "\n",
    "    init_d = p.deriv()\n",
    "    opt = p(init_d.roots)\n",
    "    \n",
    "    prods = np.load(prods_paths[os.path.basename(path)]) / np.expand_dims(fact, -1)\n",
    "    idx0, idx1 = valve_df[\n",
    "        valve_df.seriesuid == os.path.basename(path)\n",
    "    ][['idx0', 'idx1']].values[0]\n",
    "    \n",
    "    plt.imshow(mask.sum(1))\n",
    "    plt.scatter(prods[idx0].mean(1)[2], prods[idx0].mean(1)[0]);\n",
    "    plt.scatter(prods[idx1].mean(1)[2], prods[idx1].mean(1)[0]);\n",
    "    plt.show()\n",
    "    \n",
    "    flipped = np.abs(p(x.min()) - opt) > np.abs(p(x.max()) - opt)\n",
    "    if flipped:\n",
    "        valve_df.loc[valve_df.seriesuid == os.path.basename(path), 'flipped'] = True\n",
    "        mask = np.flip(mask, 0)\n",
    "        patient = np.flip(patient, 0)\n",
    "\n",
    "    plt.imshow(mask.sum(1))\n",
    "    plt.scatter(prods[idx0].mean(1)[2], prods[idx0].mean(1)[0]);\n",
    "    plt.scatter(prods[idx1].mean(1)[2], prods[idx1].mean(1)[0]);\n",
    "    plt.show()\n",
    "\n",
    "    cpred = np.zeros_like(mask)\n",
    "    for i in range(idx0, idx1):\n",
    "        coords = np.array([prods[i][0], prods[i][1], prods[i][2]])\n",
    "        coords = np.clip(coords.T, 0, np.array(mask.shape) - 1)\n",
    "        coords = np.round(coords).astype(np.int).T\n",
    "        coords = tuple(c for c in coords)\n",
    "        cpred[coords] = mask[coords]\n",
    "\n",
    "    cpred = scipy.ndimage.binary_closing(cpred, iterations=15) & mask\n",
    "\n",
    "    plt.imshow(cpred.sum(1))\n",
    "    plt.show()\n",
    "\n",
    "    try: \n",
    "        os.mkdir(os.path.join('/home/ubuntu/edata/', os.path.basename(path)))\n",
    "    except:\n",
    "        pass\n",
    "    np.save(os.path.join('/home/ubuntu/edata/', os.path.basename(path), 'valve_mask'), cpred)\n",
    "    clear_output()"
   ]
  },
  {
   "cell_type": "code",
   "execution_count": 71,
   "metadata": {},
   "outputs": [],
   "source": [
    "valve_df.to_csv('../valve__.csv')"
   ]
  },
  {
   "cell_type": "code",
   "execution_count": 53,
   "metadata": {},
   "outputs": [
    {
     "data": {
      "image/png": "[encoded data removed]",
      "text/plain": [
       "<matplotlib.figure.Figure at 0x7f6c821a20f0>"
      ]
     },
     "metadata": {},
     "output_type": "display_data"
    }
   ],
   "source": [
    "bins, vals, _ = plt.hist(\n",
    "    patient[\n",
    "        :mask.shape[0], \n",
    "        :mask.shape[1], \n",
    "        :mask.shape[2]\n",
    "    ][mask[:patient.shape[0], :patient.shape[1], :patient.shape[2]]], \n",
    "    100\n",
    ")"
   ]
  },
  {
   "cell_type": "code",
   "execution_count": 72,
   "metadata": {
    "scrolled": false
   },
   "outputs": [
    {
     "name": "stdout",
     "output_type": "stream",
     "text": [
      "\n"
     ]
    }
   ],
   "source": [
    "for pidx, path in tqdm(enumerate(paths)):\n",
    "    print(path)\n",
    "    print(pidx)\n",
    "    patient, meta = load_utils.load_patient(PATHS['DATA'],  os.path.basename(path), metadata=True)\n",
    "    row = labels_df[labels_df['Subject name or identifier'] == os.path.basename(path)]\n",
    "    fact = meta['PixSpac']\n",
    "\n",
    "    mask = glob(os.path.join(PATHS['DATA'], os.path.basename(path), '*_A.stl'))\n",
    "    mask = load_utils.load_mesh(mask[0], meta) \n",
    "    mask = np.expand_dims(mask, -1)\n",
    "    mask = mask[..., 0]\n",
    "    \n",
    "    patient = scipy.ndimage.zoom(patient, fact, order=3)\n",
    "    mask = scipy.ndimage.zoom(mask, fact, order=0)\n",
    "    \n",
    "    prods = np.load(prods_paths[os.path.basename(path)])\n",
    "    idx0, idx1 = valve_df[\n",
    "        valve_df.seriesuid == os.path.basename(path)\n",
    "    ][['idx0', 'idx1']].values[0]\n",
    "    \n",
    "    plt.imshow(mask.sum(1))\n",
    "    plt.scatter(prods[idx0].mean(1)[2], prods[idx0].mean(1)[0]);\n",
    "    plt.scatter(prods[idx1].mean(1)[2], prods[idx1].mean(1)[0]);\n",
    "    plt.show()\n",
    "    \n",
    "    flipped = valve_df.loc[valve_df.seriesuid == os.path.basename(path), 'flipped'].values[0]\n",
    "    if flipped:\n",
    "        mask = np.flip(mask, 0)\n",
    "        patient = np.flip(patient, 0)\n",
    "\n",
    "    plt.imshow(mask.sum(1))\n",
    "    plt.scatter(prods[idx0].mean(1)[2], prods[idx0].mean(1)[0]);\n",
    "    plt.scatter(prods[idx1].mean(1)[2], prods[idx1].mean(1)[0]);\n",
    "    plt.show()\n",
    "    \n",
    "    bins, vals, _ = plt.hist(\n",
    "        patient[\n",
    "            :mask.shape[0], \n",
    "            :mask.shape[1], \n",
    "            :mask.shape[2]\n",
    "        ][mask[:patient.shape[0], :patient.shape[1], :patient.shape[2]]], \n",
    "        100\n",
    "    )\n",
    "\n",
    "    plt.show()\n",
    "    \n",
    "    cpred = np.zeros_like(mask)\n",
    "    for i in range(idx0, idx1):\n",
    "        coords = np.array([prods[i][0], prods[i][1], prods[i][2]])\n",
    "        coords = np.clip(coords.T, 0, np.array(mask.shape) - 1)\n",
    "        coords = np.round(coords).astype(np.int).T\n",
    "        coords = tuple(c for c in coords)\n",
    "        cpred[coords] = mask[coords]\n",
    "\n",
    "    cpred = scipy.ndimage.binary_closing(cpred, iterations=15) & mask\n",
    "\n",
    "    plt.imshow(cpred.sum(1))\n",
    "    plt.show()\n",
    "    \n",
    "    \n",
    "    \n",
    "    try: \n",
    "        os.mkdir(os.path.join('/home/ubuntu/edata/', os.path.basename(path)))\n",
    "    except:\n",
    "        pass\n",
    "\n",
    "    cdilated = mask * scipy.ndimage.binary_dilation(cpred, iterations=15)\n",
    "    np.save(os.path.join('/home/ubuntu/edata/', os.path.basename(path), 'valve_mask'), cpred)\n",
    "    np.save(os.path.join('/home/ubuntu/edata/', os.path.basename(path), 'valve_mask_dilated'), cdilated)\n",
    "    \n",
    "    np.save(os.path.join('/home/ubuntu/edata/', os.path.basename(path), 'mask'), mask)\n",
    "    np.save(os.path.join('/home/ubuntu/edata/', os.path.basename(path), 'patient'), patient)\n",
    "    np.save(os.path.join('/home/ubuntu/edata/', os.path.basename(path), 'bins'), bins)\n",
    "    np.save(os.path.join('/home/ubuntu/edata/', os.path.basename(path), 'vals'), vals)\n",
    "    np.save(os.path.join('/home/ubuntu/edata/', os.path.basename(path), 'vals'), vals)\n",
    "    \n",
    "    clear_output()"
   ]
  },
  {
   "cell_type": "code",
   "execution_count": 63,
   "metadata": {
    "scrolled": true
   },
   "outputs": [
    {
     "data": {
      "text/plain": [
       "<matplotlib.image.AxesImage at 0x7f6c81a9cfd0>"
      ]
     },
     "execution_count": 63,
     "metadata": {},
     "output_type": "execute_result"
    },
    {
     "data": {
      "image/png": "[encoded data removed]",
      "text/plain": [
       "<matplotlib.figure.Figure at 0x7f6c81c1eda0>"
      ]
     },
     "metadata": {},
     "output_type": "display_data"
    }
   ],
   "source": [
    "plt.imshow(((patient[\n",
    "            :mask.shape[0], \n",
    "            :mask.shape[1], \n",
    "            :mask.shape[2]\n",
    "        ] * mask[:patient.shape[0], :patient.shape[1], :patient.shape[2]] \n",
    "             * scipy.ndimage.binary_dilation(cpred[:patient.shape[0], :patient.shape[1], :patient.shape[2]], iterations=15)) > 800).sum(1))"
   ]
  }
 ],
 "metadata": {
  "kernelspec": {
   "display_name": "Environment (conda_tensorflow_p36)",
   "language": "python",
   "name": "conda_tensorflow_p36"
  },
  "language_info": {
   "codemirror_mode": {
    "name": "ipython",
    "version": 3
   },
   "file_extension": ".py",
   "mimetype": "text/x-python",
   "name": "python",
   "nbconvert_exporter": "python",
   "pygments_lexer": "ipython3",
   "version": "3.6.3"
  }
 },
 "nbformat": 4,
 "nbformat_minor": 2
}
