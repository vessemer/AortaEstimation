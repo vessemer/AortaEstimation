{
 "cells": [
  {
   "cell_type": "code",
   "execution_count": 10,
   "metadata": {},
   "outputs": [],
   "source": [
    "% matplotlib inline\n",
    "\n",
    "import matplotlib.pyplot as plt\n",
    "import seaborn\n",
    "seaborn.set_style('white')\n",
    "\n",
    "from mpl_toolkits.mplot3d.art3d import Poly3DCollection"
   ]
  },
  {
   "cell_type": "code",
   "execution_count": 11,
   "metadata": {},
   "outputs": [],
   "source": [
    "from glob import glob \n",
    "import os\n",
    "from tqdm import tqdm_notebook as tqdm \n",
    "from itertools import product\n",
    "\n",
    "import numpy as np\n",
    "import scipy.ndimage\n",
    "import cv2\n",
    "from multiprocessing import Pool\n",
    "\n",
    "import sys\n",
    "sys.path.append('../scripts')\n",
    "sys.path.append('../nets')\n",
    "import load_utils\n",
    "import watereshed\n",
    "import generator_3D\n",
    "import unet\n",
    "\n",
    "from keras.callbacks import ModelCheckpoint\n",
    "import pandas as pd\n",
    "\n",
    "import warnings\n",
    "warnings.filterwarnings('ignore')\n",
    "\n",
    "\n",
    "from skimage import measure\n",
    "from skimage.morphology import convex_hull_image\n",
    "\n",
    "import pickle\n",
    "from skimage.measure import regionprops"
   ]
  },
  {
   "cell_type": "code",
   "execution_count": 12,
   "metadata": {},
   "outputs": [],
   "source": [
    "PATHS = {\n",
    "    'DATA': '/home/ubuntu/cdata/DM_Data/RIII',\n",
    "    'DESC': '/home/ubuntu/cdata/DM_Data/REPRISEIIISizes.xlsx'\n",
    "}\n",
    "\n",
    "\n",
    "SIDE = 224\n",
    "BATCH_SIZE = 32\n",
    "SPLIT = .15"
   ]
  },
  {
   "cell_type": "code",
   "execution_count": 23,
   "metadata": {},
   "outputs": [],
   "source": [
    "valve_df = pd.read_csv('../valve.csv')\n",
    "labels_df = pd.read_excel('../../DM_Data/REPRISE III Sizes.xlsx')\n",
    "test = valve_df.seriesuid.isin(labels_df['Subject name or identifier'])\n",
    "paths = valve_df.seriesuid.apply(lambda x: os.path.join(PATHS['DATA'], x)).values\n",
    "train = paths[True - test]\n",
    "test = paths[test]\n",
    "zis_paths = {os.path.basename(path): os.path.join(path, 'zis.npy') for path in paths}\n",
    "prods_paths = {os.path.basename(path): os.path.join(path, 'prods.npy') for path in paths}"
   ]
  },
  {
   "cell_type": "code",
   "execution_count": 24,
   "metadata": {},
   "outputs": [],
   "source": [
    "paths = [el for i, el in enumerate(paths[3:]) if not os.path.basename(el) in ['0938R3006', '0127R3138', '0261R3002', '1649R3011', '0127R3017', '0841R3005', '0159R3004', '1019R3003', '0127R3068', '0841R3062']]"
   ]
  },
  {
   "cell_type": "code",
   "execution_count": 36,
   "metadata": {},
   "outputs": [],
   "source": [
    "path = paths[3]\n",
    "\n",
    "cpred = np.load(os.path.join('/home/ubuntu/edata/', os.path.basename(path), 'valve_mask.npy'))\n",
    "cdilated  = np.load(os.path.join('/home/ubuntu/edata/', os.path.basename(path), 'valve_mask_dilated.npy'))\n",
    "mask = np.load(os.path.join('/home/ubuntu/edata/', os.path.basename(path), 'mask.npy'))\n",
    "patient = np.load(os.path.join('/home/ubuntu/edata/', os.path.basename(path), 'patient.npy'))"
   ]
  },
  {
   "cell_type": "code",
   "execution_count": 38,
   "metadata": {},
   "outputs": [
    {
     "data": {
      "text/plain": [
       "<matplotlib.image.AxesImage at 0x7f2c0cb659b0>"
      ]
     },
     "execution_count": 38,
     "metadata": {},
     "output_type": "execute_result"
    },
    {
     "data": {
      "image/png": "[encoded data removed]",
      "text/plain": [
       "<matplotlib.figure.Figure at 0x7f2c0ca4c048>"
      ]
     },
     "metadata": {},
     "output_type": "display_data"
    }
   ],
   "source": [
    "plt.imshow(((patient[:mask.shape[0], :mask.shape[1], :mask.shape[2]] \n",
    "             * mask[:patient.shape[0], :patient.shape[1], :patient.shape[2]]) > 500).sum(1))"
   ]
  },
  {
   "cell_type": "code",
   "execution_count": null,
   "metadata": {},
   "outputs": [],
   "source": [
    "features = []"
   ]
  },
  {
   "cell_type": "code",
   "execution_count": null,
   "metadata": {},
   "outputs": [],
   "source": [
    "diameters = np.array([23, 25, 27])\n",
    "\n",
    "for path in paths:\n",
    "    try:\n",
    "        cpred = np.load(os.path.join('/home/ubuntu/edata/', os.path.basename(path), 'valve_mask.npy'))\n",
    "        cdilated  = np.load(os.path.join('/home/ubuntu/edata/', os.path.basename(path), 'valve_mask_dilated.npy'))\n",
    "        mask = np.load(os.path.join('/home/ubuntu/edata/', os.path.basename(path), 'mask.npy'))\n",
    "        patient = np.load(os.path.join('/home/ubuntu/edata/', os.path.basename(path), 'patient.npy'))\n",
    "\n",
    "        prods = prods_paths[os.path.basename(path)]\n",
    "\n",
    "        zis = list()\n",
    "        mis = list()\n",
    "        for prod in tqdm(prods):\n",
    "            zi = scipy.ndimage.map_coordinates(patient, prod)\n",
    "            zis.append(zi.reshape((length, length)))\n",
    "\n",
    "            mi = scipy.ndimage.map_coordinates(mask.astype(np.float), prod)\n",
    "            mis.append(mi.reshape((length, length)))\n",
    "\n",
    "\n",
    "        zis = np.stack(zis, 0)\n",
    "        mis = np.stack(mis, 0)\n",
    "\n",
    "        tangs = list()\n",
    "        large = list()\n",
    "        small = list()\n",
    "        for mi in mis:\n",
    "            mask, _ = scipy.ndimage.label(mi > .5)\n",
    "            try:\n",
    "                idx = np.argmax(np.bincount(mask.flatten())[1:]) + 1\n",
    "                mask = mask == idx\n",
    "                rgroup = regionprops(mask.astype(np.int))[0]\n",
    "                large.append(rgroup.major_axis_length * length / SIDE)\n",
    "                small.append(rgroup.minor_axis_length * length / SIDE)\n",
    "            except:\n",
    "                tangs.append(0)\n",
    "                continue\n",
    "\n",
    "        tangs = np.array([0 if np.isnan(l) or np.isnan(s) else l for l, s in zip(large, small)])\n",
    "        small = np.array([0 if np.isnan(l) or np.isnan(s) else s for l, s in zip(large, small)])\n",
    "\n",
    "        tangs = scipy.ndimage.gaussian_filter1d(tangs, 3)\n",
    "        args = scipy.signal.argrelextrema(tangs, np.less_equal, order=1)[0]\n",
    "        args = args[small[args] > 5]\n",
    "        tangs = small.copy()\n",
    "        \n",
    "\n",
    "        row = fd[fd['Subject name or identifier'] == os.path.basename(ctest[test_idx])]\n",
    "        gt = int(row['Valve Size (Model number)'].values[0][:2])\n",
    "\n",
    "        idxs = np.argmin(np.square([diameters - t for t in sorted([i for i in tangs[args] if i > 18])[:1]]), axis=1)\n",
    "        vsp = diameters[idxs]\n",
    "        pp = any(diameters[idxs] == gt)\n",
    "\n",
    "\n",
    "        predicts[os.path.basename(ctest[test_idx])] = (pp, gt, vsp, sorted(tangs[args])[:3], tangs[args])\n",
    "        print(os.path.basename(ctest[test_idx]) + ': ', pp, gt, vsp, sorted(tangs[args])[:3], tangs[args])\n",
    "        pickle.dump(predicts, open('../../DM_Data/predicts__', 'wb'))\n",
    "    except:\n",
    "        print(test_idx, os.path.basename(ctest[test_idx]))"
   ]
  },
  {
   "cell_type": "code",
   "execution_count": 44,
   "metadata": {},
   "outputs": [
    {
     "data": {
      "text/plain": [
       "sklearn.mixture.gaussian_mixture.GaussianMixture"
      ]
     },
     "execution_count": 44,
     "metadata": {},
     "output_type": "execute_result"
    }
   ],
   "source": [
    "from sklearn.mixture import GaussianMixture\n",
    "\n",
    "GaussianMixture(n_components=1, )"
   ]
  },
  {
   "cell_type": "code",
   "execution_count": 41,
   "metadata": {
    "scrolled": true
   },
   "outputs": [
    {
     "data": {
      "image/png": "[encoded data removed]",
      "text/plain": [
       "<matplotlib.figure.Figure at 0x7f2c0c751390>"
      ]
     },
     "metadata": {},
     "output_type": "display_data"
    }
   ],
   "source": [
    "bins, vals, _ = plt.hist(\n",
    "    patient[\n",
    "        :mask.shape[0], \n",
    "        :mask.shape[1], \n",
    "        :mask.shape[2]\n",
    "    ][mask[:patient.shape[0], :patient.shape[1], :patient.shape[2]]], \n",
    "    100\n",
    ")"
   ]
  },
  {
   "cell_type": "code",
   "execution_count": null,
   "metadata": {},
   "outputs": [],
   "source": [
    "path = paths[5]\n",
    "length = 224\n",
    "width = 18\n",
    "\n",
    "cpred = np.load(os.path.join('/home/ubuntu/edata/', os.path.basename(path), 'valve_mask.npy'))\n",
    "cdilated  = np.load(os.path.join('/home/ubuntu/edata/', os.path.basename(path), 'valve_mask_dilated.npy'))\n",
    "mask = np.load(os.path.join('/home/ubuntu/edata/', os.path.basename(path), 'mask.npy'))\n",
    "patient = np.load(os.path.join('/home/ubuntu/edata/', os.path.basename(path), 'patient.npy'))"
   ]
  }
 ],
 "metadata": {
  "kernelspec": {
   "display_name": "Environment (conda_tensorflow_p36)",
   "language": "python",
   "name": "conda_tensorflow_p36"
  },
  "language_info": {
   "codemirror_mode": {
    "name": "ipython",
    "version": 3
   },
   "file_extension": ".py",
   "mimetype": "text/x-python",
   "name": "python",
   "nbconvert_exporter": "python",
   "pygments_lexer": "ipython3",
   "version": "3.6.3"
  }
 },
 "nbformat": 4,
 "nbformat_minor": 2
}
