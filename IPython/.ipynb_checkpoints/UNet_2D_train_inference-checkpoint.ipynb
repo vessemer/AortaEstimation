{
 "cells": [
  {
   "cell_type": "code",
   "execution_count": 2,
   "metadata": {},
   "outputs": [],
   "source": [
    "% matplotlib inline\n",
    "\n",
    "import matplotlib.pyplot as plt\n",
    "import seaborn\n",
    "seaborn.set_style('white')"
   ]
  },
  {
   "cell_type": "code",
   "execution_count": 3,
   "metadata": {},
   "outputs": [
    {
     "name": "stderr",
     "output_type": "stream",
     "text": [
      "Using TensorFlow backend.\n",
      "/home/ubuntu/anaconda3/envs/tensorflow_p36/lib/python3.6/importlib/_bootstrap.py:219: RuntimeWarning: compiletime version 3.5 of module 'tensorflow.python.framework.fast_tensor_util' does not match runtime version 3.6\n",
      "  return f(*args, **kwds)\n"
     ]
    }
   ],
   "source": [
    "from glob import glob \n",
    "import os\n",
    "from tqdm import tqdm_notebook as tqdm \n",
    "\n",
    "\n",
    "import numpy as np\n",
    "import scipy.ndimage\n",
    "import cv2\n",
    "from multiprocessing import Pool\n",
    "\n",
    "import sys\n",
    "sys.path.append('../scripts')\n",
    "sys.path.append('../nets')\n",
    "import load_utils\n",
    "import watereshed\n",
    "import generator_3D\n",
    "import unet"
   ]
  },
  {
   "cell_type": "code",
   "execution_count": 4,
   "metadata": {},
   "outputs": [],
   "source": [
    "PATHS = {\n",
    "    'DATA': '/home/ubuntu/cdata/DM_Data/RIII',\n",
    "    'DESC': '/home/ubuntu/cdata/DM_Data/REPRISEIIISizes.xlsx'\n",
    "}"
   ]
  },
  {
   "cell_type": "code",
   "execution_count": 5,
   "metadata": {},
   "outputs": [],
   "source": [
    "model = unet.get_unet(224, 224)"
   ]
  },
  {
   "cell_type": "code",
   "execution_count": 6,
   "metadata": {},
   "outputs": [],
   "source": [
    "def load(patient_id):\n",
    "    patch = np.load(os.path.join(PATHS['DATA'], patient_id, 'patch.npy'))\n",
    "    return patch[np.random.randint(len(patch))]"
   ]
  },
  {
   "cell_type": "code",
   "execution_count": 7,
   "metadata": {},
   "outputs": [],
   "source": [
    "def preprocess_val(patch):\n",
    "    window = min(min(patch.shape[:-1]), SIDE)\n",
    "    point = np.array(patch.shape[:-1]) // 2\n",
    "    point = np.clip(point, 0, np.array(patch.shape[:-1]) - window)\n",
    "    \n",
    "    patch = patch[\n",
    "        point[0]: point[0] + window, \n",
    "        point[1]: point[1] + window\n",
    "    ]\n",
    "\n",
    "    clip = np.zeros((SIDE, SIDE, 2))\n",
    "    clip[..., 0] = cv2.resize(patch[..., 0], dsize=(SIDE, SIDE))\n",
    "    clip[..., -1] = cv2.resize(patch[..., -1], dsize=(SIDE, SIDE)) \n",
    "    return clip"
   ]
  },
  {
   "cell_type": "code",
   "execution_count": 8,
   "metadata": {},
   "outputs": [],
   "source": [
    "def preprocess_train(patch):\n",
    "    if np.random.randint(2):\n",
    "        patch = np.flip(patch, 0)\n",
    "    \n",
    "    if np.random.randint(2):\n",
    "        patch = np.flip(patch, 1)\n",
    "    \n",
    "    if np.random.randint(3):\n",
    "        shift = np.random.uniform(-.2, .2, size=2)\n",
    "        shift *= np.array(patch.shape[:2])\n",
    "        patch = np.dstack([\n",
    "            scipy.ndimage.shift(patch[..., 0], shift),\n",
    "            scipy.ndimage.shift(patch[..., -1], shift, order=0)\n",
    "        ])\n",
    "        \n",
    "    if np.random.randint(3):\n",
    "        rotate = np.random.uniform(-40, 40)\n",
    "        patch = np.dstack([\n",
    "            scipy.ndimage.rotate(patch[..., :-1], rotate),\n",
    "            scipy.ndimage.rotate(patch[..., -1:], rotate, order=0)\n",
    "        ])\n",
    "    \n",
    "#     if np.random.randint(3):\n",
    "#         zoom = np.random.uniform(.8, 1.5)\n",
    "#         patch = np.dstack([\n",
    "#             scipy.ndimage.zoom(patch[..., :-1], zoom),\n",
    "#             scipy.ndimage.zoom(patch[..., -1:], zoom, order=0)\n",
    "#         ])\n",
    "    \n",
    "    \n",
    "    scale = np.random.uniform(.5, 1.5)\n",
    "    window = min(min(patch.shape[:-1]), int(SIDE * scale))\n",
    "    if np.count_nonzero(patch[..., 1]):\n",
    "        coords = np.array(np.where(patch[..., 1]))\n",
    "        cmin, cmax = coords.min(1) - window, coords.max(1)\n",
    "        point = np.array([\n",
    "            np.random.randint(cmin[0], cmax[0]),\n",
    "            np.random.randint(cmin[1], cmax[1])\n",
    "        ])\n",
    "    else:\n",
    "        point = np.random.randint(0, min(patch.shape[:-1]) - window + 1)\n",
    "    point = np.clip(point, 0, np.array(patch.shape[:-1]) - window)\n",
    "    \n",
    "    patch = patch[\n",
    "        point[0]: point[0] + window, \n",
    "        point[1]: point[1] + window\n",
    "    ]\n",
    "\n",
    "\n",
    "    clip = np.zeros((SIDE, SIDE, 2))\n",
    "    clip[..., 0] = cv2.resize(patch[..., 0], dsize=(SIDE, SIDE))\n",
    "    clip[..., -1] = cv2.resize(patch[..., -1], dsize=(SIDE, SIDE)) \n",
    "    return clip"
   ]
  },
  {
   "cell_type": "code",
   "execution_count": 9,
   "metadata": {},
   "outputs": [],
   "source": [
    "SIDE = 224\n",
    "BATCH_SIZE = 32\n",
    "SPLIT = .15"
   ]
  },
  {
   "cell_type": "code",
   "execution_count": 10,
   "metadata": {},
   "outputs": [],
   "source": [
    "import pickle\n",
    "\n",
    "\n",
    "processed_meta = pickle.load(open('../../DM_Data/RIII/processed_meta.pkl', 'rb'))\n",
    "picks = [pm['picks'] for pm in processed_meta]"
   ]
  },
  {
   "cell_type": "code",
   "execution_count": null,
   "metadata": {},
   "outputs": [],
   "source": [
    "def generator(patient_ids, train_mode=False):\n",
    "    while True:\n",
    "        if train_mode:\n",
    "            np.random.shuffle(patient_ids)\n",
    "            \n",
    "        for i in range(len(patient_ids) // BATCH_SIZE + 1):\n",
    "            batch = patient_ids[i * BATCH_SIZE: (i + 1) * BATCH_SIZE]\n",
    "#             with Pool(4) as pool:\n",
    "                processed = list(map(load, batch))\n",
    "\n",
    "        #     for p in p:\n",
    "            if train_mode:\n",
    "                with Pool(14) as pool:\n",
    "                    processed = pool.map(preprocess_train, processed)\n",
    "            else:\n",
    "                with Pool(14) as pool:\n",
    "                    processed = pool.map(preprocess_val, processed)\n",
    "            processed = np.array(processed)\n",
    "            yield (np.expand_dims(processed[..., 0], -1) + 199.) / 461., np.expand_dims(processed[..., 1], -1) > 0"
   ]
  },
  {
   "cell_type": "code",
   "execution_count": 12,
   "metadata": {},
   "outputs": [],
   "source": [
    "patient_ids = glob(os.path.join(PATHS['DATA'], '*', 'patch.npy'))\n",
    "patient_ids = [os.path.dirname(pid) for pid in patient_ids]\n",
    "patient_ids = [os.path.basename(pid) for pid in patient_ids if len(os.path.basename(pid)) == 9]"
   ]
  },
  {
   "cell_type": "code",
   "execution_count": 13,
   "metadata": {},
   "outputs": [],
   "source": [
    "from keras.callbacks import ModelCheckpoint"
   ]
  },
  {
   "cell_type": "code",
   "execution_count": 21,
   "metadata": {},
   "outputs": [
    {
     "name": "stdout",
     "output_type": "stream",
     "text": [
      "Epoch 1/10\n",
      "14/14 [==============================] - 19s 1s/step - loss: -0.3605 - dice_coef: 0.3605\n",
      "Epoch 2/10\n",
      "14/14 [==============================] - 18s 1s/step - loss: -0.3507 - dice_coef: 0.3507\n",
      "Epoch 3/10\n",
      "14/14 [==============================] - 18s 1s/step - loss: -0.3575 - dice_coef: 0.3575\n",
      "Epoch 4/10\n",
      "14/14 [==============================] - 18s 1s/step - loss: -0.3163 - dice_coef: 0.3163\n",
      "Epoch 5/10\n",
      "14/14 [==============================] - 18s 1s/step - loss: -0.3761 - dice_coef: 0.3761\n",
      "Epoch 6/10\n",
      "14/14 [==============================] - 18s 1s/step - loss: -0.3475 - dice_coef: 0.3475\n",
      "Epoch 7/10\n",
      "14/14 [==============================] - 18s 1s/step - loss: -0.2961 - dice_coef: 0.2961\n",
      "Epoch 8/10\n",
      "14/14 [==============================] - 18s 1s/step - loss: -0.3615 - dice_coef: 0.3615\n",
      "Epoch 9/10\n",
      "14/14 [==============================] - 18s 1s/step - loss: -0.3741 - dice_coef: 0.3741\n",
      "Epoch 10/10\n",
      "14/14 [==============================] - 18s 1s/step - loss: -0.3031 - dice_coef: 0.3031\n"
     ]
    },
    {
     "data": {
      "text/plain": [
       "<keras.callbacks.History at 0x7f179b79b9e8>"
      ]
     },
     "execution_count": 21,
     "metadata": {},
     "output_type": "execute_result"
    }
   ],
   "source": [
    "split = int(len(patient_ids) * SPLIT )\n",
    "train = patient_ids[split:]\n",
    "test = patient_ids[:split]\n",
    "\n",
    "train_gen = generator(train, train_mode=True)\n",
    "test_gen = generator(test, train_mode=False)\n",
    "\n",
    "callbacks = [\n",
    "    ModelCheckpoint(\n",
    "        os.path.join(PATHS['DATA'], 'unet_model'), \n",
    "        save_best_only=True\n",
    "    )\n",
    "]\n",
    "\n",
    "model.fit_generator(\n",
    "    train_gen,\n",
    "    steps_per_epoch=len(train) // BATCH_SIZE + 1, \n",
    "    epochs=10, \n",
    "    verbose=1, \n",
    "#     callbacks=callbacks, \n",
    "#     validation_data=test_gen, \n",
    "#     validation_steps=len(test) // BATCH_SIZE\n",
    ")"
   ]
  },
  {
   "cell_type": "code",
   "execution_count": 20,
   "metadata": {},
   "outputs": [
    {
     "data": {
      "text/plain": [
       "[-0.37496718764305115, 0.37496718764305115]"
      ]
     },
     "execution_count": 20,
     "metadata": {},
     "output_type": "execute_result"
    }
   ],
   "source": [
    "model.evaluate_generator(test_gen, 2)"
   ]
  },
  {
   "cell_type": "code",
   "execution_count": 22,
   "metadata": {},
   "outputs": [
    {
     "data": {
      "text/plain": [
       "[-0.42404778301715851, 0.42404778301715851]"
      ]
     },
     "execution_count": 22,
     "metadata": {},
     "output_type": "execute_result"
    }
   ],
   "source": [
    "model.evaluate_generator(test_gen, 2)"
   ]
  },
  {
   "cell_type": "code",
   "execution_count": 23,
   "metadata": {},
   "outputs": [
    {
     "name": "stdout",
     "output_type": "stream",
     "text": [
      "Epoch 1/10\n",
      "14/14 [==============================] - 19s 1s/step - loss: -0.3595 - dice_coef: 0.3595\n",
      "Epoch 2/10\n",
      "14/14 [==============================] - 18s 1s/step - loss: -0.4002 - dice_coef: 0.4002\n",
      "Epoch 3/10\n",
      "14/14 [==============================] - 18s 1s/step - loss: -0.4074 - dice_coef: 0.4074\n",
      "Epoch 4/10\n",
      "14/14 [==============================] - 18s 1s/step - loss: -0.3912 - dice_coef: 0.3912\n",
      "Epoch 5/10\n",
      "14/14 [==============================] - 18s 1s/step - loss: -0.3740 - dice_coef: 0.3740\n",
      "Epoch 6/10\n",
      "14/14 [==============================] - 18s 1s/step - loss: -0.4011 - dice_coef: 0.4011\n",
      "Epoch 7/10\n",
      "14/14 [==============================] - 18s 1s/step - loss: -0.3972 - dice_coef: 0.3972\n",
      "Epoch 8/10\n",
      "14/14 [==============================] - 18s 1s/step - loss: -0.3830 - dice_coef: 0.3830\n",
      "Epoch 9/10\n",
      "14/14 [==============================] - 18s 1s/step - loss: -0.3960 - dice_coef: 0.3960\n",
      "Epoch 10/10\n",
      "14/14 [==============================] - 18s 1s/step - loss: -0.3911 - dice_coef: 0.3911\n"
     ]
    },
    {
     "data": {
      "text/plain": [
       "<keras.callbacks.History at 0x7f179a864630>"
      ]
     },
     "execution_count": 23,
     "metadata": {},
     "output_type": "execute_result"
    }
   ],
   "source": [
    "split = int(len(patient_ids) * SPLIT )\n",
    "train = patient_ids[split:]\n",
    "test = patient_ids[:split]\n",
    "\n",
    "train_gen = generator(train, train_mode=True)\n",
    "test_gen = generator(test, train_mode=False)\n",
    "\n",
    "callbacks = [\n",
    "    ModelCheckpoint(\n",
    "        os.path.join(PATHS['DATA'], 'unet_model'), \n",
    "        save_best_only=True\n",
    "    )\n",
    "]\n",
    "\n",
    "model.fit_generator(\n",
    "    train_gen,\n",
    "    steps_per_epoch=len(train) // BATCH_SIZE + 1, \n",
    "    epochs=10, \n",
    "    verbose=1, \n",
    "#     callbacks=callbacks, \n",
    "#     validation_data=test_gen, \n",
    "#     validation_steps=len(test) // BATCH_SIZE\n",
    ")"
   ]
  },
  {
   "cell_type": "code",
   "execution_count": 24,
   "metadata": {},
   "outputs": [
    {
     "data": {
      "text/plain": [
       "[-0.46040976047515869, 0.46040976047515869]"
      ]
     },
     "execution_count": 24,
     "metadata": {},
     "output_type": "execute_result"
    }
   ],
   "source": [
    "model.evaluate_generator(test_gen, 2)"
   ]
  },
  {
   "cell_type": "code",
   "execution_count": 25,
   "metadata": {},
   "outputs": [
    {
     "name": "stdout",
     "output_type": "stream",
     "text": [
      "Epoch 1/10\n",
      "14/14 [==============================] - 19s 1s/step - loss: -0.3705 - dice_coef: 0.3705\n",
      "Epoch 2/10\n",
      "14/14 [==============================] - 18s 1s/step - loss: -0.3994 - dice_coef: 0.3994\n",
      "Epoch 3/10\n",
      "14/14 [==============================] - 18s 1s/step - loss: -0.3754 - dice_coef: 0.3754\n",
      "Epoch 4/10\n",
      "14/14 [==============================] - 18s 1s/step - loss: -0.3856 - dice_coef: 0.3856\n",
      "Epoch 5/10\n",
      "14/14 [==============================] - 18s 1s/step - loss: -0.4049 - dice_coef: 0.4049\n",
      "Epoch 6/10\n",
      "14/14 [==============================] - 18s 1s/step - loss: -0.4012 - dice_coef: 0.4012\n",
      "Epoch 7/10\n",
      "14/14 [==============================] - 18s 1s/step - loss: -0.4069 - dice_coef: 0.4069\n",
      "Epoch 8/10\n",
      "14/14 [==============================] - 18s 1s/step - loss: -0.4028 - dice_coef: 0.4028\n",
      "Epoch 9/10\n",
      "14/14 [==============================] - 18s 1s/step - loss: -0.3905 - dice_coef: 0.3905\n",
      "Epoch 10/10\n",
      "14/14 [==============================] - 18s 1s/step - loss: -0.4102 - dice_coef: 0.4102\n"
     ]
    },
    {
     "data": {
      "text/plain": [
       "<keras.callbacks.History at 0x7f17b0049cc0>"
      ]
     },
     "execution_count": 25,
     "metadata": {},
     "output_type": "execute_result"
    }
   ],
   "source": [
    "split = int(len(patient_ids) * SPLIT )\n",
    "train = patient_ids[split:]\n",
    "test = patient_ids[:split]\n",
    "\n",
    "train_gen = generator(train, train_mode=True)\n",
    "test_gen = generator(test, train_mode=False)\n",
    "\n",
    "callbacks = [\n",
    "    ModelCheckpoint(\n",
    "        os.path.join(PATHS['DATA'], 'unet_model'), \n",
    "        save_best_only=True\n",
    "    )\n",
    "]\n",
    "\n",
    "model.fit_generator(\n",
    "    train_gen,\n",
    "    steps_per_epoch=len(train) // BATCH_SIZE + 1, \n",
    "    epochs=10, \n",
    "    verbose=1, \n",
    "#     callbacks=callbacks, \n",
    "#     validation_data=test_gen, \n",
    "#     validation_steps=len(test) // BATCH_SIZE\n",
    ")"
   ]
  },
  {
   "cell_type": "code",
   "execution_count": 26,
   "metadata": {},
   "outputs": [
    {
     "data": {
      "text/plain": [
       "[-0.46258509159088135, 0.46258509159088135]"
      ]
     },
     "execution_count": 26,
     "metadata": {},
     "output_type": "execute_result"
    }
   ],
   "source": [
    "model.evaluate_generator(test_gen, 2)"
   ]
  },
  {
   "cell_type": "code",
   "execution_count": 27,
   "metadata": {},
   "outputs": [
    {
     "name": "stdout",
     "output_type": "stream",
     "text": [
      "Epoch 1/10\n",
      "14/14 [==============================] - 19s 1s/step - loss: -0.4162 - dice_coef: 0.4162\n",
      "Epoch 2/10\n",
      "14/14 [==============================] - 18s 1s/step - loss: -0.4125 - dice_coef: 0.4125\n",
      "Epoch 3/10\n",
      "14/14 [==============================] - 18s 1s/step - loss: -0.3931 - dice_coef: 0.3931\n",
      "Epoch 4/10\n",
      "14/14 [==============================] - 18s 1s/step - loss: -0.3823 - dice_coef: 0.3823\n",
      "Epoch 5/10\n",
      "14/14 [==============================] - 18s 1s/step - loss: -0.4075 - dice_coef: 0.4075\n",
      "Epoch 6/10\n",
      "14/14 [==============================] - 18s 1s/step - loss: -0.3977 - dice_coef: 0.3977\n",
      "Epoch 7/10\n",
      "14/14 [==============================] - 18s 1s/step - loss: -0.3937 - dice_coef: 0.3937\n",
      "Epoch 8/10\n",
      "14/14 [==============================] - 18s 1s/step - loss: -0.4045 - dice_coef: 0.4045\n",
      "Epoch 9/10\n",
      "14/14 [==============================] - 18s 1s/step - loss: -0.4105 - dice_coef: 0.4105\n",
      "Epoch 10/10\n",
      "14/14 [==============================] - 18s 1s/step - loss: -0.4053 - dice_coef: 0.4053\n"
     ]
    },
    {
     "data": {
      "text/plain": [
       "<keras.callbacks.History at 0x7f179ad5f588>"
      ]
     },
     "execution_count": 27,
     "metadata": {},
     "output_type": "execute_result"
    }
   ],
   "source": [
    "split = int(len(patient_ids) * SPLIT )\n",
    "train = patient_ids[split:]\n",
    "test = patient_ids[:split]\n",
    "\n",
    "train_gen = generator(train, train_mode=True)\n",
    "test_gen = generator(test, train_mode=False)\n",
    "\n",
    "callbacks = [\n",
    "    ModelCheckpoint(\n",
    "        os.path.join(PATHS['DATA'], 'unet_model'), \n",
    "        save_best_only=True\n",
    "    )\n",
    "]\n",
    "\n",
    "model.fit_generator(\n",
    "    train_gen,\n",
    "    steps_per_epoch=len(train) // BATCH_SIZE + 1, \n",
    "    epochs=10, \n",
    "    verbose=1, \n",
    "#     callbacks=callbacks, \n",
    "#     validation_data=test_gen, \n",
    "#     validation_steps=len(test) // BATCH_SIZE\n",
    ")"
   ]
  },
  {
   "cell_type": "code",
   "execution_count": 28,
   "metadata": {},
   "outputs": [
    {
     "data": {
      "text/plain": [
       "[-0.5069761723279953, 0.5069761723279953]"
      ]
     },
     "execution_count": 28,
     "metadata": {},
     "output_type": "execute_result"
    }
   ],
   "source": [
    "model.evaluate_generator(test_gen, 2)"
   ]
  },
  {
   "cell_type": "code",
   "execution_count": 29,
   "metadata": {},
   "outputs": [
    {
     "name": "stdout",
     "output_type": "stream",
     "text": [
      "Epoch 1/10\n",
      "14/14 [==============================] - 19s 1s/step - loss: -0.4302 - dice_coef: 0.4302\n",
      "Epoch 2/10\n",
      "14/14 [==============================] - 18s 1s/step - loss: -0.3983 - dice_coef: 0.3983\n",
      "Epoch 3/10\n",
      "14/14 [==============================] - 18s 1s/step - loss: -0.4393 - dice_coef: 0.4393\n",
      "Epoch 4/10\n",
      "14/14 [==============================] - 18s 1s/step - loss: -0.4211 - dice_coef: 0.4211\n",
      "Epoch 5/10\n",
      "14/14 [==============================] - 18s 1s/step - loss: -0.4321 - dice_coef: 0.4321\n",
      "Epoch 6/10\n",
      "14/14 [==============================] - 18s 1s/step - loss: -0.4057 - dice_coef: 0.4057\n",
      "Epoch 7/10\n",
      "14/14 [==============================] - 18s 1s/step - loss: -0.4265 - dice_coef: 0.4265\n",
      "Epoch 8/10\n",
      "14/14 [==============================] - 19s 1s/step - loss: -0.4337 - dice_coef: 0.4337\n",
      "Epoch 9/10\n",
      "14/14 [==============================] - 18s 1s/step - loss: -0.4134 - dice_coef: 0.4134\n",
      "Epoch 10/10\n",
      "14/14 [==============================] - 18s 1s/step - loss: -0.4444 - dice_coef: 0.4444\n"
     ]
    },
    {
     "data": {
      "text/plain": [
       "<keras.callbacks.History at 0x7f17983ce9b0>"
      ]
     },
     "execution_count": 29,
     "metadata": {},
     "output_type": "execute_result"
    }
   ],
   "source": [
    "split = int(len(patient_ids) * SPLIT )\n",
    "train = patient_ids[split:]\n",
    "test = patient_ids[:split]\n",
    "\n",
    "train_gen = generator(train, train_mode=True)\n",
    "test_gen = generator(test, train_mode=False)\n",
    "\n",
    "callbacks = [\n",
    "    ModelCheckpoint(\n",
    "        os.path.join(PATHS['DATA'], 'unet_model'), \n",
    "        save_best_only=True\n",
    "    )\n",
    "]\n",
    "\n",
    "model.fit_generator(\n",
    "    train_gen,\n",
    "    steps_per_epoch=len(train) // BATCH_SIZE + 1, \n",
    "    epochs=10, \n",
    "    verbose=1, \n",
    "#     callbacks=callbacks, \n",
    "#     validation_data=test_gen, \n",
    "#     validation_steps=len(test) // BATCH_SIZE\n",
    ")"
   ]
  },
  {
   "cell_type": "code",
   "execution_count": 30,
   "metadata": {},
   "outputs": [
    {
     "data": {
      "text/plain": [
       "[-0.51319694519042969, 0.51319694519042969]"
      ]
     },
     "execution_count": 30,
     "metadata": {},
     "output_type": "execute_result"
    }
   ],
   "source": [
    "model.evaluate_generator(test_gen, 2)"
   ]
  },
  {
   "cell_type": "code",
   "execution_count": 31,
   "metadata": {},
   "outputs": [
    {
     "name": "stdout",
     "output_type": "stream",
     "text": [
      "Epoch 1/10\n",
      "14/14 [==============================] - 19s 1s/step - loss: -0.4635 - dice_coef: 0.4635\n",
      "Epoch 2/10\n",
      "14/14 [==============================] - 18s 1s/step - loss: -0.4476 - dice_coef: 0.4476\n",
      "Epoch 3/10\n",
      "14/14 [==============================] - 18s 1s/step - loss: -0.4448 - dice_coef: 0.4448\n",
      "Epoch 4/10\n",
      "14/14 [==============================] - 18s 1s/step - loss: -0.4369 - dice_coef: 0.4369\n",
      "Epoch 5/10\n",
      "14/14 [==============================] - 18s 1s/step - loss: -0.4598 - dice_coef: 0.4598\n",
      "Epoch 6/10\n",
      "14/14 [==============================] - 18s 1s/step - loss: -0.4631 - dice_coef: 0.4631\n",
      "Epoch 7/10\n",
      "14/14 [==============================] - 18s 1s/step - loss: -0.4517 - dice_coef: 0.4517\n",
      "Epoch 8/10\n",
      "14/14 [==============================] - 18s 1s/step - loss: -0.4588 - dice_coef: 0.4588\n",
      "Epoch 9/10\n",
      "14/14 [==============================] - 18s 1s/step - loss: -0.4317 - dice_coef: 0.4317\n",
      "Epoch 10/10\n",
      "14/14 [==============================] - 18s 1s/step - loss: -0.4535 - dice_coef: 0.4535\n"
     ]
    },
    {
     "data": {
      "text/plain": [
       "<keras.callbacks.History at 0x7f17b00830b8>"
      ]
     },
     "execution_count": 31,
     "metadata": {},
     "output_type": "execute_result"
    }
   ],
   "source": [
    "split = int(len(patient_ids) * SPLIT )\n",
    "train = patient_ids[split:]\n",
    "test = patient_ids[:split]\n",
    "\n",
    "train_gen = generator(train, train_mode=True)\n",
    "test_gen = generator(test, train_mode=False)\n",
    "\n",
    "callbacks = [\n",
    "    ModelCheckpoint(\n",
    "        os.path.join(PATHS['DATA'], 'unet_model'), \n",
    "        save_best_only=True\n",
    "    )\n",
    "]\n",
    "\n",
    "model.fit_generator(\n",
    "    train_gen,\n",
    "    steps_per_epoch=len(train) // BATCH_SIZE + 1, \n",
    "    epochs=10, \n",
    "    verbose=1, \n",
    "#     callbacks=callbacks, \n",
    "#     validation_data=test_gen, \n",
    "#     validation_steps=len(test) // BATCH_SIZE\n",
    ")"
   ]
  },
  {
   "cell_type": "code",
   "execution_count": 32,
   "metadata": {},
   "outputs": [
    {
     "data": {
      "text/plain": [
       "[-0.55468180775642395, 0.55468180775642395]"
      ]
     },
     "execution_count": 32,
     "metadata": {},
     "output_type": "execute_result"
    }
   ],
   "source": [
    "model.evaluate_generator(test_gen, 2)"
   ]
  },
  {
   "cell_type": "code",
   "execution_count": 33,
   "metadata": {},
   "outputs": [
    {
     "name": "stdout",
     "output_type": "stream",
     "text": [
      "Epoch 1/10\n",
      "14/14 [==============================] - 19s 1s/step - loss: -0.4576 - dice_coef: 0.4576\n",
      "Epoch 2/10\n",
      "14/14 [==============================] - 18s 1s/step - loss: -0.4735 - dice_coef: 0.4735\n",
      "Epoch 3/10\n",
      "14/14 [==============================] - 18s 1s/step - loss: -0.4721 - dice_coef: 0.4721\n",
      "Epoch 4/10\n",
      "14/14 [==============================] - 18s 1s/step - loss: -0.4872 - dice_coef: 0.4872\n",
      "Epoch 5/10\n",
      "14/14 [==============================] - 18s 1s/step - loss: -0.4737 - dice_coef: 0.4737\n",
      "Epoch 6/10\n",
      "14/14 [==============================] - 18s 1s/step - loss: -0.4958 - dice_coef: 0.4958\n",
      "Epoch 7/10\n",
      "14/14 [==============================] - 18s 1s/step - loss: -0.4580 - dice_coef: 0.4580\n",
      "Epoch 8/10\n",
      "14/14 [==============================] - 19s 1s/step - loss: -0.4915 - dice_coef: 0.4915\n",
      "Epoch 9/10\n",
      "14/14 [==============================] - 18s 1s/step - loss: -0.4824 - dice_coef: 0.4824\n",
      "Epoch 10/10\n",
      "14/14 [==============================] - 18s 1s/step - loss: -0.4851 - dice_coef: 0.4851\n"
     ]
    },
    {
     "data": {
      "text/plain": [
       "<keras.callbacks.History at 0x7f17983cea90>"
      ]
     },
     "execution_count": 33,
     "metadata": {},
     "output_type": "execute_result"
    }
   ],
   "source": [
    "split = int(len(patient_ids) * SPLIT )\n",
    "train = patient_ids[split:]\n",
    "test = patient_ids[:split]\n",
    "\n",
    "train_gen = generator(train, train_mode=True)\n",
    "test_gen = generator(test, train_mode=False)\n",
    "\n",
    "callbacks = [\n",
    "    ModelCheckpoint(\n",
    "        os.path.join(PATHS['DATA'], 'unet_model'), \n",
    "        save_best_only=True\n",
    "    )\n",
    "]\n",
    "\n",
    "model.fit_generator(\n",
    "    train_gen,\n",
    "    steps_per_epoch=len(train) // BATCH_SIZE + 1, \n",
    "    epochs=10, \n",
    "    verbose=1, \n",
    "#     callbacks=callbacks, \n",
    "#     validation_data=test_gen, \n",
    "#     validation_steps=len(test) // BATCH_SIZE\n",
    ")"
   ]
  },
  {
   "cell_type": "code",
   "execution_count": 35,
   "metadata": {},
   "outputs": [
    {
     "data": {
      "text/plain": [
       "[-0.52121461927890778, 0.52121461927890778]"
      ]
     },
     "execution_count": 35,
     "metadata": {},
     "output_type": "execute_result"
    }
   ],
   "source": [
    "model.evaluate_generator(test_gen, 2)"
   ]
  },
  {
   "cell_type": "code",
   "execution_count": 34,
   "metadata": {},
   "outputs": [
    {
     "name": "stdout",
     "output_type": "stream",
     "text": [
      "Epoch 1/10\n",
      "14/14 [==============================] - 19s 1s/step - loss: -0.4643 - dice_coef: 0.4643\n",
      "Epoch 2/10\n",
      "14/14 [==============================] - 18s 1s/step - loss: -0.4372 - dice_coef: 0.4372\n",
      "Epoch 3/10\n",
      "14/14 [==============================] - 18s 1s/step - loss: -0.4867 - dice_coef: 0.4867\n",
      "Epoch 4/10\n",
      "14/14 [==============================] - 18s 1s/step - loss: -0.4751 - dice_coef: 0.4751\n",
      "Epoch 5/10\n",
      "14/14 [==============================] - 18s 1s/step - loss: -0.4642 - dice_coef: 0.4642\n",
      "Epoch 6/10\n",
      "14/14 [==============================] - 18s 1s/step - loss: -0.4855 - dice_coef: 0.4855\n",
      "Epoch 7/10\n",
      "14/14 [==============================] - 18s 1s/step - loss: -0.4997 - dice_coef: 0.4997\n",
      "Epoch 8/10\n",
      "14/14 [==============================] - 18s 1s/step - loss: -0.4654 - dice_coef: 0.4654\n",
      "Epoch 9/10\n",
      "14/14 [==============================] - 19s 1s/step - loss: -0.4756 - dice_coef: 0.4756\n",
      "Epoch 10/10\n",
      "14/14 [==============================] - 18s 1s/step - loss: -0.4810 - dice_coef: 0.4810\n"
     ]
    },
    {
     "data": {
      "text/plain": [
       "<keras.callbacks.History at 0x7f17983e0668>"
      ]
     },
     "execution_count": 34,
     "metadata": {},
     "output_type": "execute_result"
    }
   ],
   "source": [
    "split = int(len(patient_ids) * SPLIT )\n",
    "train = patient_ids[split:]\n",
    "test = patient_ids[:split]\n",
    "\n",
    "train_gen = generator(train, train_mode=True)\n",
    "test_gen = generator(test, train_mode=False)\n",
    "\n",
    "callbacks = [\n",
    "    ModelCheckpoint(\n",
    "        os.path.join(PATHS['DATA'], 'unet_model'), \n",
    "        save_best_only=True\n",
    "    )\n",
    "]\n",
    "\n",
    "model.fit_generator(\n",
    "    train_gen,\n",
    "    steps_per_epoch=len(train) // BATCH_SIZE + 1, \n",
    "    epochs=10, \n",
    "    verbose=1, \n",
    "#     callbacks=callbacks, \n",
    "#     validation_data=test_gen, \n",
    "#     validation_steps=len(test) // BATCH_SIZE\n",
    ")"
   ]
  },
  {
   "cell_type": "code",
   "execution_count": 36,
   "metadata": {},
   "outputs": [
    {
     "name": "stdout",
     "output_type": "stream",
     "text": [
      "Epoch 1/10\n",
      "14/14 [==============================] - 19s 1s/step - loss: -0.4826 - dice_coef: 0.4826\n",
      "Epoch 2/10\n",
      "14/14 [==============================] - 18s 1s/step - loss: -0.4949 - dice_coef: 0.4949\n",
      "Epoch 3/10\n",
      "14/14 [==============================] - 18s 1s/step - loss: -0.4881 - dice_coef: 0.4881\n",
      "Epoch 4/10\n",
      "14/14 [==============================] - 18s 1s/step - loss: -0.5079 - dice_coef: 0.5079\n",
      "Epoch 5/10\n",
      "14/14 [==============================] - 18s 1s/step - loss: -0.4905 - dice_coef: 0.4905\n",
      "Epoch 6/10\n",
      "14/14 [==============================] - 18s 1s/step - loss: -0.4887 - dice_coef: 0.4887\n",
      "Epoch 7/10\n",
      "14/14 [==============================] - 18s 1s/step - loss: -0.5184 - dice_coef: 0.5184\n",
      "Epoch 8/10\n",
      "14/14 [==============================] - 18s 1s/step - loss: -0.5128 - dice_coef: 0.5128\n",
      "Epoch 9/10\n",
      "14/14 [==============================] - 18s 1s/step - loss: -0.4886 - dice_coef: 0.4886\n",
      "Epoch 10/10\n",
      "14/14 [==============================] - 18s 1s/step - loss: -0.4688 - dice_coef: 0.4688\n"
     ]
    },
    {
     "data": {
      "text/plain": [
       "<keras.callbacks.History at 0x7f179b79b2e8>"
      ]
     },
     "execution_count": 36,
     "metadata": {},
     "output_type": "execute_result"
    }
   ],
   "source": [
    "split = int(len(patient_ids) * SPLIT )\n",
    "train = patient_ids[split:]\n",
    "test = patient_ids[:split]\n",
    "\n",
    "train_gen = generator(train, train_mode=True)\n",
    "test_gen = generator(test, train_mode=False)\n",
    "\n",
    "callbacks = [\n",
    "    ModelCheckpoint(\n",
    "        os.path.join(PATHS['DATA'], 'unet_model'), \n",
    "        save_best_only=True\n",
    "    )\n",
    "]\n",
    "\n",
    "model.fit_generator(\n",
    "    train_gen,\n",
    "    steps_per_epoch=len(train) // BATCH_SIZE + 1, \n",
    "    epochs=10, \n",
    "    verbose=1, \n",
    "#     callbacks=callbacks, \n",
    "#     validation_data=test_gen, \n",
    "#     validation_steps=len(test) // BATCH_SIZE\n",
    ")"
   ]
  },
  {
   "cell_type": "code",
   "execution_count": 37,
   "metadata": {},
   "outputs": [
    {
     "data": {
      "text/plain": [
       "[-0.44834978878498077, 0.44834978878498077]"
      ]
     },
     "execution_count": 37,
     "metadata": {},
     "output_type": "execute_result"
    }
   ],
   "source": [
    "model.evaluate_generator(test_gen, 2)"
   ]
  },
  {
   "cell_type": "code",
   "execution_count": 38,
   "metadata": {},
   "outputs": [
    {
     "name": "stdout",
     "output_type": "stream",
     "text": [
      "Epoch 1/10\n",
      "14/14 [==============================] - 19s 1s/step - loss: -0.4932 - dice_coef: 0.4932\n",
      "Epoch 2/10\n",
      "14/14 [==============================] - 18s 1s/step - loss: -0.4828 - dice_coef: 0.4828\n",
      "Epoch 3/10\n",
      "14/14 [==============================] - 18s 1s/step - loss: -0.4767 - dice_coef: 0.4767\n",
      "Epoch 4/10\n",
      "14/14 [==============================] - 17s 1s/step - loss: -0.4869 - dice_coef: 0.4869\n",
      "Epoch 5/10\n",
      "14/14 [==============================] - 18s 1s/step - loss: -0.4878 - dice_coef: 0.4878\n",
      "Epoch 6/10\n",
      "14/14 [==============================] - 18s 1s/step - loss: -0.4972 - dice_coef: 0.4972\n",
      "Epoch 7/10\n",
      "14/14 [==============================] - 18s 1s/step - loss: -0.4848 - dice_coef: 0.4848\n",
      "Epoch 8/10\n",
      "14/14 [==============================] - 18s 1s/step - loss: -0.4720 - dice_coef: 0.4720\n",
      "Epoch 9/10\n",
      "14/14 [==============================] - 19s 1s/step - loss: -0.5177 - dice_coef: 0.5177\n",
      "Epoch 10/10\n",
      "14/14 [==============================] - 18s 1s/step - loss: -0.5011 - dice_coef: 0.5011\n"
     ]
    },
    {
     "data": {
      "text/plain": [
       "<keras.callbacks.History at 0x7f17b0083e10>"
      ]
     },
     "execution_count": 38,
     "metadata": {},
     "output_type": "execute_result"
    }
   ],
   "source": [
    "split = int(len(patient_ids) * SPLIT )\n",
    "train = patient_ids[split:]\n",
    "test = patient_ids[:split]\n",
    "\n",
    "train_gen = generator(train, train_mode=True)\n",
    "test_gen = generator(test, train_mode=False)\n",
    "\n",
    "callbacks = [\n",
    "    ModelCheckpoint(\n",
    "        os.path.join(PATHS['DATA'], 'unet_model'), \n",
    "        save_best_only=True\n",
    "    )\n",
    "]\n",
    "\n",
    "model.fit_generator(\n",
    "    train_gen,\n",
    "    steps_per_epoch=len(train) // BATCH_SIZE + 1, \n",
    "    epochs=10, \n",
    "    verbose=1, \n",
    "#     callbacks=callbacks, \n",
    "#     validation_data=test_gen, \n",
    "#     validation_steps=len(test) // BATCH_SIZE\n",
    ")"
   ]
  },
  {
   "cell_type": "code",
   "execution_count": 39,
   "metadata": {},
   "outputs": [
    {
     "data": {
      "text/plain": [
       "[-0.46454417705535889, 0.46454417705535889]"
      ]
     },
     "execution_count": 39,
     "metadata": {},
     "output_type": "execute_result"
    }
   ],
   "source": [
    "model.evaluate_generator(test_gen, 2)"
   ]
  },
  {
   "cell_type": "code",
   "execution_count": 132,
   "metadata": {},
   "outputs": [],
   "source": [
    "a = next(test_gen)\n",
    "\n",
    "p = model.predict(a[0])\n",
    "p1 = model.predict(np.flip(a[0], 1))\n",
    "p2 = model.predict(np.flip(a[0], 2))\n",
    "p3 = model.predict(np.flip(np.flip(a[0], 2), 1))"
   ]
  },
  {
   "cell_type": "code",
   "execution_count": 134,
   "metadata": {},
   "outputs": [
    {
     "data": {
      "image/png": "[encoded data removed]",
      "text/plain": [
       "<matplotlib.figure.Figure at 0x7f1790364e10>"
      ]
     },
     "metadata": {},
     "output_type": "display_data"
    },
    {
     "data": {
      "image/png": "[encoded data removed]",
      "text/plain": [
       "<matplotlib.figure.Figure at 0x7f17981fee80>"
      ]
     },
     "metadata": {},
     "output_type": "display_data"
    },
    {
     "data": {
      "image/png": "[encoded data removed]",
      "text/plain": [
       "<matplotlib.figure.Figure at 0x7f174c4f4ef0>"
      ]
     },
     "metadata": {},
     "output_type": "display_data"
    }
   ],
   "source": [
    "i = 12\n",
    "plt.imshow(a[0][i, ..., 0])\n",
    "plt.show()\n",
    "plt.imshow(\n",
    "    np.dstack([\n",
    "        p[i, ..., 0], \n",
    "        np.flip(p1[i, ..., 0], 0), \n",
    "        np.flip(p2[i, ..., 0], 1), \n",
    "        np.flip(np.flip(p3[i, ..., 0], 1), 0),\n",
    "#         a[1][i, ..., 0]\n",
    "    ]).mean(-1)\n",
    ")\n",
    "plt.show()\n",
    "plt.imshow(a[1][i, ..., 0])\n",
    "plt.show()"
   ]
  },
  {
   "cell_type": "code",
   "execution_count": 94,
   "metadata": {},
   "outputs": [
    {
     "name": "stdout",
     "output_type": "stream",
     "text": [
      "Epoch 1/10\n",
      "14/14 [==============================] - 19s 1s/step - loss: -0.4420 - dice_coef: 0.4420\n",
      "Epoch 2/10\n",
      "14/14 [==============================] - 17s 1s/step - loss: -0.4697 - dice_coef: 0.4697\n",
      "Epoch 3/10\n",
      "14/14 [==============================] - 18s 1s/step - loss: -0.4886 - dice_coef: 0.4886\n",
      "Epoch 4/10\n",
      "14/14 [==============================] - 18s 1s/step - loss: -0.5007 - dice_coef: 0.5007\n",
      "Epoch 5/10\n",
      "14/14 [==============================] - 18s 1s/step - loss: -0.5046 - dice_coef: 0.5046\n",
      "Epoch 6/10\n",
      "14/14 [==============================] - 18s 1s/step - loss: -0.5019 - dice_coef: 0.5019\n",
      "Epoch 7/10\n",
      "14/14 [==============================] - 18s 1s/step - loss: -0.5108 - dice_coef: 0.5108\n",
      "Epoch 8/10\n",
      "14/14 [==============================] - 18s 1s/step - loss: -0.4939 - dice_coef: 0.4939\n",
      "Epoch 9/10\n",
      "14/14 [==============================] - 18s 1s/step - loss: -0.5091 - dice_coef: 0.5091\n",
      "Epoch 10/10\n",
      "14/14 [==============================] - 18s 1s/step - loss: -0.5020 - dice_coef: 0.5020\n"
     ]
    },
    {
     "data": {
      "text/plain": [
       "<keras.callbacks.History at 0x7f17983df7b8>"
      ]
     },
     "execution_count": 94,
     "metadata": {},
     "output_type": "execute_result"
    }
   ],
   "source": [
    "split = int(len(patient_ids) * SPLIT )\n",
    "train = patient_ids[split:]\n",
    "test = patient_ids[:split]\n",
    "\n",
    "train_gen = generator(train, train_mode=True)\n",
    "test_gen = generator(test, train_mode=False)\n",
    "\n",
    "callbacks = [\n",
    "    ModelCheckpoint(\n",
    "        os.path.join(PATHS['DATA'], 'unet_model'), \n",
    "        save_best_only=True\n",
    "    )\n",
    "]\n",
    "\n",
    "model.fit_generator(\n",
    "    train_gen,\n",
    "    steps_per_epoch=len(train) // BATCH_SIZE + 1, \n",
    "    epochs=10, \n",
    "    verbose=1, \n",
    "#     callbacks=callbacks, \n",
    "#     validation_data=test_gen, \n",
    "#     validation_steps=len(test) // BATCH_SIZE\n",
    ")"
   ]
  },
  {
   "cell_type": "code",
   "execution_count": 95,
   "metadata": {},
   "outputs": [
    {
     "data": {
      "text/plain": [
       "[-0.56602880358695984, 0.56602880358695984]"
      ]
     },
     "execution_count": 95,
     "metadata": {},
     "output_type": "execute_result"
    }
   ],
   "source": [
    "model.evaluate_generator(test_gen, 2)"
   ]
  },
  {
   "cell_type": "code",
   "execution_count": 130,
   "metadata": {},
   "outputs": [],
   "source": [
    "model.save(os.path.join(PATHS['DATA'], 'unet_model'))"
   ]
  },
  {
   "cell_type": "code",
   "execution_count": 135,
   "metadata": {},
   "outputs": [
    {
     "name": "stdout",
     "output_type": "stream",
     "text": [
      "Epoch 1/10\n",
      "14/14 [==============================] - 19s 1s/step - loss: -0.5307 - dice_coef: 0.5307\n",
      "Epoch 2/10\n",
      "14/14 [==============================] - 17s 1s/step - loss: -0.5364 - dice_coef: 0.5364\n",
      "Epoch 3/10\n",
      "14/14 [==============================] - 17s 1s/step - loss: -0.5102 - dice_coef: 0.5102\n",
      "Epoch 4/10\n",
      "14/14 [==============================] - 17s 1s/step - loss: -0.5280 - dice_coef: 0.5280\n",
      "Epoch 5/10\n",
      "14/14 [==============================] - 18s 1s/step - loss: -0.5270 - dice_coef: 0.5270\n",
      "Epoch 6/10\n",
      "14/14 [==============================] - 18s 1s/step - loss: -0.5132 - dice_coef: 0.5132\n",
      "Epoch 7/10\n",
      "14/14 [==============================] - 18s 1s/step - loss: -0.5574 - dice_coef: 0.5574\n",
      "Epoch 8/10\n",
      "14/14 [==============================] - 18s 1s/step - loss: -0.5304 - dice_coef: 0.5304\n",
      "Epoch 9/10\n",
      "14/14 [==============================] - 17s 1s/step - loss: -0.5389 - dice_coef: 0.5389\n",
      "Epoch 10/10\n",
      "14/14 [==============================] - 18s 1s/step - loss: -0.5503 - dice_coef: 0.5503\n"
     ]
    },
    {
     "data": {
      "text/plain": [
       "<keras.callbacks.History at 0x7f179065e4a8>"
      ]
     },
     "execution_count": 135,
     "metadata": {},
     "output_type": "execute_result"
    }
   ],
   "source": [
    "split = int(len(patient_ids) * SPLIT )\n",
    "train = patient_ids[split:]\n",
    "test = patient_ids[:split]\n",
    "\n",
    "train_gen = generator(train, train_mode=True)\n",
    "test_gen = generator(test, train_mode=False)\n",
    "\n",
    "callbacks = [\n",
    "    ModelCheckpoint(\n",
    "        os.path.join(PATHS['DATA'], 'unet_model'), \n",
    "        save_best_only=True\n",
    "    )\n",
    "]\n",
    "\n",
    "model.fit_generator(\n",
    "    train_gen,\n",
    "    steps_per_epoch=len(train) // BATCH_SIZE + 1, \n",
    "    epochs=10, \n",
    "    verbose=1, \n",
    "#     callbacks=callbacks, \n",
    "#     validation_data=test_gen, \n",
    "#     validation_steps=len(test) // BATCH_SIZE\n",
    ")"
   ]
  },
  {
   "cell_type": "code",
   "execution_count": 129,
   "metadata": {
    "scrolled": true
   },
   "outputs": [
    {
     "data": {
      "text/plain": [
       "[-0.61677467823028564, 0.61677467823028564]"
      ]
     },
     "execution_count": 129,
     "metadata": {},
     "output_type": "execute_result"
    }
   ],
   "source": [
    "model.evaluate_generator(test_gen, 2)"
   ]
  },
  {
   "cell_type": "code",
   "execution_count": 136,
   "metadata": {},
   "outputs": [
    {
     "data": {
      "text/plain": [
       "[-0.61506542563438416, 0.61506542563438416]"
      ]
     },
     "execution_count": 136,
     "metadata": {},
     "output_type": "execute_result"
    }
   ],
   "source": [
    "model.evaluate_generator(test_gen, 2)"
   ]
  },
  {
   "cell_type": "code",
   "execution_count": 137,
   "metadata": {},
   "outputs": [
    {
     "name": "stdout",
     "output_type": "stream",
     "text": [
      "Epoch 1/10\n",
      "14/14 [==============================] - 19s 1s/step - loss: -0.5361 - dice_coef: 0.5361\n",
      "Epoch 2/10\n",
      "14/14 [==============================] - 18s 1s/step - loss: -0.5596 - dice_coef: 0.5596\n",
      "Epoch 3/10\n",
      "14/14 [==============================] - 17s 1s/step - loss: -0.5567 - dice_coef: 0.5567\n",
      "Epoch 4/10\n",
      "14/14 [==============================] - 18s 1s/step - loss: -0.5250 - dice_coef: 0.5250\n",
      "Epoch 5/10\n",
      "14/14 [==============================] - 18s 1s/step - loss: -0.5493 - dice_coef: 0.5493\n",
      "Epoch 6/10\n",
      "14/14 [==============================] - 18s 1s/step - loss: -0.5225 - dice_coef: 0.5225\n",
      "Epoch 7/10\n",
      "14/14 [==============================] - 18s 1s/step - loss: -0.5314 - dice_coef: 0.5314\n",
      "Epoch 8/10\n",
      "14/14 [==============================] - 18s 1s/step - loss: -0.5313 - dice_coef: 0.5313\n",
      "Epoch 9/10\n",
      "14/14 [==============================] - 18s 1s/step - loss: -0.5409 - dice_coef: 0.5409\n",
      "Epoch 10/10\n",
      "14/14 [==============================] - 19s 1s/step - loss: -0.5484 - dice_coef: 0.5484\n"
     ]
    },
    {
     "data": {
      "text/plain": [
       "<keras.callbacks.History at 0x7f179065cdd8>"
      ]
     },
     "execution_count": 137,
     "metadata": {},
     "output_type": "execute_result"
    }
   ],
   "source": [
    "split = int(len(patient_ids) * SPLIT )\n",
    "train = patient_ids[split:]\n",
    "test = patient_ids[:split]\n",
    "\n",
    "train_gen = generator(train, train_mode=True)\n",
    "test_gen = generator(test, train_mode=False)\n",
    "\n",
    "callbacks = [\n",
    "    ModelCheckpoint(\n",
    "        os.path.join(PATHS['DATA'], 'unet_model'), \n",
    "        save_best_only=True\n",
    "    )\n",
    "]\n",
    "\n",
    "model.fit_generator(\n",
    "    train_gen,\n",
    "    steps_per_epoch=len(train) // BATCH_SIZE + 1, \n",
    "    epochs=10, \n",
    "    verbose=1, \n",
    "#     callbacks=callbacks, \n",
    "#     validation_data=test_gen, \n",
    "#     validation_steps=len(test) // BATCH_SIZE\n",
    ")"
   ]
  },
  {
   "cell_type": "code",
   "execution_count": 138,
   "metadata": {},
   "outputs": [
    {
     "data": {
      "text/plain": [
       "[-0.58423489332199097, 0.58423489332199097]"
      ]
     },
     "execution_count": 138,
     "metadata": {},
     "output_type": "execute_result"
    }
   ],
   "source": [
    "model.evaluate_generator(test_gen, 2)"
   ]
  },
  {
   "cell_type": "code",
   "execution_count": 141,
   "metadata": {},
   "outputs": [
    {
     "name": "stdout",
     "output_type": "stream",
     "text": [
      "Epoch 1/10\n",
      "14/14 [==============================] - 19s 1s/step - loss: -0.5598 - dice_coef: 0.5598\n",
      "Epoch 2/10\n",
      "14/14 [==============================] - 18s 1s/step - loss: -0.5488 - dice_coef: 0.5488\n",
      "Epoch 3/10\n",
      "14/14 [==============================] - 17s 1s/step - loss: -0.5536 - dice_coef: 0.5536\n",
      "Epoch 4/10\n",
      "14/14 [==============================] - 18s 1s/step - loss: -0.5513 - dice_coef: 0.5513\n",
      "Epoch 5/10\n",
      "14/14 [==============================] - 18s 1s/step - loss: -0.5803 - dice_coef: 0.5803\n",
      "Epoch 6/10\n",
      "14/14 [==============================] - 18s 1s/step - loss: -0.5550 - dice_coef: 0.5550\n",
      "Epoch 7/10\n",
      "14/14 [==============================] - 18s 1s/step - loss: -0.5699 - dice_coef: 0.5699\n",
      "Epoch 8/10\n",
      "14/14 [==============================] - 18s 1s/step - loss: -0.5541 - dice_coef: 0.5541\n",
      "Epoch 9/10\n",
      "14/14 [==============================] - 18s 1s/step - loss: -0.5411 - dice_coef: 0.5411\n",
      "Epoch 10/10\n",
      "14/14 [==============================] - 19s 1s/step - loss: -0.5637 - dice_coef: 0.5637\n"
     ]
    },
    {
     "data": {
      "text/plain": [
       "<keras.callbacks.History at 0x7f1798725b00>"
      ]
     },
     "execution_count": 141,
     "metadata": {},
     "output_type": "execute_result"
    }
   ],
   "source": [
    "split = int(len(patient_ids) * SPLIT )\n",
    "train = patient_ids[split:]\n",
    "test = patient_ids[:split]\n",
    "\n",
    "train_gen = generator(train, train_mode=True)\n",
    "test_gen = generator(test, train_mode=False)\n",
    "\n",
    "callbacks = [\n",
    "    ModelCheckpoint(\n",
    "        os.path.join(PATHS['DATA'], 'unet_model'), \n",
    "        save_best_only=True\n",
    "    )\n",
    "]\n",
    "\n",
    "model.fit_generator(\n",
    "    train_gen,\n",
    "    steps_per_epoch=len(train) // BATCH_SIZE + 1, \n",
    "    epochs=10, \n",
    "    verbose=1, \n",
    "#     callbacks=callbacks, \n",
    "#     validation_data=test_gen, \n",
    "#     validation_steps=len(test) // BATCH_SIZE\n",
    ")"
   ]
  },
  {
   "cell_type": "code",
   "execution_count": 142,
   "metadata": {},
   "outputs": [
    {
     "data": {
      "text/plain": [
       "[-0.5924755334854126, 0.5924755334854126]"
      ]
     },
     "execution_count": 142,
     "metadata": {},
     "output_type": "execute_result"
    }
   ],
   "source": [
    "model.evaluate_generator(test_gen, 2)"
   ]
  },
  {
   "cell_type": "code",
   "execution_count": 143,
   "metadata": {},
   "outputs": [
    {
     "name": "stdout",
     "output_type": "stream",
     "text": [
      "Epoch 1/10\n",
      "14/14 [==============================] - 18s 1s/step - loss: -0.5516 - dice_coef: 0.5516\n",
      "Epoch 2/10\n",
      "14/14 [==============================] - 18s 1s/step - loss: -0.5639 - dice_coef: 0.5639\n",
      "Epoch 3/10\n",
      "14/14 [==============================] - 18s 1s/step - loss: -0.5615 - dice_coef: 0.5615\n",
      "Epoch 4/10\n",
      "14/14 [==============================] - 18s 1s/step - loss: -0.5712 - dice_coef: 0.5712\n",
      "Epoch 5/10\n",
      "14/14 [==============================] - 18s 1s/step - loss: -0.5696 - dice_coef: 0.5696\n",
      "Epoch 6/10\n",
      "14/14 [==============================] - 18s 1s/step - loss: -0.5518 - dice_coef: 0.5518\n",
      "Epoch 7/10\n",
      "14/14 [==============================] - 18s 1s/step - loss: -0.5735 - dice_coef: 0.5735\n",
      "Epoch 8/10\n",
      "14/14 [==============================] - 18s 1s/step - loss: -0.5877 - dice_coef: 0.5877\n",
      "Epoch 9/10\n",
      "14/14 [==============================] - 18s 1s/step - loss: -0.5567 - dice_coef: 0.5567\n",
      "Epoch 10/10\n",
      "14/14 [==============================] - 19s 1s/step - loss: -0.4775 - dice_coef: 0.4775\n"
     ]
    },
    {
     "data": {
      "text/plain": [
       "<keras.callbacks.History at 0x7f172c5f4198>"
      ]
     },
     "execution_count": 143,
     "metadata": {},
     "output_type": "execute_result"
    }
   ],
   "source": [
    "split = int(len(patient_ids) * SPLIT )\n",
    "train = patient_ids[split:]\n",
    "test = patient_ids[:split]\n",
    "\n",
    "train_gen = generator(train, train_mode=True)\n",
    "test_gen = generator(test, train_mode=False)\n",
    "\n",
    "callbacks = [\n",
    "    ModelCheckpoint(\n",
    "        os.path.join(PATHS['DATA'], 'unet_model'), \n",
    "        save_best_only=True\n",
    "    )\n",
    "]\n",
    "\n",
    "model.fit_generator(\n",
    "    train_gen,\n",
    "    steps_per_epoch=len(train) // BATCH_SIZE + 1, \n",
    "    epochs=10, \n",
    "    verbose=1, \n",
    "#     callbacks=callbacks, \n",
    "#     validation_data=test_gen, \n",
    "#     validation_steps=len(test) // BATCH_SIZE\n",
    ")"
   ]
  },
  {
   "cell_type": "code",
   "execution_count": 144,
   "metadata": {},
   "outputs": [
    {
     "data": {
      "text/plain": [
       "[-0.5297246128320694, 0.5297246128320694]"
      ]
     },
     "execution_count": 144,
     "metadata": {},
     "output_type": "execute_result"
    }
   ],
   "source": [
    "model.evaluate_generator(test_gen, 2)"
   ]
  },
  {
   "cell_type": "code",
   "execution_count": 145,
   "metadata": {},
   "outputs": [
    {
     "name": "stdout",
     "output_type": "stream",
     "text": [
      "Epoch 1/10\n",
      "14/14 [==============================] - 19s 1s/step - loss: -0.5393 - dice_coef: 0.5393\n",
      "Epoch 2/10\n",
      "14/14 [==============================] - 17s 1s/step - loss: -0.5301 - dice_coef: 0.5301\n",
      "Epoch 3/10\n",
      "14/14 [==============================] - 18s 1s/step - loss: -0.5537 - dice_coef: 0.5537\n",
      "Epoch 4/10\n",
      "14/14 [==============================] - 18s 1s/step - loss: -0.5510 - dice_coef: 0.5510\n",
      "Epoch 5/10\n",
      "14/14 [==============================] - 18s 1s/step - loss: -0.5563 - dice_coef: 0.5563\n",
      "Epoch 6/10\n",
      "14/14 [==============================] - 18s 1s/step - loss: -0.5585 - dice_coef: 0.5585\n",
      "Epoch 7/10\n",
      "14/14 [==============================] - 18s 1s/step - loss: -0.5646 - dice_coef: 0.5646\n",
      "Epoch 8/10\n",
      "14/14 [==============================] - 18s 1s/step - loss: -0.5729 - dice_coef: 0.5729\n",
      "Epoch 9/10\n",
      "14/14 [==============================] - 18s 1s/step - loss: -0.5697 - dice_coef: 0.5697\n",
      "Epoch 10/10\n",
      "14/14 [==============================] - 19s 1s/step - loss: -0.5643 - dice_coef: 0.5643\n"
     ]
    },
    {
     "data": {
      "text/plain": [
       "<keras.callbacks.History at 0x7f179065e2e8>"
      ]
     },
     "execution_count": 145,
     "metadata": {},
     "output_type": "execute_result"
    }
   ],
   "source": [
    "split = int(len(patient_ids) * SPLIT )\n",
    "train = patient_ids[split:]\n",
    "test = patient_ids[:split]\n",
    "\n",
    "train_gen = generator(train, train_mode=True)\n",
    "test_gen = generator(test, train_mode=False)\n",
    "\n",
    "callbacks = [\n",
    "    ModelCheckpoint(\n",
    "        os.path.join(PATHS['DATA'], 'unet_model'), \n",
    "        save_best_only=True\n",
    "    )\n",
    "]\n",
    "\n",
    "model.fit_generator(\n",
    "    train_gen,\n",
    "    steps_per_epoch=len(train) // BATCH_SIZE + 1, \n",
    "    epochs=10, \n",
    "    verbose=1, \n",
    "#     callbacks=callbacks, \n",
    "#     validation_data=test_gen, \n",
    "#     validation_steps=len(test) // BATCH_SIZE\n",
    ")"
   ]
  },
  {
   "cell_type": "code",
   "execution_count": 146,
   "metadata": {},
   "outputs": [
    {
     "data": {
      "text/plain": [
       "[-0.61463364958763123, 0.61463364958763123]"
      ]
     },
     "execution_count": 146,
     "metadata": {},
     "output_type": "execute_result"
    }
   ],
   "source": [
    "model.evaluate_generator(test_gen, 2)"
   ]
  },
  {
   "cell_type": "code",
   "execution_count": 147,
   "metadata": {},
   "outputs": [
    {
     "name": "stdout",
     "output_type": "stream",
     "text": [
      "Epoch 1/10\n",
      "14/14 [==============================] - 19s 1s/step - loss: -0.5710 - dice_coef: 0.5710\n",
      "Epoch 2/10\n",
      "14/14 [==============================] - 18s 1s/step - loss: -0.5689 - dice_coef: 0.5689\n",
      "Epoch 3/10\n",
      "14/14 [==============================] - 18s 1s/step - loss: -0.5840 - dice_coef: 0.5840\n",
      "Epoch 4/10\n",
      "14/14 [==============================] - 18s 1s/step - loss: -0.5666 - dice_coef: 0.5666\n",
      "Epoch 5/10\n",
      "14/14 [==============================] - 18s 1s/step - loss: -0.5695 - dice_coef: 0.5695\n",
      "Epoch 6/10\n",
      "14/14 [==============================] - 17s 1s/step - loss: -0.5673 - dice_coef: 0.5673\n",
      "Epoch 7/10\n",
      "14/14 [==============================] - 18s 1s/step - loss: -0.5465 - dice_coef: 0.5465\n",
      "Epoch 8/10\n",
      "14/14 [==============================] - 18s 1s/step - loss: -0.5386 - dice_coef: 0.5386\n",
      "Epoch 9/10\n",
      "14/14 [==============================] - 18s 1s/step - loss: -0.5456 - dice_coef: 0.5456\n",
      "Epoch 10/10\n",
      "14/14 [==============================] - 19s 1s/step - loss: -0.5384 - dice_coef: 0.5384\n"
     ]
    },
    {
     "data": {
      "text/plain": [
       "<keras.callbacks.History at 0x7f1790671da0>"
      ]
     },
     "execution_count": 147,
     "metadata": {},
     "output_type": "execute_result"
    }
   ],
   "source": [
    "split = int(len(patient_ids) * SPLIT )\n",
    "train = patient_ids[split:]\n",
    "test = patient_ids[:split]\n",
    "\n",
    "train_gen = generator(train, train_mode=True)\n",
    "test_gen = generator(test, train_mode=False)\n",
    "\n",
    "callbacks = [\n",
    "    ModelCheckpoint(\n",
    "        os.path.join(PATHS['DATA'], 'unet_model'), \n",
    "        save_best_only=True\n",
    "    )\n",
    "]\n",
    "\n",
    "model.fit_generator(\n",
    "    train_gen,\n",
    "    steps_per_epoch=len(train) // BATCH_SIZE + 1, \n",
    "    epochs=10, \n",
    "    verbose=1, \n",
    "#     callbacks=callbacks, \n",
    "#     validation_data=test_gen, \n",
    "#     validation_steps=len(test) // BATCH_SIZE\n",
    ")"
   ]
  },
  {
   "cell_type": "code",
   "execution_count": 148,
   "metadata": {},
   "outputs": [
    {
     "data": {
      "text/plain": [
       "[-0.621003657579422, 0.621003657579422]"
      ]
     },
     "execution_count": 148,
     "metadata": {},
     "output_type": "execute_result"
    }
   ],
   "source": [
    "model.evaluate_generator(test_gen, 2)"
   ]
  },
  {
   "cell_type": "code",
   "execution_count": null,
   "metadata": {},
   "outputs": [
    {
     "name": "stdout",
     "output_type": "stream",
     "text": [
      "Epoch 1/10\n",
      "Epoch 1/10\n"
     ]
    }
   ],
   "source": [
    "split = int(len(patient_ids) * SPLIT )\n",
    "train = patient_ids[split:]\n",
    "test = patient_ids[:split]\n",
    "\n",
    "train_gen = generator(train, train_mode=True)\n",
    "test_gen = generator(test, train_mode=False)\n",
    "\n",
    "callbacks = [\n",
    "    ModelCheckpoint(\n",
    "        os.path.join(PATHS['DATA'], 'unet_model'), \n",
    "        save_best_only=True\n",
    "    )\n",
    "]\n",
    "\n",
    "model.fit_generator(\n",
    "    train_gen,\n",
    "    steps_per_epoch=len(train) // BATCH_SIZE + 1, \n",
    "    epochs=10, \n",
    "    verbose=1, \n",
    "#     callbacks=callbacks, \n",
    "#     validation_data=test_gen, \n",
    "#     validation_steps=len(test) // BATCH_SIZE\n",
    ")"
   ]
  },
  {
   "cell_type": "code",
   "execution_count": null,
   "metadata": {},
   "outputs": [],
   "source": []
  }
 ],
 "metadata": {
  "kernelspec": {
   "display_name": "Environment (conda_tensorflow_p36)",
   "language": "python",
   "name": "conda_tensorflow_p36"
  },
  "language_info": {
   "codemirror_mode": {
    "name": "ipython",
    "version": 3
   },
   "file_extension": ".py",
   "mimetype": "text/x-python",
   "name": "python",
   "nbconvert_exporter": "python",
   "pygments_lexer": "ipython3",
   "version": "3.6.3"
  }
 },
 "nbformat": 4,
 "nbformat_minor": 2
}
