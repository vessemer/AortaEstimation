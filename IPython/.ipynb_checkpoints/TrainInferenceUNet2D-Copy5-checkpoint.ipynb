{
 "cells": [
  {
   "cell_type": "code",
   "execution_count": 75,
   "metadata": {},
   "outputs": [],
   "source": [
    "% matplotlib inline\n",
    "\n",
    "import matplotlib.pyplot as plt\n",
    "import seaborn\n",
    "seaborn.set_style('white')\n",
    "\n",
    "from mpl_toolkits.mplot3d.art3d import Poly3DCollection"
   ]
  },
  {
   "cell_type": "code",
   "execution_count": 2,
   "metadata": {},
   "outputs": [
    {
     "name": "stderr",
     "output_type": "stream",
     "text": [
      "Using TensorFlow backend.\n",
      "/home/ubuntu/anaconda3/envs/tensorflow_p36/lib/python3.6/importlib/_bootstrap.py:219: RuntimeWarning: compiletime version 3.5 of module 'tensorflow.python.framework.fast_tensor_util' does not match runtime version 3.6\n",
      "  return f(*args, **kwds)\n"
     ]
    }
   ],
   "source": [
    "from glob import glob \n",
    "import os\n",
    "from tqdm import tqdm_notebook as tqdm \n",
    "from itertools import product\n",
    "\n",
    "import numpy as np\n",
    "import scipy.ndimage\n",
    "import cv2\n",
    "from multiprocessing import Pool\n",
    "\n",
    "import sys\n",
    "sys.path.append('../scripts')\n",
    "sys.path.append('../nets')\n",
    "import load_utils\n",
    "import watereshed\n",
    "import generator_3D\n",
    "import unet\n",
    "\n",
    "from keras.callbacks import ModelCheckpoint\n",
    "import pandas as pd\n",
    "\n",
    "import warnings\n",
    "warnings.filterwarnings('ignore')\n",
    "\n",
    "\n",
    "from skimage import measure\n",
    "from skimage.morphology import convex_hull_image\n",
    "\n",
    "import pickle\n",
    "from skimage.measure import regionprops"
   ]
  },
  {
   "cell_type": "code",
   "execution_count": 3,
   "metadata": {},
   "outputs": [],
   "source": [
    "PATHS = {\n",
    "    'DATA': '/home/ubuntu/cdata/DM_Data/RIII',\n",
    "    'DESC': '/home/ubuntu/cdata/DM_Data/REPRISEIIISizes.xlsx'\n",
    "}\n",
    "\n",
    "\n",
    "SIDE = 224\n",
    "BATCH_SIZE = 32\n",
    "SPLIT = .15"
   ]
  },
  {
   "cell_type": "code",
   "execution_count": 4,
   "metadata": {},
   "outputs": [],
   "source": [
    "def load(path, random=True, standardize=True):\n",
    "    if os.path.basename(os.path.dirname(path)) == 'raw':\n",
    "        patches = glob(os.path.join(path, 'patch*.npy'))\n",
    "        patch = np.load(patches[np.random.randint(len(patches))])\n",
    "        if standardize:\n",
    "\n",
    "            return np.dstack([\n",
    "                scipy.ndimage.zoom(patch[..., 0], .7),\n",
    "                scipy.ndimage.zoom(patch[..., -1], .7, order=0)\n",
    "            ])\n",
    "        \n",
    "        return patch\n",
    "    \n",
    "    patch = np.load(os.path.join(path, 'patch.npy'))\n",
    "    if random:\n",
    "        return patch[np.random.randint(len(patch))]\n",
    "    return patch[0]"
   ]
  },
  {
   "cell_type": "code",
   "execution_count": 5,
   "metadata": {},
   "outputs": [],
   "source": [
    "def preprocess_test(patch):\n",
    "    window = min(patch.shape[1], int(1.7 * SIDE))\n",
    "    point = np.array(patch.shape) // 2 - window // 2\n",
    "    point = np.clip(point, 0, np.array(patch.shape) - window)\n",
    "    patch = patch[\n",
    "        point[0]: point[0] + window, \n",
    "        point[1]: point[1] + window\n",
    "    ]\n",
    "\n",
    "    clip = cv2.resize(patch, dsize=(SIDE, SIDE))\n",
    "    return clip\n",
    "\n",
    "\n",
    "def preprocess_val(patch):\n",
    "    window = min(patch.shape[1], int(1.7 * SIDE))\n",
    "    point = np.array(patch.shape[:-1]) // 2 - window // 2\n",
    "    point = np.clip(point, 0, np.array(patch.shape[:-1]) - window)\n",
    "    \n",
    "    patch = patch[\n",
    "        point[0]: point[0] + window, \n",
    "        point[1]: point[1] + window\n",
    "    ]\n",
    "\n",
    "    return np.dstack([\n",
    "        scipy.ndimage.zoom(patch[..., 0], SIDE / patch.shape[0]),\n",
    "        scipy.ndimage.zoom(patch[..., -1], SIDE / patch.shape[0], order=0)\n",
    "    ])\n",
    "\n",
    "\n",
    "def preprocess_train(patch):\n",
    "    if np.random.randint(2):\n",
    "        patch = np.flip(patch, 0)\n",
    "    \n",
    "    if np.random.randint(2):\n",
    "        patch = np.flip(patch, 1)\n",
    "    \n",
    "    if np.random.randint(3):\n",
    "        shift = np.random.uniform(-.2, .2, size=2)\n",
    "        shift *= np.array(patch.shape[:2])\n",
    "        patch = np.dstack([\n",
    "            scipy.ndimage.shift(patch[..., 0], shift),\n",
    "            scipy.ndimage.shift(patch[..., -1], shift, order=0)\n",
    "        ])\n",
    "        \n",
    "    if np.random.randint(3):\n",
    "        rotate = np.random.uniform(-40, 40)\n",
    "        patch = np.dstack([\n",
    "            scipy.ndimage.rotate(patch[..., :-1], rotate),\n",
    "            scipy.ndimage.rotate(patch[..., -1:], rotate, order=0)\n",
    "        ])\n",
    "    \n",
    "    scale = np.random.uniform(.5, 1.5)\n",
    "    window = min(min(patch.shape[:-1]), int(SIDE * scale))\n",
    "    if np.count_nonzero(patch[..., 1]):\n",
    "        coords = np.array(np.where(patch[..., 1]))\n",
    "        cmin, cmax = coords.min(1) - window, coords.max(1)\n",
    "        point = np.array([\n",
    "            np.random.randint(cmin[0], cmax[0]),\n",
    "            np.random.randint(cmin[1], cmax[1])\n",
    "        ])\n",
    "    else:\n",
    "        point = np.random.randint(0, min(patch.shape[:-1]) - window + 1)\n",
    "    point = np.clip(point, 0, np.array(patch.shape[:-1]) - window)\n",
    "    \n",
    "    patch = patch[\n",
    "        point[0]: point[0] + window, \n",
    "        point[1]: point[1] + window\n",
    "    ]\n",
    "\n",
    "    return np.dstack([\n",
    "        scipy.ndimage.zoom(patch[..., 0], SIDE / patch.shape[0]),\n",
    "        scipy.ndimage.zoom(patch[..., -1], SIDE / patch.shape[0], order=0)\n",
    "    ])"
   ]
  },
  {
   "cell_type": "code",
   "execution_count": 6,
   "metadata": {},
   "outputs": [],
   "source": [
    "def eval_generator(patient, batch_size=BATCH_SIZE):\n",
    "    for i in range(len(patient) // batch_size + 1):\n",
    "        batch = patient[i * batch_size: (i + 1) * batch_size]\n",
    "        processed = list(map(preprocess_val, batch))\n",
    "        processed = np.array(processed)\n",
    "        yield (np.expand_dims(processed[..., 0], -1) + 199.) / 461., np.expand_dims(processed[..., 1], -1) > 0\n",
    "        \n",
    "\n",
    "def test_generator(patient, train_mode=False, batch_size=BATCH_SIZE):\n",
    "    for i in range(len(patient) // batch_size + 1):\n",
    "        batch = patient[i * batch_size: (i + 1) * batch_size]\n",
    "        processed = list(map(preprocess_test, batch))\n",
    "        processed = np.array(processed)\n",
    "        yield (np.expand_dims(processed, -1) + 199.) / 461.\n",
    "        \n",
    "\n",
    "def generator(paths, train_mode=False, batch_size=BATCH_SIZE, shuffle_coef=.7):\n",
    "    while True:\n",
    "        paths = [\n",
    "            os.path.join(\n",
    "                os.path.dirname(os.path.dirname(path)), \n",
    "                os.path.basename(path)\n",
    "            ) \n",
    "            if os.path.basename(os.path.dirname(path)) == 'raw'\n",
    "            else path\n",
    "            for path in paths\n",
    "        ]\n",
    "        if train_mode:\n",
    "            np.random.shuffle(paths)\n",
    "            paths = [\n",
    "                os.path.join(os.path.dirname(path), 'raw', os.path.basename(path)) \n",
    "                if shuffle_coef * len(paths) >= i \n",
    "                else path \n",
    "                for i, path in enumerate(paths)\n",
    "            ]\n",
    "            np.random.shuffle(paths)\n",
    "            \n",
    "        for i in range(len(paths) // batch_size + 1):\n",
    "            batch = paths[i * batch_size: (i + 1) * batch_size]\n",
    "            with Pool(4) as pool:\n",
    "                processed = pool.map(load, batch)\n",
    "\n",
    "            if train_mode:\n",
    "                with Pool(14) as pool:\n",
    "                    processed = pool.map(preprocess_train, processed)\n",
    "            else:\n",
    "                with Pool(14) as pool:\n",
    "                    processed = pool.map(preprocess_val, processed)\n",
    "            processed = np.array(processed)\n",
    "            yield (np.expand_dims(processed[..., 0], -1) + 199.) / 461., np.expand_dims(processed[..., 1], -1) > 0"
   ]
  },
  {
   "cell_type": "code",
   "execution_count": 7,
   "metadata": {},
   "outputs": [],
   "source": [
    "valve_df = pd.read_csv('../valve.csv')\n",
    "labels_df = pd.read_excel('../../DM_Data/REPRISE III Sizes.xlsx')\n",
    "test = valve_df.seriesuid.isin(labels_df['Subject name or identifier'])\n",
    "paths = valve_df.seriesuid.apply(lambda x: os.path.join(PATHS['DATA'], x)).values\n",
    "train = paths[True - test]\n",
    "test = paths[test]\n",
    "zis_paths = {os.path.basename(path): os.path.join(path, 'zis.npy') for path in paths}\n",
    "prods_paths = {os.path.basename(path): os.path.join(path, 'prods.npy') for path in paths}"
   ]
  },
  {
   "cell_type": "code",
   "execution_count": 8,
   "metadata": {},
   "outputs": [],
   "source": [
    "from IPython.display import clear_output"
   ]
  },
  {
   "cell_type": "code",
   "execution_count": 9,
   "metadata": {},
   "outputs": [],
   "source": [
    "valve_df['flipped'] = False"
   ]
  },
  {
   "cell_type": "code",
   "execution_count": 19,
   "metadata": {},
   "outputs": [
    {
     "data": {
      "text/plain": [
       "[186]"
      ]
     },
     "execution_count": 19,
     "metadata": {},
     "output_type": "execute_result"
    }
   ],
   "source": [
    "[i for i, el in enumerate(paths[:]) if el == path]"
   ]
  },
  {
   "cell_type": "code",
   "execution_count": null,
   "metadata": {},
   "outputs": [],
   "source": [
    "['0938R3006'] - 1\n",
    "['0261R3002'] - 1\n",
    "['1649R3011'] - 1\n",
    "['0127R3138'] - 0\n",
    "['0127R3017'] - 1\n",
    "['0841R3005'] - 1\n",
    "['0159R3004'] - 1\n",
    "['1019R3003'] - 1\n",
    "['0127R3068'] - 1\n",
    "['0841R3062'] - 1"
   ]
  },
  {
   "cell_type": "code",
   "execution_count": 21,
   "metadata": {
    "scrolled": false
   },
   "outputs": [
    {
     "name": "stdout",
     "output_type": "stream",
     "text": [
      "\n"
     ]
    }
   ],
   "source": [
    "for pidx, path in tqdm(enumerate(paths[186:])):\n",
    "    print(path)\n",
    "    print(pidx)\n",
    "    patient, meta = load_utils.load_patient(PATHS['DATA'],  os.path.basename(path), metadata=True)\n",
    "    row = labels_df[labels_df['Subject name or identifier'] == os.path.basename(path)]\n",
    "    fact = meta['PixSpac']\n",
    "\n",
    "    mask = glob(os.path.join(PATHS['DATA'], os.path.basename(path), '*_A.stl'))\n",
    "    mask = load_utils.load_mesh(mask[0], meta) \n",
    "    mask = np.expand_dims(mask, -1)\n",
    "    mask = mask[..., 0]\n",
    "    \n",
    "    x, y = np.asarray(np.where(mask))[[0, 2]]\n",
    "    z = np.polyfit(x, y, 2)\n",
    "    p = np.poly1d(z)\n",
    "\n",
    "    init_d = p.deriv()\n",
    "    opt = p(init_d.roots)\n",
    "    \n",
    "    prods = np.load(prods_paths[os.path.basename(path)]) / np.expand_dims(fact, -1)\n",
    "    idx0, idx1 = valve_df[\n",
    "        valve_df.seriesuid == os.path.basename(path)\n",
    "    ][['idx0', 'idx1']].values[0]\n",
    "    \n",
    "    plt.imshow(mask.sum(1))\n",
    "    plt.scatter(prods[idx0].mean(1)[2], prods[idx0].mean(1)[0]);\n",
    "    plt.scatter(prods[idx1].mean(1)[2], prods[idx1].mean(1)[0]);\n",
    "    plt.show()\n",
    "    \n",
    "    flipped = np.abs(p(x.min()) - opt) > np.abs(p(x.max()) - opt)\n",
    "    if flipped:\n",
    "        valve_df.loc[valve_df.seriesuid == os.path.basename(path), 'flipped'] = True\n",
    "        mask = np.flip(mask, 0)\n",
    "        patient = np.flip(patient, 0)\n",
    "\n",
    "    plt.imshow(mask.sum(1))\n",
    "    plt.scatter(prods[idx0].mean(1)[2], prods[idx0].mean(1)[0]);\n",
    "    plt.scatter(prods[idx1].mean(1)[2], prods[idx1].mean(1)[0]);\n",
    "    plt.show()\n",
    "\n",
    "    cpred = np.zeros_like(mask)\n",
    "    for i in range(idx0, idx1):\n",
    "        coords = np.array([prods[i][0], prods[i][1], prods[i][2]])\n",
    "        coords = np.clip(coords.T, 0, np.array(mask.shape) - 1)\n",
    "        coords = np.round(coords).astype(np.int).T\n",
    "        coords = tuple(c for c in coords)\n",
    "        cpred[coords] = mask[coords]\n",
    "\n",
    "    cpred = scipy.ndimage.binary_closing(cpred, iterations=15) & mask\n",
    "\n",
    "    plt.imshow(cpred.sum(1))\n",
    "    plt.show()\n",
    "\n",
    "    try: \n",
    "        os.mkdir(os.path.join('/home/ubuntu/edata/', os.path.basename(path)))\n",
    "    except:\n",
    "        pass\n",
    "    np.save(os.path.join('/home/ubuntu/edata/', os.path.basename(path), 'valve_mask'), cpred)\n",
    "    clear_output()"
   ]
  },
  {
   "cell_type": "code",
   "execution_count": 71,
   "metadata": {},
   "outputs": [],
   "source": [
    "valve_df.to_csv('../valve__.csv')"
   ]
  },
  {
   "cell_type": "code",
   "execution_count": 53,
   "metadata": {},
   "outputs": [
    {
     "data": {
      "image/png": "[encoded data removed]",
      "text/plain": [
       "<matplotlib.figure.Figure at 0x7f6c821a20f0>"
      ]
     },
     "metadata": {},
     "output_type": "display_data"
    }
   ],
   "source": [
    "bins, vals, _ = plt.hist(\n",
    "    patient[\n",
    "        :mask.shape[0], \n",
    "        :mask.shape[1], \n",
    "        :mask.shape[2]\n",
    "    ][mask[:patient.shape[0], :patient.shape[1], :patient.shape[2]]], \n",
    "    100\n",
    ")"
   ]
  },
  {
   "cell_type": "code",
   "execution_count": 72,
   "metadata": {
    "scrolled": false
   },
   "outputs": [
    {
     "name": "stdout",
     "output_type": "stream",
     "text": [
      "\n"
     ]
    }
   ],
   "source": [
    "for pidx, path in tqdm(enumerate(paths)):\n",
    "    print(path)\n",
    "    print(pidx)\n",
    "    patient, meta = load_utils.load_patient(PATHS['DATA'],  os.path.basename(path), metadata=True)\n",
    "    row = labels_df[labels_df['Subject name or identifier'] == os.path.basename(path)]\n",
    "    fact = meta['PixSpac']\n",
    "\n",
    "    mask = glob(os.path.join(PATHS['DATA'], os.path.basename(path), '*_A.stl'))\n",
    "    mask = load_utils.load_mesh(mask[0], meta) \n",
    "    mask = np.expand_dims(mask, -1)\n",
    "    mask = mask[..., 0]\n",
    "    \n",
    "    patient = scipy.ndimage.zoom(patient, fact, order=3)\n",
    "    mask = scipy.ndimage.zoom(mask, fact, order=0)\n",
    "    \n",
    "    prods = np.load(prods_paths[os.path.basename(path)])\n",
    "    idx0, idx1 = valve_df[\n",
    "        valve_df.seriesuid == os.path.basename(path)\n",
    "    ][['idx0', 'idx1']].values[0]\n",
    "    \n",
    "    plt.imshow(mask.sum(1))\n",
    "    plt.scatter(prods[idx0].mean(1)[2], prods[idx0].mean(1)[0]);\n",
    "    plt.scatter(prods[idx1].mean(1)[2], prods[idx1].mean(1)[0]);\n",
    "    plt.show()\n",
    "    \n",
    "    flipped = valve_df.loc[valve_df.seriesuid == os.path.basename(path), 'flipped'].values[0]\n",
    "    if flipped:\n",
    "        mask = np.flip(mask, 0)\n",
    "        patient = np.flip(patient, 0)\n",
    "\n",
    "    plt.imshow(mask.sum(1))\n",
    "    plt.scatter(prods[idx0].mean(1)[2], prods[idx0].mean(1)[0]);\n",
    "    plt.scatter(prods[idx1].mean(1)[2], prods[idx1].mean(1)[0]);\n",
    "    plt.show()\n",
    "    \n",
    "    bins, vals, _ = plt.hist(\n",
    "        patient[\n",
    "            :mask.shape[0], \n",
    "            :mask.shape[1], \n",
    "            :mask.shape[2]\n",
    "        ][mask[:patient.shape[0], :patient.shape[1], :patient.shape[2]]], \n",
    "        100\n",
    "    )\n",
    "\n",
    "    plt.show()\n",
    "    \n",
    "    cpred = np.zeros_like(mask)\n",
    "    for i in range(idx0, idx1):\n",
    "        coords = np.array([prods[i][0], prods[i][1], prods[i][2]])\n",
    "        coords = np.clip(coords.T, 0, np.array(mask.shape) - 1)\n",
    "        coords = np.round(coords).astype(np.int).T\n",
    "        coords = tuple(c for c in coords)\n",
    "        cpred[coords] = mask[coords]\n",
    "\n",
    "    cpred = scipy.ndimage.binary_closing(cpred, iterations=15) & mask\n",
    "\n",
    "    plt.imshow(cpred.sum(1))\n",
    "    plt.show()\n",
    "    \n",
    "    \n",
    "    \n",
    "    try: \n",
    "        os.mkdir(os.path.join('/home/ubuntu/edata/', os.path.basename(path)))\n",
    "    except:\n",
    "        pass\n",
    "\n",
    "    cdilated = mask * scipy.ndimage.binary_dilation(cpred, iterations=15)\n",
    "    np.save(os.path.join('/home/ubuntu/edata/', os.path.basename(path), 'valve_mask'), cpred)\n",
    "    np.save(os.path.join('/home/ubuntu/edata/', os.path.basename(path), 'valve_mask_dilated'), cdilated)\n",
    "    \n",
    "    np.save(os.path.join('/home/ubuntu/edata/', os.path.basename(path), 'mask'), mask)\n",
    "    np.save(os.path.join('/home/ubuntu/edata/', os.path.basename(path), 'patient'), patient)\n",
    "    np.save(os.path.join('/home/ubuntu/edata/', os.path.basename(path), 'bins'), bins)\n",
    "    np.save(os.path.join('/home/ubuntu/edata/', os.path.basename(path), 'vals'), vals)\n",
    "    np.save(os.path.join('/home/ubuntu/edata/', os.path.basename(path), 'vals'), vals)\n",
    "    \n",
    "    clear_output()"
   ]
  },
  {
   "cell_type": "code",
   "execution_count": 63,
   "metadata": {
    "scrolled": true
   },
   "outputs": [
    {
     "data": {
      "text/plain": [
       "<matplotlib.image.AxesImage at 0x7f6c81a9cfd0>"
      ]
     },
     "execution_count": 63,
     "metadata": {},
     "output_type": "execute_result"
    },
    {
     "data": {
      "image/png": "[encoded data removed]",
      "text/plain": [
       "<matplotlib.figure.Figure at 0x7f6c81c1eda0>"
      ]
     },
     "metadata": {},
     "output_type": "display_data"
    }
   ],
   "source": [
    "plt.imshow(((patient[\n",
    "            :mask.shape[0], \n",
    "            :mask.shape[1], \n",
    "            :mask.shape[2]\n",
    "        ] * mask[:patient.shape[0], :patient.shape[1], :patient.shape[2]] \n",
    "             * scipy.ndimage.binary_dilation(cpred[:patient.shape[0], :patient.shape[1], :patient.shape[2]], iterations=15)) > 800).sum(1))"
   ]
  },
  {
   "cell_type": "markdown",
   "metadata": {},
   "source": [
    "# Train"
   ]
  },
  {
   "cell_type": "code",
   "execution_count": 25,
   "metadata": {},
   "outputs": [
    {
     "data": {
      "text/plain": [
       "(492, 512, 512)"
      ]
     },
     "execution_count": 25,
     "metadata": {},
     "output_type": "execute_result"
    }
   ],
   "source": [
    "patient.shape"
   ]
  },
  {
   "cell_type": "code",
   "execution_count": null,
   "metadata": {},
   "outputs": [],
   "source": [
    "cval = -0.923\n",
    "NUM = 300\n",
    "for i in range(NUM):\n",
    "    train_gen = generator(train, train_mode=True)\n",
    "\n",
    "    model.fit_generator(\n",
    "        train_gen,\n",
    "        steps_per_epoch= 10 * len(train) // BATCH_SIZE + 1, \n",
    "        verbose=1, \n",
    "    )\n",
    "\n",
    "    test_gen = generator(test, train_mode=False)\n",
    "    valeval = model.evaluate_generator(test_gen, 3)\n",
    "\n",
    "    print('Iteration %s/%s \\n val dice: %s'%(i, NUM, valeval[0]))\n",
    "    if valeval[0] < cval:\n",
    "        cval = valeval[0]\n",
    "        model.save(os.path.join(PATHS['DATA'], 'unet_model'))\n",
    "        print('-' * 50)"
   ]
  },
  {
   "cell_type": "code",
   "execution_count": null,
   "metadata": {},
   "outputs": [],
   "source": [
    "model.save(os.path.join(PATHS['DATA'], '__unet_model__'))"
   ]
  },
  {
   "cell_type": "markdown",
   "metadata": {},
   "source": [
    "# Inference"
   ]
  },
  {
   "cell_type": "code",
   "execution_count": 11,
   "metadata": {},
   "outputs": [],
   "source": [
    "model = unet.get_unet(224, 224)\n",
    "model.load_weights(os.path.join(PATHS['DATA'], 'unet_model'))"
   ]
  },
  {
   "cell_type": "code",
   "execution_count": 13,
   "metadata": {},
   "outputs": [],
   "source": [
    "def postprocess_test(pred, patient):\n",
    "    window = min(patient.shape[1], int(1.7 * SIDE))\n",
    "    \n",
    "    pred = scipy.ndimage.zoom(pred > .5, [1, window / SIDE, window / SIDE], order=0)\n",
    "    \n",
    "    point = np.array(patient.shape[1:3]) // 2 - window // 2\n",
    "    point = np.clip(point, 0, np.array(patient.shape[1:3]) - window)\n",
    "    return np.pad(pred, [[0, 0], point[[0, 0]], point[[1, 1]]], mode='constant')"
   ]
  },
  {
   "cell_type": "code",
   "execution_count": 468,
   "metadata": {
    "scrolled": true
   },
   "outputs": [
    {
     "name": "stdout",
     "output_type": "stream",
     "text": [
      "DIAMETER:  265    25 mm\n",
      "Name: Valve Size (Model number), dtype: object\n",
      "(492, 512, 512)\n",
      "SamPix :  1\n",
      "Rows :  512\n",
      "PixSpac :  [ 0.25  0.43  0.43]\n",
      "ResSlo :  1.0\n",
      "WinWid :  600.0\n",
      "ResInt :  0.0\n",
      "SliceLoc :  126.5\n",
      "Columns :  512\n",
      "ImagePosPat :  [ 1060.5     -126.3473  -109.9411]\n",
      "ImageOriPat :  [ 1.  0.  0.  0.  1.  0.]\n",
      "WinCen :  80.0\n",
      "SliceThickness :  0.25\n",
      "Shape :  [492 512 512]\n",
      "(123, 220, 220)\n"
     ]
    }
   ],
   "source": [
    "fd = pd.read_excel('../../DM_Data/REPRISE III Sizes.xlsx')\n",
    "ctest = [t for t in test if (fd['Subject name or identifier'] == os.path.basename(t)).sum()]\n",
    "\n",
    "\n",
    "test_idx = 25\n",
    "patient, meta = load_utils.load_patient(PATHS['DATA'], os.path.basename(ctest[test_idx]), metadata=True)\n",
    "row = fd[fd['Subject name or identifier'] == os.path.basename(ctest[test_idx])]\n",
    "print('DIAMETER: ', row['Valve Size (Model number)'])\n",
    "print(patient.shape)\n",
    "for key, el in meta.items():\n",
    "    if key != 'dat':\n",
    "        print(key, ': ', el)\n",
    "fact = meta['PixSpac']\n",
    "\n",
    "test_gen = test_generator(patient)\n",
    "arr = np.concatenate([next(test_gen) for i in range(len(patient) // BATCH_SIZE + 1)])\n",
    "test_gen = test_generator(patient)\n",
    "p = model.predict_generator(test_gen, len(patient) // BATCH_SIZE + 1)\n",
    "test_gen = test_generator(np.flip(patient, 1))\n",
    "p1 = model.predict_generator(test_gen, len(patient) // BATCH_SIZE + 1)\n",
    "test_gen = test_generator(np.flip(patient, 2))\n",
    "p2 = model.predict_generator(test_gen, len(patient) // BATCH_SIZE + 1)\n",
    "test_gen = test_generator(np.flip(np.flip(patient, 1), 2))\n",
    "p3 = model.predict_generator(test_gen, len(patient) // BATCH_SIZE + 1)\n",
    "\n",
    "\n",
    "pred = np.mean(\n",
    "    np.stack([\n",
    "        p, \n",
    "        np.flip(p1, 1), \n",
    "        np.flip(p2, 2), \n",
    "        np.flip(np.flip(p3, 1), 2)\n",
    "    ], -1), \n",
    "    -1\n",
    ")\n",
    "\n",
    "pred = postprocess_test(pred[..., 0] > .5, patient)\n",
    "patient = scipy.ndimage.zoom(patient, fact, order=3)\n",
    "pred = scipy.ndimage.zoom(pred, fact, order=0)\n",
    "\n",
    "print(patient.shape)"
   ]
  },
  {
   "cell_type": "code",
   "execution_count": 469,
   "metadata": {
    "scrolled": false
   },
   "outputs": [
    {
     "data": {
      "image/png": "[encoded data removed]",
      "text/plain": [
       "<matplotlib.figure.Figure at 0x7ff87b7d4320>"
      ]
     },
     "metadata": {},
     "output_type": "display_data"
    },
    {
     "data": {
      "image/png": "[encoded data removed]",
      "text/plain": [
       "<matplotlib.figure.Figure at 0x7ff86eee87b8>"
      ]
     },
     "metadata": {},
     "output_type": "display_data"
    }
   ],
   "source": [
    "lpred, _ = scipy.ndimage.label(pred > .5)\n",
    "idx = np.argmax(np.bincount(lpred.flatten())[1:]) + 1\n",
    "lpred[lpred != idx] = 0\n",
    "lpred = scipy.ndimage.binary_closing(lpred, iterations=5)\n",
    "\n",
    "x, y = np.asarray(np.where(lpred))[[0, 2]]\n",
    "z = np.polyfit(x, y, 2)\n",
    "p = np.poly1d(z)\n",
    "\n",
    "init_d = p.deriv()\n",
    "opt = p(init_d.roots)\n",
    "flipped = False\n",
    "if np.abs(p(x.min()) - opt) > np.abs(p(x.max()) - opt):\n",
    "    flipped = True\n",
    "    patient = np.flip(patient, 0)\n",
    "    lpred = np.flip(lpred, 0)\n",
    "    pred = np.flip(pred, 0)\n",
    "    x, y = np.asarray(np.where(lpred))[[0, 2]]\n",
    "    z = np.polyfit(x, y, 2)\n",
    "    p = np.poly1d(z)\n",
    "\n",
    "summedx = (lpred).sum(1).astype(np.float)\n",
    "plt.imshow(summedx)\n",
    "\n",
    "xp = np.linspace(x.min(), x.max(), 100)\n",
    "plt.plot(p(xp), xp, '-');\n",
    "plt.show()\n",
    "\n",
    "plt.imshow((lpred).sum(2).astype(np.float))\n",
    "\n",
    "cx, cy = np.asarray(np.where(lpred))[[0, 1]]\n",
    "cz = np.polyfit(cx, cy, 1)\n",
    "cp = np.poly1d(cz)\n",
    "\n",
    "cxp = np.linspace(cx.min(), cx.max(), 100)\n",
    "plt.plot(cp(cxp), cxp, '-');"
   ]
  },
  {
   "cell_type": "code",
   "execution_count": 62,
   "metadata": {},
   "outputs": [
    {
     "ename": "ResourceExhaustedError",
     "evalue": "OOM when allocating tensor with shape[32,224,224,32]\n\t [[Node: conv2d_1/convolution = Conv2D[T=DT_FLOAT, data_format=\"NHWC\", padding=\"SAME\", strides=[1, 1, 1, 1], use_cudnn_on_gpu=true, _device=\"/job:localhost/replica:0/task:0/device:GPU:0\"](_arg_input_1_0_0/_289, conv2d_1/kernel/read)]]\n\t [[Node: conv2d_19/Sigmoid/_291 = _Recv[client_terminated=false, recv_device=\"/job:localhost/replica:0/task:0/device:CPU:0\", send_device=\"/job:localhost/replica:0/task:0/device:GPU:0\", send_device_incarnation=1, tensor_name=\"edge_322_conv2d_19/Sigmoid\", tensor_type=DT_FLOAT, _device=\"/job:localhost/replica:0/task:0/device:CPU:0\"]()]]\n\nCaused by op 'conv2d_1/convolution', defined at:\n  File \"/home/ubuntu/anaconda3/envs/tensorflow_p36/lib/python3.6/runpy.py\", line 193, in _run_module_as_main\n    \"__main__\", mod_spec)\n  File \"/home/ubuntu/anaconda3/envs/tensorflow_p36/lib/python3.6/runpy.py\", line 85, in _run_code\n    exec(code, run_globals)\n  File \"/home/ubuntu/anaconda3/envs/tensorflow_p36/lib/python3.6/site-packages/ipykernel/__main__.py\", line 3, in <module>\n    app.launch_new_instance()\n  File \"/home/ubuntu/anaconda3/envs/tensorflow_p36/lib/python3.6/site-packages/traitlets/config/application.py\", line 658, in launch_instance\n    app.start()\n  File \"/home/ubuntu/anaconda3/envs/tensorflow_p36/lib/python3.6/site-packages/ipykernel/kernelapp.py\", line 478, in start\n    self.io_loop.start()\n  File \"/home/ubuntu/anaconda3/envs/tensorflow_p36/lib/python3.6/site-packages/zmq/eventloop/ioloop.py\", line 177, in start\n    super(ZMQIOLoop, self).start()\n  File \"/home/ubuntu/anaconda3/envs/tensorflow_p36/lib/python3.6/site-packages/tornado/ioloop.py\", line 888, in start\n    handler_func(fd_obj, events)\n  File \"/home/ubuntu/anaconda3/envs/tensorflow_p36/lib/python3.6/site-packages/tornado/stack_context.py\", line 277, in null_wrapper\n    return fn(*args, **kwargs)\n  File \"/home/ubuntu/anaconda3/envs/tensorflow_p36/lib/python3.6/site-packages/zmq/eventloop/zmqstream.py\", line 440, in _handle_events\n    self._handle_recv()\n  File \"/home/ubuntu/anaconda3/envs/tensorflow_p36/lib/python3.6/site-packages/zmq/eventloop/zmqstream.py\", line 472, in _handle_recv\n    self._run_callback(callback, msg)\n  File \"/home/ubuntu/anaconda3/envs/tensorflow_p36/lib/python3.6/site-packages/zmq/eventloop/zmqstream.py\", line 414, in _run_callback\n    callback(*args, **kwargs)\n  File \"/home/ubuntu/anaconda3/envs/tensorflow_p36/lib/python3.6/site-packages/tornado/stack_context.py\", line 277, in null_wrapper\n    return fn(*args, **kwargs)\n  File \"/home/ubuntu/anaconda3/envs/tensorflow_p36/lib/python3.6/site-packages/ipykernel/kernelbase.py\", line 281, in dispatcher\n    return self.dispatch_shell(stream, msg)\n  File \"/home/ubuntu/anaconda3/envs/tensorflow_p36/lib/python3.6/site-packages/ipykernel/kernelbase.py\", line 232, in dispatch_shell\n    handler(stream, idents, msg)\n  File \"/home/ubuntu/anaconda3/envs/tensorflow_p36/lib/python3.6/site-packages/ipykernel/kernelbase.py\", line 397, in execute_request\n    user_expressions, allow_stdin)\n  File \"/home/ubuntu/anaconda3/envs/tensorflow_p36/lib/python3.6/site-packages/ipykernel/ipkernel.py\", line 208, in do_execute\n    res = shell.run_cell(code, store_history=store_history, silent=silent)\n  File \"/home/ubuntu/anaconda3/envs/tensorflow_p36/lib/python3.6/site-packages/ipykernel/zmqshell.py\", line 533, in run_cell\n    return super(ZMQInteractiveShell, self).run_cell(*args, **kwargs)\n  File \"/home/ubuntu/anaconda3/envs/tensorflow_p36/lib/python3.6/site-packages/IPython/core/interactiveshell.py\", line 2728, in run_cell\n    interactivity=interactivity, compiler=compiler, result=result)\n  File \"/home/ubuntu/anaconda3/envs/tensorflow_p36/lib/python3.6/site-packages/IPython/core/interactiveshell.py\", line 2850, in run_ast_nodes\n    if self.run_code(code, result):\n  File \"/home/ubuntu/anaconda3/envs/tensorflow_p36/lib/python3.6/site-packages/IPython/core/interactiveshell.py\", line 2910, in run_code\n    exec(code_obj, self.user_global_ns, self.user_ns)\n  File \"<ipython-input-60-ef3e642a66e9>\", line 1, in <module>\n    model = unet.get_unet(224, 224)\n  File \"../nets/unet.py\", line 21, in get_unet\n    conv1 = Conv2D(32, (3, 3), activation='relu', padding='same')(inputs)\n  File \"/home/ubuntu/anaconda3/envs/tensorflow_p36/lib/python3.6/site-packages/keras/engine/topology.py\", line 603, in __call__\n    output = self.call(inputs, **kwargs)\n  File \"/home/ubuntu/anaconda3/envs/tensorflow_p36/lib/python3.6/site-packages/keras/layers/convolutional.py\", line 164, in call\n    dilation_rate=self.dilation_rate)\n  File \"/home/ubuntu/anaconda3/envs/tensorflow_p36/lib/python3.6/site-packages/keras/backend/tensorflow_backend.py\", line 3195, in conv2d\n    data_format=tf_data_format)\n  File \"/home/ubuntu/anaconda3/envs/tensorflow_p36/lib/python3.6/site-packages/tensorflow/python/ops/nn_ops.py\", line 751, in convolution\n    return op(input, filter)\n  File \"/home/ubuntu/anaconda3/envs/tensorflow_p36/lib/python3.6/site-packages/tensorflow/python/ops/nn_ops.py\", line 835, in __call__\n    return self.conv_op(inp, filter)\n  File \"/home/ubuntu/anaconda3/envs/tensorflow_p36/lib/python3.6/site-packages/tensorflow/python/ops/nn_ops.py\", line 499, in __call__\n    return self.call(inp, filter)\n  File \"/home/ubuntu/anaconda3/envs/tensorflow_p36/lib/python3.6/site-packages/tensorflow/python/ops/nn_ops.py\", line 187, in __call__\n    name=self.name)\n  File \"/home/ubuntu/anaconda3/envs/tensorflow_p36/lib/python3.6/site-packages/tensorflow/python/ops/gen_nn_ops.py\", line 631, in conv2d\n    data_format=data_format, name=name)\n  File \"/home/ubuntu/anaconda3/envs/tensorflow_p36/lib/python3.6/site-packages/tensorflow/python/framework/op_def_library.py\", line 787, in _apply_op_helper\n    op_def=op_def)\n  File \"/home/ubuntu/anaconda3/envs/tensorflow_p36/lib/python3.6/site-packages/tensorflow/python/framework/ops.py\", line 2956, in create_op\n    op_def=op_def)\n  File \"/home/ubuntu/anaconda3/envs/tensorflow_p36/lib/python3.6/site-packages/tensorflow/python/framework/ops.py\", line 1470, in __init__\n    self._traceback = self._graph._extract_stack()  # pylint: disable=protected-access\n\nResourceExhaustedError (see above for traceback): OOM when allocating tensor with shape[32,224,224,32]\n\t [[Node: conv2d_1/convolution = Conv2D[T=DT_FLOAT, data_format=\"NHWC\", padding=\"SAME\", strides=[1, 1, 1, 1], use_cudnn_on_gpu=true, _device=\"/job:localhost/replica:0/task:0/device:GPU:0\"](_arg_input_1_0_0/_289, conv2d_1/kernel/read)]]\n\t [[Node: conv2d_19/Sigmoid/_291 = _Recv[client_terminated=false, recv_device=\"/job:localhost/replica:0/task:0/device:CPU:0\", send_device=\"/job:localhost/replica:0/task:0/device:GPU:0\", send_device_incarnation=1, tensor_name=\"edge_322_conv2d_19/Sigmoid\", tensor_type=DT_FLOAT, _device=\"/job:localhost/replica:0/task:0/device:CPU:0\"]()]]\n",
     "output_type": "error",
     "traceback": [
      "\u001b[0;31m---------------------------------------------------------------------------\u001b[0m",
      "\u001b[0;31mResourceExhaustedError\u001b[0m                    Traceback (most recent call last)",
      "\u001b[0;32m~/anaconda3/envs/tensorflow_p36/lib/python3.6/site-packages/tensorflow/python/client/session.py\u001b[0m in \u001b[0;36m_do_call\u001b[0;34m(self, fn, *args)\u001b[0m\n\u001b[1;32m   1322\u001b[0m     \u001b[0;32mtry\u001b[0m\u001b[0;34m:\u001b[0m\u001b[0;34m\u001b[0m\u001b[0m\n\u001b[0;32m-> 1323\u001b[0;31m       \u001b[0;32mreturn\u001b[0m \u001b[0mfn\u001b[0m\u001b[0;34m(\u001b[0m\u001b[0;34m*\u001b[0m\u001b[0margs\u001b[0m\u001b[0;34m)\u001b[0m\u001b[0;34m\u001b[0m\u001b[0m\n\u001b[0m\u001b[1;32m   1324\u001b[0m     \u001b[0;32mexcept\u001b[0m \u001b[0merrors\u001b[0m\u001b[0;34m.\u001b[0m\u001b[0mOpError\u001b[0m \u001b[0;32mas\u001b[0m \u001b[0me\u001b[0m\u001b[0;34m:\u001b[0m\u001b[0;34m\u001b[0m\u001b[0m\n",
      "\u001b[0;32m~/anaconda3/envs/tensorflow_p36/lib/python3.6/site-packages/tensorflow/python/client/session.py\u001b[0m in \u001b[0;36m_run_fn\u001b[0;34m(session, feed_dict, fetch_list, target_list, options, run_metadata)\u001b[0m\n\u001b[1;32m   1301\u001b[0m                                    \u001b[0mfeed_dict\u001b[0m\u001b[0;34m,\u001b[0m \u001b[0mfetch_list\u001b[0m\u001b[0;34m,\u001b[0m \u001b[0mtarget_list\u001b[0m\u001b[0;34m,\u001b[0m\u001b[0;34m\u001b[0m\u001b[0m\n\u001b[0;32m-> 1302\u001b[0;31m                                    status, run_metadata)\n\u001b[0m\u001b[1;32m   1303\u001b[0m \u001b[0;34m\u001b[0m\u001b[0m\n",
      "\u001b[0;32m~/anaconda3/envs/tensorflow_p36/lib/python3.6/site-packages/tensorflow/python/framework/errors_impl.py\u001b[0m in \u001b[0;36m__exit__\u001b[0;34m(self, type_arg, value_arg, traceback_arg)\u001b[0m\n\u001b[1;32m    472\u001b[0m             \u001b[0mcompat\u001b[0m\u001b[0;34m.\u001b[0m\u001b[0mas_text\u001b[0m\u001b[0;34m(\u001b[0m\u001b[0mc_api\u001b[0m\u001b[0;34m.\u001b[0m\u001b[0mTF_Message\u001b[0m\u001b[0;34m(\u001b[0m\u001b[0mself\u001b[0m\u001b[0;34m.\u001b[0m\u001b[0mstatus\u001b[0m\u001b[0;34m.\u001b[0m\u001b[0mstatus\u001b[0m\u001b[0;34m)\u001b[0m\u001b[0;34m)\u001b[0m\u001b[0;34m,\u001b[0m\u001b[0;34m\u001b[0m\u001b[0m\n\u001b[0;32m--> 473\u001b[0;31m             c_api.TF_GetCode(self.status.status))\n\u001b[0m\u001b[1;32m    474\u001b[0m     \u001b[0;31m# Delete the underlying status object from memory otherwise it stays alive\u001b[0m\u001b[0;34m\u001b[0m\u001b[0;34m\u001b[0m\u001b[0m\n",
      "\u001b[0;31mResourceExhaustedError\u001b[0m: OOM when allocating tensor with shape[32,224,224,32]\n\t [[Node: conv2d_1/convolution = Conv2D[T=DT_FLOAT, data_format=\"NHWC\", padding=\"SAME\", strides=[1, 1, 1, 1], use_cudnn_on_gpu=true, _device=\"/job:localhost/replica:0/task:0/device:GPU:0\"](_arg_input_1_0_0/_289, conv2d_1/kernel/read)]]\n\t [[Node: conv2d_19/Sigmoid/_291 = _Recv[client_terminated=false, recv_device=\"/job:localhost/replica:0/task:0/device:CPU:0\", send_device=\"/job:localhost/replica:0/task:0/device:GPU:0\", send_device_incarnation=1, tensor_name=\"edge_322_conv2d_19/Sigmoid\", tensor_type=DT_FLOAT, _device=\"/job:localhost/replica:0/task:0/device:CPU:0\"]()]]",
      "\nDuring handling of the above exception, another exception occurred:\n",
      "\u001b[0;31mResourceExhaustedError\u001b[0m                    Traceback (most recent call last)",
      "\u001b[0;32m<ipython-input-62-1369ef6da7ce>\u001b[0m in \u001b[0;36m<module>\u001b[0;34m()\u001b[0m\n\u001b[1;32m      2\u001b[0m \u001b[0marr\u001b[0m \u001b[0;34m=\u001b[0m \u001b[0mnp\u001b[0m\u001b[0;34m.\u001b[0m\u001b[0mconcatenate\u001b[0m\u001b[0;34m(\u001b[0m\u001b[0;34m[\u001b[0m\u001b[0mnext\u001b[0m\u001b[0;34m(\u001b[0m\u001b[0mtest_gen\u001b[0m\u001b[0;34m)\u001b[0m \u001b[0;32mfor\u001b[0m \u001b[0mi\u001b[0m \u001b[0;32min\u001b[0m \u001b[0mrange\u001b[0m\u001b[0;34m(\u001b[0m\u001b[0mlen\u001b[0m\u001b[0;34m(\u001b[0m\u001b[0mpatient\u001b[0m\u001b[0;34m)\u001b[0m \u001b[0;34m//\u001b[0m \u001b[0mBATCH_SIZE\u001b[0m \u001b[0;34m+\u001b[0m \u001b[0;36m1\u001b[0m\u001b[0;34m)\u001b[0m\u001b[0;34m]\u001b[0m\u001b[0;34m)\u001b[0m\u001b[0;34m\u001b[0m\u001b[0m\n\u001b[1;32m      3\u001b[0m \u001b[0mtest_gen\u001b[0m \u001b[0;34m=\u001b[0m \u001b[0mtest_generator\u001b[0m\u001b[0;34m(\u001b[0m\u001b[0mpatient\u001b[0m\u001b[0;34m)\u001b[0m\u001b[0;34m\u001b[0m\u001b[0m\n\u001b[0;32m----> 4\u001b[0;31m \u001b[0mp\u001b[0m \u001b[0;34m=\u001b[0m \u001b[0mmodel\u001b[0m\u001b[0;34m.\u001b[0m\u001b[0mpredict_generator\u001b[0m\u001b[0;34m(\u001b[0m\u001b[0mtest_gen\u001b[0m\u001b[0;34m,\u001b[0m \u001b[0mlen\u001b[0m\u001b[0;34m(\u001b[0m\u001b[0mpatient\u001b[0m\u001b[0;34m)\u001b[0m \u001b[0;34m//\u001b[0m \u001b[0mBATCH_SIZE\u001b[0m \u001b[0;34m+\u001b[0m \u001b[0;36m1\u001b[0m\u001b[0;34m)\u001b[0m\u001b[0;34m\u001b[0m\u001b[0m\n\u001b[0m\u001b[1;32m      5\u001b[0m \u001b[0mtest_gen\u001b[0m \u001b[0;34m=\u001b[0m \u001b[0mtest_generator\u001b[0m\u001b[0;34m(\u001b[0m\u001b[0mnp\u001b[0m\u001b[0;34m.\u001b[0m\u001b[0mflip\u001b[0m\u001b[0;34m(\u001b[0m\u001b[0mpatient\u001b[0m\u001b[0;34m,\u001b[0m \u001b[0;36m1\u001b[0m\u001b[0;34m)\u001b[0m\u001b[0;34m)\u001b[0m\u001b[0;34m\u001b[0m\u001b[0m\n\u001b[1;32m      6\u001b[0m \u001b[0mp1\u001b[0m \u001b[0;34m=\u001b[0m \u001b[0mmodel\u001b[0m\u001b[0;34m.\u001b[0m\u001b[0mpredict_generator\u001b[0m\u001b[0;34m(\u001b[0m\u001b[0mtest_gen\u001b[0m\u001b[0;34m,\u001b[0m \u001b[0mlen\u001b[0m\u001b[0;34m(\u001b[0m\u001b[0mpatient\u001b[0m\u001b[0;34m)\u001b[0m \u001b[0;34m//\u001b[0m \u001b[0mBATCH_SIZE\u001b[0m \u001b[0;34m+\u001b[0m \u001b[0;36m1\u001b[0m\u001b[0;34m)\u001b[0m\u001b[0;34m\u001b[0m\u001b[0m\n",
      "\u001b[0;32m~/anaconda3/envs/tensorflow_p36/lib/python3.6/site-packages/keras/legacy/interfaces.py\u001b[0m in \u001b[0;36mwrapper\u001b[0;34m(*args, **kwargs)\u001b[0m\n\u001b[1;32m     85\u001b[0m                 warnings.warn('Update your `' + object_name +\n\u001b[1;32m     86\u001b[0m                               '` call to the Keras 2 API: ' + signature, stacklevel=2)\n\u001b[0;32m---> 87\u001b[0;31m             \u001b[0;32mreturn\u001b[0m \u001b[0mfunc\u001b[0m\u001b[0;34m(\u001b[0m\u001b[0;34m*\u001b[0m\u001b[0margs\u001b[0m\u001b[0;34m,\u001b[0m \u001b[0;34m**\u001b[0m\u001b[0mkwargs\u001b[0m\u001b[0;34m)\u001b[0m\u001b[0;34m\u001b[0m\u001b[0m\n\u001b[0m\u001b[1;32m     88\u001b[0m         \u001b[0mwrapper\u001b[0m\u001b[0;34m.\u001b[0m\u001b[0m_original_function\u001b[0m \u001b[0;34m=\u001b[0m \u001b[0mfunc\u001b[0m\u001b[0;34m\u001b[0m\u001b[0m\n\u001b[1;32m     89\u001b[0m         \u001b[0;32mreturn\u001b[0m \u001b[0mwrapper\u001b[0m\u001b[0;34m\u001b[0m\u001b[0m\n",
      "\u001b[0;32m~/anaconda3/envs/tensorflow_p36/lib/python3.6/site-packages/keras/engine/training.py\u001b[0m in \u001b[0;36mpredict_generator\u001b[0;34m(self, generator, steps, max_queue_size, workers, use_multiprocessing, verbose)\u001b[0m\n\u001b[1;32m   2423\u001b[0m                     \u001b[0mx\u001b[0m \u001b[0;34m=\u001b[0m \u001b[0mgenerator_output\u001b[0m\u001b[0;34m\u001b[0m\u001b[0m\n\u001b[1;32m   2424\u001b[0m \u001b[0;34m\u001b[0m\u001b[0m\n\u001b[0;32m-> 2425\u001b[0;31m                 \u001b[0mouts\u001b[0m \u001b[0;34m=\u001b[0m \u001b[0mself\u001b[0m\u001b[0;34m.\u001b[0m\u001b[0mpredict_on_batch\u001b[0m\u001b[0;34m(\u001b[0m\u001b[0mx\u001b[0m\u001b[0;34m)\u001b[0m\u001b[0;34m\u001b[0m\u001b[0m\n\u001b[0m\u001b[1;32m   2426\u001b[0m                 \u001b[0;32mif\u001b[0m \u001b[0;32mnot\u001b[0m \u001b[0misinstance\u001b[0m\u001b[0;34m(\u001b[0m\u001b[0mouts\u001b[0m\u001b[0;34m,\u001b[0m \u001b[0mlist\u001b[0m\u001b[0;34m)\u001b[0m\u001b[0;34m:\u001b[0m\u001b[0;34m\u001b[0m\u001b[0m\n\u001b[1;32m   2427\u001b[0m                     \u001b[0mouts\u001b[0m \u001b[0;34m=\u001b[0m \u001b[0;34m[\u001b[0m\u001b[0mouts\u001b[0m\u001b[0;34m]\u001b[0m\u001b[0;34m\u001b[0m\u001b[0m\n",
      "\u001b[0;32m~/anaconda3/envs/tensorflow_p36/lib/python3.6/site-packages/keras/engine/training.py\u001b[0m in \u001b[0;36mpredict_on_batch\u001b[0;34m(self, x)\u001b[0m\n\u001b[1;32m   1900\u001b[0m             \u001b[0mins\u001b[0m \u001b[0;34m=\u001b[0m \u001b[0mx\u001b[0m\u001b[0;34m\u001b[0m\u001b[0m\n\u001b[1;32m   1901\u001b[0m         \u001b[0mself\u001b[0m\u001b[0;34m.\u001b[0m\u001b[0m_make_predict_function\u001b[0m\u001b[0;34m(\u001b[0m\u001b[0;34m)\u001b[0m\u001b[0;34m\u001b[0m\u001b[0m\n\u001b[0;32m-> 1902\u001b[0;31m         \u001b[0moutputs\u001b[0m \u001b[0;34m=\u001b[0m \u001b[0mself\u001b[0m\u001b[0;34m.\u001b[0m\u001b[0mpredict_function\u001b[0m\u001b[0;34m(\u001b[0m\u001b[0mins\u001b[0m\u001b[0;34m)\u001b[0m\u001b[0;34m\u001b[0m\u001b[0m\n\u001b[0m\u001b[1;32m   1903\u001b[0m         \u001b[0;32mif\u001b[0m \u001b[0mlen\u001b[0m\u001b[0;34m(\u001b[0m\u001b[0moutputs\u001b[0m\u001b[0;34m)\u001b[0m \u001b[0;34m==\u001b[0m \u001b[0;36m1\u001b[0m\u001b[0;34m:\u001b[0m\u001b[0;34m\u001b[0m\u001b[0m\n\u001b[1;32m   1904\u001b[0m             \u001b[0;32mreturn\u001b[0m \u001b[0moutputs\u001b[0m\u001b[0;34m[\u001b[0m\u001b[0;36m0\u001b[0m\u001b[0;34m]\u001b[0m\u001b[0;34m\u001b[0m\u001b[0m\n",
      "\u001b[0;32m~/anaconda3/envs/tensorflow_p36/lib/python3.6/site-packages/keras/backend/tensorflow_backend.py\u001b[0m in \u001b[0;36m__call__\u001b[0;34m(self, inputs)\u001b[0m\n\u001b[1;32m   2355\u001b[0m         \u001b[0msession\u001b[0m \u001b[0;34m=\u001b[0m \u001b[0mget_session\u001b[0m\u001b[0;34m(\u001b[0m\u001b[0;34m)\u001b[0m\u001b[0;34m\u001b[0m\u001b[0m\n\u001b[1;32m   2356\u001b[0m         updated = session.run(fetches=fetches, feed_dict=feed_dict,\n\u001b[0;32m-> 2357\u001b[0;31m                               **self.session_kwargs)\n\u001b[0m\u001b[1;32m   2358\u001b[0m         \u001b[0;32mreturn\u001b[0m \u001b[0mupdated\u001b[0m\u001b[0;34m[\u001b[0m\u001b[0;34m:\u001b[0m\u001b[0mlen\u001b[0m\u001b[0;34m(\u001b[0m\u001b[0mself\u001b[0m\u001b[0;34m.\u001b[0m\u001b[0moutputs\u001b[0m\u001b[0;34m)\u001b[0m\u001b[0;34m]\u001b[0m\u001b[0;34m\u001b[0m\u001b[0m\n\u001b[1;32m   2359\u001b[0m \u001b[0;34m\u001b[0m\u001b[0m\n",
      "\u001b[0;32m~/anaconda3/envs/tensorflow_p36/lib/python3.6/site-packages/tensorflow/python/client/session.py\u001b[0m in \u001b[0;36mrun\u001b[0;34m(self, fetches, feed_dict, options, run_metadata)\u001b[0m\n\u001b[1;32m    887\u001b[0m     \u001b[0;32mtry\u001b[0m\u001b[0;34m:\u001b[0m\u001b[0;34m\u001b[0m\u001b[0m\n\u001b[1;32m    888\u001b[0m       result = self._run(None, fetches, feed_dict, options_ptr,\n\u001b[0;32m--> 889\u001b[0;31m                          run_metadata_ptr)\n\u001b[0m\u001b[1;32m    890\u001b[0m       \u001b[0;32mif\u001b[0m \u001b[0mrun_metadata\u001b[0m\u001b[0;34m:\u001b[0m\u001b[0;34m\u001b[0m\u001b[0m\n\u001b[1;32m    891\u001b[0m         \u001b[0mproto_data\u001b[0m \u001b[0;34m=\u001b[0m \u001b[0mtf_session\u001b[0m\u001b[0;34m.\u001b[0m\u001b[0mTF_GetBuffer\u001b[0m\u001b[0;34m(\u001b[0m\u001b[0mrun_metadata_ptr\u001b[0m\u001b[0;34m)\u001b[0m\u001b[0;34m\u001b[0m\u001b[0m\n",
      "\u001b[0;32m~/anaconda3/envs/tensorflow_p36/lib/python3.6/site-packages/tensorflow/python/client/session.py\u001b[0m in \u001b[0;36m_run\u001b[0;34m(self, handle, fetches, feed_dict, options, run_metadata)\u001b[0m\n\u001b[1;32m   1118\u001b[0m     \u001b[0;32mif\u001b[0m \u001b[0mfinal_fetches\u001b[0m \u001b[0;32mor\u001b[0m \u001b[0mfinal_targets\u001b[0m \u001b[0;32mor\u001b[0m \u001b[0;34m(\u001b[0m\u001b[0mhandle\u001b[0m \u001b[0;32mand\u001b[0m \u001b[0mfeed_dict_tensor\u001b[0m\u001b[0;34m)\u001b[0m\u001b[0;34m:\u001b[0m\u001b[0;34m\u001b[0m\u001b[0m\n\u001b[1;32m   1119\u001b[0m       results = self._do_run(handle, final_targets, final_fetches,\n\u001b[0;32m-> 1120\u001b[0;31m                              feed_dict_tensor, options, run_metadata)\n\u001b[0m\u001b[1;32m   1121\u001b[0m     \u001b[0;32melse\u001b[0m\u001b[0;34m:\u001b[0m\u001b[0;34m\u001b[0m\u001b[0m\n\u001b[1;32m   1122\u001b[0m       \u001b[0mresults\u001b[0m \u001b[0;34m=\u001b[0m \u001b[0;34m[\u001b[0m\u001b[0;34m]\u001b[0m\u001b[0;34m\u001b[0m\u001b[0m\n",
      "\u001b[0;32m~/anaconda3/envs/tensorflow_p36/lib/python3.6/site-packages/tensorflow/python/client/session.py\u001b[0m in \u001b[0;36m_do_run\u001b[0;34m(self, handle, target_list, fetch_list, feed_dict, options, run_metadata)\u001b[0m\n\u001b[1;32m   1315\u001b[0m     \u001b[0;32mif\u001b[0m \u001b[0mhandle\u001b[0m \u001b[0;32mis\u001b[0m \u001b[0;32mNone\u001b[0m\u001b[0;34m:\u001b[0m\u001b[0;34m\u001b[0m\u001b[0m\n\u001b[1;32m   1316\u001b[0m       return self._do_call(_run_fn, self._session, feeds, fetches, targets,\n\u001b[0;32m-> 1317\u001b[0;31m                            options, run_metadata)\n\u001b[0m\u001b[1;32m   1318\u001b[0m     \u001b[0;32melse\u001b[0m\u001b[0;34m:\u001b[0m\u001b[0;34m\u001b[0m\u001b[0m\n\u001b[1;32m   1319\u001b[0m       \u001b[0;32mreturn\u001b[0m \u001b[0mself\u001b[0m\u001b[0;34m.\u001b[0m\u001b[0m_do_call\u001b[0m\u001b[0;34m(\u001b[0m\u001b[0m_prun_fn\u001b[0m\u001b[0;34m,\u001b[0m \u001b[0mself\u001b[0m\u001b[0;34m.\u001b[0m\u001b[0m_session\u001b[0m\u001b[0;34m,\u001b[0m \u001b[0mhandle\u001b[0m\u001b[0;34m,\u001b[0m \u001b[0mfeeds\u001b[0m\u001b[0;34m,\u001b[0m \u001b[0mfetches\u001b[0m\u001b[0;34m)\u001b[0m\u001b[0;34m\u001b[0m\u001b[0m\n",
      "\u001b[0;32m~/anaconda3/envs/tensorflow_p36/lib/python3.6/site-packages/tensorflow/python/client/session.py\u001b[0m in \u001b[0;36m_do_call\u001b[0;34m(self, fn, *args)\u001b[0m\n\u001b[1;32m   1334\u001b[0m         \u001b[0;32mexcept\u001b[0m \u001b[0mKeyError\u001b[0m\u001b[0;34m:\u001b[0m\u001b[0;34m\u001b[0m\u001b[0m\n\u001b[1;32m   1335\u001b[0m           \u001b[0;32mpass\u001b[0m\u001b[0;34m\u001b[0m\u001b[0m\n\u001b[0;32m-> 1336\u001b[0;31m       \u001b[0;32mraise\u001b[0m \u001b[0mtype\u001b[0m\u001b[0;34m(\u001b[0m\u001b[0me\u001b[0m\u001b[0;34m)\u001b[0m\u001b[0;34m(\u001b[0m\u001b[0mnode_def\u001b[0m\u001b[0;34m,\u001b[0m \u001b[0mop\u001b[0m\u001b[0;34m,\u001b[0m \u001b[0mmessage\u001b[0m\u001b[0;34m)\u001b[0m\u001b[0;34m\u001b[0m\u001b[0m\n\u001b[0m\u001b[1;32m   1337\u001b[0m \u001b[0;34m\u001b[0m\u001b[0m\n\u001b[1;32m   1338\u001b[0m   \u001b[0;32mdef\u001b[0m \u001b[0m_extend_graph\u001b[0m\u001b[0;34m(\u001b[0m\u001b[0mself\u001b[0m\u001b[0;34m)\u001b[0m\u001b[0;34m:\u001b[0m\u001b[0;34m\u001b[0m\u001b[0m\n",
      "\u001b[0;31mResourceExhaustedError\u001b[0m: OOM when allocating tensor with shape[32,224,224,32]\n\t [[Node: conv2d_1/convolution = Conv2D[T=DT_FLOAT, data_format=\"NHWC\", padding=\"SAME\", strides=[1, 1, 1, 1], use_cudnn_on_gpu=true, _device=\"/job:localhost/replica:0/task:0/device:GPU:0\"](_arg_input_1_0_0/_289, conv2d_1/kernel/read)]]\n\t [[Node: conv2d_19/Sigmoid/_291 = _Recv[client_terminated=false, recv_device=\"/job:localhost/replica:0/task:0/device:CPU:0\", send_device=\"/job:localhost/replica:0/task:0/device:GPU:0\", send_device_incarnation=1, tensor_name=\"edge_322_conv2d_19/Sigmoid\", tensor_type=DT_FLOAT, _device=\"/job:localhost/replica:0/task:0/device:CPU:0\"]()]]\n\nCaused by op 'conv2d_1/convolution', defined at:\n  File \"/home/ubuntu/anaconda3/envs/tensorflow_p36/lib/python3.6/runpy.py\", line 193, in _run_module_as_main\n    \"__main__\", mod_spec)\n  File \"/home/ubuntu/anaconda3/envs/tensorflow_p36/lib/python3.6/runpy.py\", line 85, in _run_code\n    exec(code, run_globals)\n  File \"/home/ubuntu/anaconda3/envs/tensorflow_p36/lib/python3.6/site-packages/ipykernel/__main__.py\", line 3, in <module>\n    app.launch_new_instance()\n  File \"/home/ubuntu/anaconda3/envs/tensorflow_p36/lib/python3.6/site-packages/traitlets/config/application.py\", line 658, in launch_instance\n    app.start()\n  File \"/home/ubuntu/anaconda3/envs/tensorflow_p36/lib/python3.6/site-packages/ipykernel/kernelapp.py\", line 478, in start\n    self.io_loop.start()\n  File \"/home/ubuntu/anaconda3/envs/tensorflow_p36/lib/python3.6/site-packages/zmq/eventloop/ioloop.py\", line 177, in start\n    super(ZMQIOLoop, self).start()\n  File \"/home/ubuntu/anaconda3/envs/tensorflow_p36/lib/python3.6/site-packages/tornado/ioloop.py\", line 888, in start\n    handler_func(fd_obj, events)\n  File \"/home/ubuntu/anaconda3/envs/tensorflow_p36/lib/python3.6/site-packages/tornado/stack_context.py\", line 277, in null_wrapper\n    return fn(*args, **kwargs)\n  File \"/home/ubuntu/anaconda3/envs/tensorflow_p36/lib/python3.6/site-packages/zmq/eventloop/zmqstream.py\", line 440, in _handle_events\n    self._handle_recv()\n  File \"/home/ubuntu/anaconda3/envs/tensorflow_p36/lib/python3.6/site-packages/zmq/eventloop/zmqstream.py\", line 472, in _handle_recv\n    self._run_callback(callback, msg)\n  File \"/home/ubuntu/anaconda3/envs/tensorflow_p36/lib/python3.6/site-packages/zmq/eventloop/zmqstream.py\", line 414, in _run_callback\n    callback(*args, **kwargs)\n  File \"/home/ubuntu/anaconda3/envs/tensorflow_p36/lib/python3.6/site-packages/tornado/stack_context.py\", line 277, in null_wrapper\n    return fn(*args, **kwargs)\n  File \"/home/ubuntu/anaconda3/envs/tensorflow_p36/lib/python3.6/site-packages/ipykernel/kernelbase.py\", line 281, in dispatcher\n    return self.dispatch_shell(stream, msg)\n  File \"/home/ubuntu/anaconda3/envs/tensorflow_p36/lib/python3.6/site-packages/ipykernel/kernelbase.py\", line 232, in dispatch_shell\n    handler(stream, idents, msg)\n  File \"/home/ubuntu/anaconda3/envs/tensorflow_p36/lib/python3.6/site-packages/ipykernel/kernelbase.py\", line 397, in execute_request\n    user_expressions, allow_stdin)\n  File \"/home/ubuntu/anaconda3/envs/tensorflow_p36/lib/python3.6/site-packages/ipykernel/ipkernel.py\", line 208, in do_execute\n    res = shell.run_cell(code, store_history=store_history, silent=silent)\n  File \"/home/ubuntu/anaconda3/envs/tensorflow_p36/lib/python3.6/site-packages/ipykernel/zmqshell.py\", line 533, in run_cell\n    return super(ZMQInteractiveShell, self).run_cell(*args, **kwargs)\n  File \"/home/ubuntu/anaconda3/envs/tensorflow_p36/lib/python3.6/site-packages/IPython/core/interactiveshell.py\", line 2728, in run_cell\n    interactivity=interactivity, compiler=compiler, result=result)\n  File \"/home/ubuntu/anaconda3/envs/tensorflow_p36/lib/python3.6/site-packages/IPython/core/interactiveshell.py\", line 2850, in run_ast_nodes\n    if self.run_code(code, result):\n  File \"/home/ubuntu/anaconda3/envs/tensorflow_p36/lib/python3.6/site-packages/IPython/core/interactiveshell.py\", line 2910, in run_code\n    exec(code_obj, self.user_global_ns, self.user_ns)\n  File \"<ipython-input-60-ef3e642a66e9>\", line 1, in <module>\n    model = unet.get_unet(224, 224)\n  File \"../nets/unet.py\", line 21, in get_unet\n    conv1 = Conv2D(32, (3, 3), activation='relu', padding='same')(inputs)\n  File \"/home/ubuntu/anaconda3/envs/tensorflow_p36/lib/python3.6/site-packages/keras/engine/topology.py\", line 603, in __call__\n    output = self.call(inputs, **kwargs)\n  File \"/home/ubuntu/anaconda3/envs/tensorflow_p36/lib/python3.6/site-packages/keras/layers/convolutional.py\", line 164, in call\n    dilation_rate=self.dilation_rate)\n  File \"/home/ubuntu/anaconda3/envs/tensorflow_p36/lib/python3.6/site-packages/keras/backend/tensorflow_backend.py\", line 3195, in conv2d\n    data_format=tf_data_format)\n  File \"/home/ubuntu/anaconda3/envs/tensorflow_p36/lib/python3.6/site-packages/tensorflow/python/ops/nn_ops.py\", line 751, in convolution\n    return op(input, filter)\n  File \"/home/ubuntu/anaconda3/envs/tensorflow_p36/lib/python3.6/site-packages/tensorflow/python/ops/nn_ops.py\", line 835, in __call__\n    return self.conv_op(inp, filter)\n  File \"/home/ubuntu/anaconda3/envs/tensorflow_p36/lib/python3.6/site-packages/tensorflow/python/ops/nn_ops.py\", line 499, in __call__\n    return self.call(inp, filter)\n  File \"/home/ubuntu/anaconda3/envs/tensorflow_p36/lib/python3.6/site-packages/tensorflow/python/ops/nn_ops.py\", line 187, in __call__\n    name=self.name)\n  File \"/home/ubuntu/anaconda3/envs/tensorflow_p36/lib/python3.6/site-packages/tensorflow/python/ops/gen_nn_ops.py\", line 631, in conv2d\n    data_format=data_format, name=name)\n  File \"/home/ubuntu/anaconda3/envs/tensorflow_p36/lib/python3.6/site-packages/tensorflow/python/framework/op_def_library.py\", line 787, in _apply_op_helper\n    op_def=op_def)\n  File \"/home/ubuntu/anaconda3/envs/tensorflow_p36/lib/python3.6/site-packages/tensorflow/python/framework/ops.py\", line 2956, in create_op\n    op_def=op_def)\n  File \"/home/ubuntu/anaconda3/envs/tensorflow_p36/lib/python3.6/site-packages/tensorflow/python/framework/ops.py\", line 1470, in __init__\n    self._traceback = self._graph._extract_stack()  # pylint: disable=protected-access\n\nResourceExhaustedError (see above for traceback): OOM when allocating tensor with shape[32,224,224,32]\n\t [[Node: conv2d_1/convolution = Conv2D[T=DT_FLOAT, data_format=\"NHWC\", padding=\"SAME\", strides=[1, 1, 1, 1], use_cudnn_on_gpu=true, _device=\"/job:localhost/replica:0/task:0/device:GPU:0\"](_arg_input_1_0_0/_289, conv2d_1/kernel/read)]]\n\t [[Node: conv2d_19/Sigmoid/_291 = _Recv[client_terminated=false, recv_device=\"/job:localhost/replica:0/task:0/device:CPU:0\", send_device=\"/job:localhost/replica:0/task:0/device:GPU:0\", send_device_incarnation=1, tensor_name=\"edge_322_conv2d_19/Sigmoid\", tensor_type=DT_FLOAT, _device=\"/job:localhost/replica:0/task:0/device:CPU:0\"]()]]\n"
     ]
    }
   ],
   "source": [
    "test_gen = test_generator(patient)\n",
    "arr = np.concatenate([next(test_gen) for i in range(len(patient) // BATCH_SIZE + 1)])\n",
    "test_gen = test_generator(patient)\n",
    "p = model.predict_generator(test_gen, len(patient) // BATCH_SIZE + 1)\n",
    "test_gen = test_generator(np.flip(patient, 1))\n",
    "p1 = model.predict_generator(test_gen, len(patient) // BATCH_SIZE + 1)\n",
    "test_gen = test_generator(np.flip(patient, 2))\n",
    "p2 = model.predict_generator(test_gen, len(patient) // BATCH_SIZE + 1)\n",
    "test_gen = test_generator(np.flip(np.flip(patient, 1), 2))\n",
    "p3 = model.predict_generator(test_gen, len(patient) // BATCH_SIZE + 1)\n",
    "\n",
    "\n",
    "pred = np.mean(\n",
    "    np.stack([\n",
    "        p, \n",
    "        np.flip(p1, 1), \n",
    "        np.flip(p2, 2), \n",
    "        np.flip(np.flip(p3, 1), 2)\n",
    "    ], -1), \n",
    "    -1\n",
    ")\n",
    "\n",
    "pred = postprocess_test(pred[..., 0] > .5, patient)\n",
    "patient = scipy.ndimage.zoom(patient, fact, order=3)\n",
    "pred = scipy.ndimage.zoom(pred, fact, order=0)"
   ]
  },
  {
   "cell_type": "code",
   "execution_count": 475,
   "metadata": {},
   "outputs": [
    {
     "data": {
      "image/png": "[encoded data removed]",
      "text/plain": [
       "<matplotlib.figure.Figure at 0x7ff89813c240>"
      ]
     },
     "metadata": {},
     "output_type": "display_data"
    }
   ],
   "source": [
    "step_size = 10\n",
    "\n",
    "deriv_p = p.deriv()\n",
    "point = np.array([x.min(), p(x.min())])\n",
    "points = [point]\n",
    "\n",
    "\n",
    "while points[-1][0] <= x.max():\n",
    "    v = np.array([1, deriv_p(point[0] + 1)])\n",
    "    v = step_size * v / np.linalg.norm(v, ord=2)\n",
    "    point = points[-1] + v\n",
    "    point = np.array([point[0], p(point[0])])\n",
    "    points.append(point)\n",
    "    \n",
    "points = np.array(points)\n",
    "plt.imshow(summedx)\n",
    "plt.scatter(points[:, 1], points[:, 0]);"
   ]
  },
  {
   "cell_type": "code",
   "execution_count": 182,
   "metadata": {},
   "outputs": [],
   "source": [
    "from skimage import measure\n",
    "\n",
    "\n",
    "def plot_3d(image, threshold=-300):\n",
    "    \n",
    "    # Position the scan upright, \n",
    "    # so the head of the patient would be at the top facing the camera\n",
    "    p = image.transpose(2,1,0)\n",
    "#     p = image\n",
    "    verts, faces, _, _ = measure.marching_cubes(p, threshold)\n",
    "\n",
    "    fig = plt.figure(figsize=(10, 10))\n",
    "    ax = fig.add_subplot(111, projection='3d')\n",
    "\n",
    "    # Fancy indexing: `verts[faces]` to generate a collection of triangles\n",
    "    mesh = Poly3DCollection(verts[faces], alpha=0.70)\n",
    "    face_color = [0.45, 0.45, 0.75]\n",
    "    mesh.set_facecolor(face_color)\n",
    "    ax.add_collection3d(mesh)\n",
    "\n",
    "    ax.set_xlim(0, p.shape[0])\n",
    "    ax.set_ylim(0, p.shape[1])\n",
    "    ax.set_zlim(0, p.shape[2])\n",
    "\n",
    "    plt.show()\n"
   ]
  },
  {
   "cell_type": "code",
   "execution_count": 465,
   "metadata": {
    "scrolled": false
   },
   "outputs": [
    {
     "data": {
      "image/png": "[encoded data removed]",
      "text/plain": [
       "<matplotlib.figure.Figure at 0x7ff872291710>"
      ]
     },
     "metadata": {},
     "output_type": "display_data"
    }
   ],
   "source": [
    "plot_3d(lpred, .5)"
   ]
  },
  {
   "cell_type": "code",
   "execution_count": 15,
   "metadata": {},
   "outputs": [],
   "source": [
    "linspace_1d = np.vectorize(np.linspace)\n",
    "\n",
    "\n",
    "def multi_linespace(start, stop, length=50):\n",
    "    shape = start.shape\n",
    "    start = start.flatten()\n",
    "    stop = stop.flatten()\n",
    "    lspace = np.array([np.linspace(v, e, length) for v, e in np.stack([start, stop]).T])\n",
    "    return lspace.reshape(shape + (-1, ))"
   ]
  },
  {
   "cell_type": "code",
   "execution_count": 479,
   "metadata": {
    "scrolled": false
   },
   "outputs": [
    {
     "data": {
      "application/vnd.jupyter.widget-view+json": {
       "model_id": "079b349e20c94237bbc3d32d5dfd5575",
       "version_major": 2,
       "version_minor": 0
      },
      "text/html": [
       "<p>Failed to display Jupyter Widget of type <code>HBox</code>.</p>\n",
       "<p>\n",
       "  If you're reading this message in the Jupyter Notebook or JupyterLab Notebook, it may mean\n",
       "  that the widgets JavaScript is still loading. If this message persists, it\n",
       "  likely means that the widgets JavaScript library is either not installed or\n",
       "  not enabled. See the <a href=\"https://ipywidgets.readthedocs.io/en/stable/user_install.html\">Jupyter\n",
       "  Widgets Documentation</a> for setup instructions.\n",
       "</p>\n",
       "<p>\n",
       "  If you're reading this message in another frontend (for example, a static\n",
       "  rendering on GitHub or <a href=\"https://nbviewer.jupyter.org/\">NBViewer</a>),\n",
       "  it may mean that your frontend doesn't currently support widgets.\n",
       "</p>\n"
      ],
      "text/plain": [
       "HBox(children=(IntProgress(value=0, max=147), HTML(value='')))"
      ]
     },
     "metadata": {},
     "output_type": "display_data"
    },
    {
     "name": "stdout",
     "output_type": "stream",
     "text": [
      "\n"
     ]
    }
   ],
   "source": [
    "init_p = np.poly1d(p.coefficients)\n",
    "length = min(min(patient.shape[1:]), 224)\n",
    "step_size = .5\n",
    "\n",
    "deriv_p = init_p.deriv()\n",
    "point = np.array([x.min() + 20, init_p(x.min() + 20)])\n",
    "points = [point]\n",
    "\n",
    "while points[-1][0] <= x.max():\n",
    "    v = np.array([1, deriv_p(point[0] + 1)])\n",
    "    v = step_size * v / np.linalg.norm(v, ord=2)\n",
    "    point = points[-1] + v\n",
    "    point = np.array([point[0], p(point[0])])\n",
    "    points.append(point)\n",
    "\n",
    "points = np.array(points)\n",
    "\n",
    "zis = list()\n",
    "mis = list()\n",
    "prods = list()\n",
    "\n",
    "for point in tqdm(points[:, 0]):\n",
    "    v = np.array([1, cp(point + 1) - cp(point), init_p(point + 1) - init_p(point)])\n",
    "    v = np.stack([np.cross(v, np.array([0, 1, 0])), v])\n",
    "    v = np.stack([np.cross(v[0], v[1]), v[0]])\n",
    "    v = length * v / np.expand_dims(np.linalg.norm(v, ord=2, axis=1), -1)\n",
    "\n",
    "    origin = np.array([point, cp(point), init_p(point)])\n",
    "\n",
    "    lz = multi_linespace((-v[0] / 2 + origin), (v[0] / 2 + origin), length)\n",
    "    lz = multi_linespace((lz.T - v[1] / 2), (lz.T + v[1] / 2), length)\n",
    "    lz = np.rollaxis(lz, 1, 0).reshape(3, -1)\n",
    "\n",
    "    zi = scipy.ndimage.map_coordinates(patient, lz)\n",
    "    zi = zi.reshape((length, length))\n",
    "    zi = cv2.resize(zi, dsize=(SIDE, SIDE))\n",
    "    zi = (np.expand_dims(zi, -1) + 199.) / 461.\n",
    "    zis.append(zi)\n",
    "    \n",
    "    mi = scipy.ndimage.map_coordinates(lpred.astype(np.float), lz)\n",
    "    mi = mi.reshape((length, length))\n",
    "    mis.append(np.expand_dims(mi, -1))\n",
    "    \n",
    "    prods.append(lz)\n",
    "    "
   ]
  },
  {
   "cell_type": "code",
   "execution_count": 480,
   "metadata": {},
   "outputs": [],
   "source": [
    "zis = np.stack(zis, 0)\n",
    "mis = np.stack(mis, 0)\n",
    "\n",
    "p = model.predict(zis)\n",
    "p1 = model.predict(np.flip(zis, 1))\n",
    "p2 = model.predict(np.flip(zis, 2))\n",
    "p3 = model.predict(np.flip(np.flip(zis, 1), 2))\n",
    "\n",
    "pred = np.mean(\n",
    "    np.stack([\n",
    "        p, \n",
    "        np.flip(p1, 1), \n",
    "        np.flip(p2, 2), \n",
    "        np.flip(np.flip(p3, 1), 2)\n",
    "    ], -1), \n",
    "    -1\n",
    ")"
   ]
  },
  {
   "cell_type": "code",
   "execution_count": 481,
   "metadata": {
    "scrolled": true
   },
   "outputs": [
    {
     "data": {
      "image/png": "[encoded data removed]",
      "text/plain": [
       "<matplotlib.figure.Figure at 0x7ff86f0d5208>"
      ]
     },
     "metadata": {},
     "output_type": "display_data"
    }
   ],
   "source": [
    "tangs = list()\n",
    "large = list()\n",
    "small = list()\n",
    "for mi in pred[..., 0]:\n",
    "    mask, _ = scipy.ndimage.label(mi > .5)\n",
    "    try:\n",
    "        idx = np.argmax(np.bincount(mask.flatten())[1:]) + 1\n",
    "        mask = mask == idx\n",
    "        rgroup = regionprops(mask.astype(np.int))[0]\n",
    "        large.append(rgroup.major_axis_length * length / SIDE)\n",
    "        small.append(rgroup.minor_axis_length * length / SIDE)\n",
    "    except:\n",
    "        tangs.append(0)\n",
    "        continue\n",
    "\n",
    "l = np.array([0 if np.isnan(l) or np.isnan(s) else l for l, s in zip(large, small)])\n",
    "s = np.array([0 if np.isnan(l) or np.isnan(s) else s for l, s in zip(large, small)])\n",
    "\n",
    "tangs = l\n",
    "tangs = scipy.ndimage.gaussian_filter1d(tangs, 3)\n",
    "args = scipy.signal.argrelextrema(tangs, np.less_equal, order=1)[0]\n",
    "args = args[tangs[args] > 5]\n",
    "\n",
    "plt.plot(np.arange(len(tangs)), tangs)\n",
    "plt.scatter(args, tangs[args], c='r')\n",
    "plt.show()"
   ]
  },
  {
   "cell_type": "code",
   "execution_count": 62,
   "metadata": {
    "scrolled": true
   },
   "outputs": [
    {
     "name": "stdout",
     "output_type": "stream",
     "text": [
      "280 0841R3052\n"
     ]
    },
    {
     "data": {
      "image/png": "[encoded data removed]",
      "text/plain": [
       "<matplotlib.figure.Figure at 0x7f1aa2a235c0>"
      ]
     },
     "metadata": {},
     "output_type": "display_data"
    },
    {
     "data": {
      "application/vnd.jupyter.widget-view+json": {
       "model_id": "7bf8003df5e9466da590b43931efe785",
       "version_major": 2,
       "version_minor": 0
      },
      "text/html": [
       "<p>Failed to display Jupyter Widget of type <code>HBox</code>.</p>\n",
       "<p>\n",
       "  If you're reading this message in the Jupyter Notebook or JupyterLab Notebook, it may mean\n",
       "  that the widgets JavaScript is still loading. If this message persists, it\n",
       "  likely means that the widgets JavaScript library is either not installed or\n",
       "  not enabled. See the <a href=\"https://ipywidgets.readthedocs.io/en/stable/user_install.html\">Jupyter\n",
       "  Widgets Documentation</a> for setup instructions.\n",
       "</p>\n",
       "<p>\n",
       "  If you're reading this message in another frontend (for example, a static\n",
       "  rendering on GitHub or <a href=\"https://nbviewer.jupyter.org/\">NBViewer</a>),\n",
       "  it may mean that your frontend doesn't currently support widgets.\n",
       "</p>\n"
      ],
      "text/plain": [
       "HBox(children=(IntProgress(value=0, max=161), HTML(value='')))"
      ]
     },
     "metadata": {},
     "output_type": "display_data"
    },
    {
     "name": "stdout",
     "output_type": "stream",
     "text": [
      "\n"
     ]
    }
   ],
   "source": [
    "for i in range(280, 300):\n",
    "    print(i, os.path.basename(train[i]))\n",
    "    patient, meta = load_utils.load_patient(PATHS['DATA'], os.path.basename(train[i]), metadata=True)\n",
    "    fact = meta['PixSpac']\n",
    "\n",
    "    pred = glob(os.path.join(PATHS['DATA'], os.path.basename(train[i]), '*_A.stl'))\n",
    "    pred = load_utils.load_mesh(pred[0], meta) \n",
    "    pred = np.expand_dims(pred, -1)\n",
    "    \n",
    "    pred = pred[..., 0]\n",
    "#     pred = postprocess_test(pred[..., 0] > .5, patient)\n",
    "    patient = scipy.ndimage.zoom(patient, fact, order=3)\n",
    "    pred = scipy.ndimage.zoom(pred, fact, order=0)\n",
    "    \n",
    "\n",
    "    lpred, _ = scipy.ndimage.label(pred > .5)\n",
    "    idx = np.argmax(np.bincount(lpred.flatten())[1:]) + 1\n",
    "    lpred[lpred != idx] = 0\n",
    "    lpred = scipy.ndimage.binary_closing(lpred, iterations=5)\n",
    "\n",
    "    x, y = np.asarray(np.where(lpred))[[0, 2]]\n",
    "    z = np.polyfit(x, y, 2)\n",
    "    p = np.poly1d(z)\n",
    "\n",
    "    init_d = p.deriv()\n",
    "    opt = p(init_d.roots)\n",
    "    flipped = False\n",
    "    if np.abs(p(x.min()) - opt) > np.abs(p(x.max()) - opt):\n",
    "        flipped = True\n",
    "        patient = np.flip(patient, 0)\n",
    "        lpred = np.flip(lpred, 0)\n",
    "        pred = np.flip(pred, 0)\n",
    "        x, y = np.asarray(np.where(lpred))[[0, 2]]\n",
    "        z = np.polyfit(x, y, 2)\n",
    "        p = np.poly1d(z)\n",
    "\n",
    "    summedx = (lpred).sum(1).astype(np.float)\n",
    "    plt.imshow(summedx)\n",
    "\n",
    "    xp = np.linspace(x.min(), x.max(), 100)\n",
    "    plt.plot(p(xp), xp, '-');\n",
    "    plt.show()\n",
    "\n",
    "    cx, cy = np.asarray(np.where(lpred))[[0, 1]]\n",
    "    cz = np.polyfit(cx, cy, 1)\n",
    "    cp = np.poly1d(cz)\n",
    "\n",
    "\n",
    "\n",
    "    init_p = np.poly1d(p.coefficients)\n",
    "    length = min(min(patient.shape[1:]), 224)\n",
    "    step_size = .5\n",
    "\n",
    "    deriv_p = init_p.deriv()\n",
    "    point = np.array([x.min() + 20, init_p(x.min() + 20)])\n",
    "    points = [point]\n",
    "\n",
    "    while points[-1][0] <= x.max():\n",
    "        v = np.array([1, deriv_p(point[0] + 1)])\n",
    "        v = step_size * v / np.linalg.norm(v, ord=2)\n",
    "        point = points[-1] + v\n",
    "        point = np.array([point[0], p(point[0])])\n",
    "        points.append(point)\n",
    "\n",
    "    points = np.array(points)\n",
    "\n",
    "    zis = list()\n",
    "    mis = list()\n",
    "    prods = list()\n",
    "\n",
    "    for point in tqdm(points[:, 0]):\n",
    "        v = np.array([1, cp(point + 1) - cp(point), init_p(point + 1) - init_p(point)])\n",
    "        v = np.stack([np.cross(v, np.array([0, 1, 0])), v])\n",
    "        v = np.stack([np.cross(v[0], v[1]), v[0]])\n",
    "        v = length * v / np.expand_dims(np.linalg.norm(v, ord=2, axis=1), -1)\n",
    "\n",
    "        origin = np.array([point, cp(point), init_p(point)])\n",
    "\n",
    "        lz = multi_linespace((-v[0] / 2 + origin), (v[0] / 2 + origin), length)\n",
    "        lz = multi_linespace((lz.T - v[1] / 2), (lz.T + v[1] / 2), length)\n",
    "        lz = np.rollaxis(lz, 1, 0).reshape(3, -1)\n",
    "\n",
    "        zi = scipy.ndimage.map_coordinates(patient, lz)\n",
    "        zi = zi.reshape((length, length))\n",
    "        zi = cv2.resize(zi, dsize=(SIDE, SIDE))\n",
    "        zi = (np.expand_dims(zi, -1) + 199.) / 461.\n",
    "        zis.append(zi)\n",
    "        prods.append(lz)\n",
    "\n",
    "    zis = np.stack(zis, 0)\n",
    "    prods = np.array(prods)\n",
    "    break\n",
    "    np.save(os.path.join(PATHS['DATA'], os.path.basename(train[i]), 'prods'), prods)\n",
    "    np.save(os.path.join(PATHS['DATA'], os.path.basename(train[i]), 'zis'), zis)\n"
   ]
  },
  {
   "cell_type": "code",
   "execution_count": 189,
   "metadata": {},
   "outputs": [
    {
     "name": "stdout",
     "output_type": "stream",
     "text": [
      "233 1342R3019\n"
     ]
    },
    {
     "data": {
      "image/png": "[encoded data removed]",
      "text/plain": [
       "<matplotlib.figure.Figure at 0x7f1aa2cb0a20>"
      ]
     },
     "metadata": {},
     "output_type": "display_data"
    }
   ],
   "source": [
    "df = pd.read_csv('../valve.csv')\n",
    "for i in range(233, 300):\n",
    "    idxs = df[df.seriesuid == os.path.basename(train[i])][['idx0', 'idx1']]\n",
    "    idxs = idxs.values[0]\n",
    "    print(i, os.path.basename(train[i]))\n",
    "    patient, meta = load_utils.load_patient(PATHS['DATA'], os.path.basename(train[i]), metadata=True)\n",
    "    fact = meta['PixSpac']\n",
    "\n",
    "    pred = glob(os.path.join(PATHS['DATA'], os.path.basename(train[i]), '*_A.stl'))\n",
    "    pred = load_utils.load_mesh(pred[0], meta) \n",
    "    \n",
    "    lpred, _ = scipy.ndimage.label(pred > .5)\n",
    "    idx = np.argmax(np.bincount(lpred.flatten())[1:]) + 1\n",
    "    lpred[lpred != idx] = 0\n",
    "    lpred = scipy.ndimage.binary_closing(lpred, iterations=5)\n",
    "\n",
    "    x, y = np.asarray(np.where(lpred))[[0, 2]]\n",
    "    z = np.polyfit(x, y, 2)\n",
    "    p = np.poly1d(z)\n",
    "\n",
    "    init_d = p.deriv()\n",
    "    opt = p(init_d.roots)\n",
    "    flipped = False\n",
    "    if np.abs(p(x.min()) - opt) > np.abs(p(x.max()) - opt):\n",
    "        flipped = True\n",
    "        patient = np.flip(patient, 0)\n",
    "        lpred = np.flip(lpred, 0)\n",
    "        pred = np.flip(pred, 0)\n",
    "        x, y = np.asarray(np.where(lpred))[[0, 2]]\n",
    "        z = np.polyfit(x, y, 2)\n",
    "        p = np.poly1d(z)\n",
    "\n",
    "    summedx = (lpred).sum(1).astype(np.float)\n",
    "    plt.imshow(summedx)\n",
    "\n",
    "    prods = np.load(os.path.join(PATHS['DATA'], os.path.basename(train[i]), 'prods.npy'))\n",
    "    cpred = np.zeros_like(lpred)\n",
    "\n",
    "    for i in range(idxs[0], idxs[1]):\n",
    "        coords = np.array([prods[i][0], prods[i][1], prods[i][2]]) / np.expand_dims(fact, -1)\n",
    "        coords = np.clip(coords.T, 0, np.array(lpred.shape) - 1)\n",
    "        coords = np.round(coords).astype(np.int).T\n",
    "        coords = tuple(c for c in coords)\n",
    "\n",
    "        cpred[coords] = lpred[coords]\n",
    "\n",
    "    cpred = scipy.ndimage.binary_closing(cpred, iterations=15) & lpred\n",
    "    break"
   ]
  },
  {
   "cell_type": "code",
   "execution_count": 190,
   "metadata": {
    "scrolled": false
   },
   "outputs": [
    {
     "data": {
      "image/png": "[encoded data removed]",
      "text/plain": [
       "<matplotlib.figure.Figure at 0x7f1a45052be0>"
      ]
     },
     "metadata": {},
     "output_type": "display_data"
    }
   ],
   "source": [
    "plot_3d(np.flip(lpred, 0), .5)"
   ]
  },
  {
   "cell_type": "code",
   "execution_count": 191,
   "metadata": {},
   "outputs": [
    {
     "data": {
      "image/png": "[encoded data removed]",
      "text/plain": [
       "<matplotlib.figure.Figure at 0x7f1aa123ef60>"
      ]
     },
     "metadata": {},
     "output_type": "display_data"
    }
   ],
   "source": [
    "plot_3d(np.flip(cpred, 0), .5)"
   ]
  },
  {
   "cell_type": "code",
   "execution_count": 10,
   "metadata": {},
   "outputs": [],
   "source": [
    "import numpy\n",
    "from keras.layers import Convolution3D, Input, merge, RepeatVector, Activation\n",
    "from keras.models import Model\n",
    "from keras.layers.advanced_activations import PReLU\n",
    "from keras import activations, initializers, regularizers\n",
    "from keras.engine import Layer, InputSpec\n",
    "from keras.utils.conv_utils import conv_output_length\n",
    "from keras.optimizers import Adam\n",
    "from keras.callbacks import ModelCheckpoint\n",
    "import keras.backend as K\n",
    "from keras.engine.topology import Layer\n",
    "import functools\n",
    "import tensorflow as tf"
   ]
  },
  {
   "cell_type": "code",
   "execution_count": 11,
   "metadata": {},
   "outputs": [],
   "source": [
    "from keras import backend as K\n",
    "from keras.engine import Layer\n",
    "\n",
    "class Softmax(Layer):\n",
    "    def __init__(self, axis=-1,**kwargs):\n",
    "        self.axis=axis\n",
    "        super(Softmax, self).__init__(**kwargs)\n",
    "\n",
    "    def build(self,input_shape):\n",
    "        pass\n",
    "\n",
    "    def call(self, x,mask=None):\n",
    "        e = K.exp(x - K.max(x, axis=self.axis, keepdims=True))\n",
    "        s = K.sum(e, axis=self.axis, keepdims=True)\n",
    "        return e / s\n",
    "\n",
    "    def get_output_shape_for(self, input_shape):\n",
    "        return input_shape\n"
   ]
  },
  {
   "cell_type": "code",
   "execution_count": 12,
   "metadata": {},
   "outputs": [],
   "source": [
    "def downward_layer(input_layer, n_convolutions, n_output_channels):\n",
    "    inl = input_layer\n",
    "    for _ in range(n_convolutions-1):\n",
    "        inl = PReLU()(\n",
    "            Convolution3D(n_output_channels // 2, 5, 5, 5, border_mode='same', dim_ordering='tf')(inl)\n",
    "        )\n",
    "    conv = Convolution3D(n_output_channels // 2, 5, 5, 5, border_mode='same', dim_ordering='tf')(inl)\n",
    "    add = merge([conv, input_layer], mode='sum')\n",
    "    downsample = Convolution3D(n_output_channels, 2,2,2, subsample=(2,2,2))(add)\n",
    "    prelu = PReLU()(downsample)\n",
    "    return prelu, add"
   ]
  },
  {
   "cell_type": "code",
   "execution_count": 21,
   "metadata": {},
   "outputs": [],
   "source": [
    "def upward_layer(input0 ,input1, n_convolutions, n_output_channels):\n",
    "    merged = merge([input0, input1], mode='concat', concat_axis=4)\n",
    "    inl = merged\n",
    "    for _ in range(n_convolutions-1):\n",
    "        inl = PReLU()(\n",
    "            Convolution3D(n_output_channels * 4, 5, 5, 5, border_mode='same', dim_ordering='tf')(inl)\n",
    "        )\n",
    "    conv = Convolution3D(n_output_channels * 4, 5, 5, 5, border_mode='same', dim_ordering='tf')(inl)\n",
    "    add = merge([conv, merged], mode='sum')\n",
    "    shape = add.get_shape().as_list()\n",
    "    new_shape = (1, shape[1] * 2, shape[2] * 2, shape[3] * 2, n_output_channels)\n",
    "    upsample = Deconvolution3D(n_output_channels, (4,4,4), new_shape, subsample=(2,2,2))(add)\n",
    "    return PReLU()(upsample)"
   ]
  },
  {
   "cell_type": "code",
   "execution_count": 22,
   "metadata": {},
   "outputs": [],
   "source": [
    "class Deconvolution3D(Layer):\n",
    "    \n",
    "    def __init__(self, nb_filter, kernel_dims, output_shape, subsample, **kwargs):\n",
    "        self.nb_filter = nb_filter\n",
    "        self.kernel_dims = kernel_dims\n",
    "        self.strides = (1, ) + subsample + (1, )\n",
    "        self.output_shape_ = output_shape\n",
    "        assert K.backend() == 'tensorflow'\n",
    "        super(Deconvolution3D, self).__init__(**kwargs)\n",
    "        \n",
    "    def build(self, input_shape):\n",
    "        assert len(input_shape) == 5\n",
    "        self.W = self.add_weight(shape=self.kernel_dims + (self.nb_filter, input_shape[4], ),\n",
    "                                 initializer='glorot_uniform',\n",
    "                                 name='{}_W'.format(self.name),\n",
    "                                 trainable=True)\n",
    "        self.b = self.add_weight(shape=(1, 1, 1, self.nb_filter,), \n",
    "                                 initializer='zero', \n",
    "                                 name='{}_b'.format(self.name),\n",
    "                                 trainable=True)\n",
    "        super(Deconvolution3D, self).build(input_shape) \n",
    "\n",
    "    def call(self, x, mask=None):\n",
    "        return tf.nn.conv3d_transpose(x, self.W, output_shape=self.output_shape_,\n",
    "                                      strides=self.strides, padding='SAME', name=self.name) + self.b\n",
    "\n",
    "    def compute_output_shape(self, input_shape):\n",
    "        return (input_shape[0], ) + self.output_shape_[1:]"
   ]
  },
  {
   "cell_type": "code",
   "execution_count": 24,
   "metadata": {
    "scrolled": true
   },
   "outputs": [],
   "source": [
    "# Layer 1\n",
    "input_layer = Input(shape=(128, 128, 64, 1), name='data')\n",
    "conv_1 = Convolution3D(16, 5, 5, 5, border_mode='same', dim_ordering='tf')(input_layer)\n",
    "repeat_1 = merge([input_layer] * 16, mode='concat')\n",
    "add_1 = merge([conv_1, repeat_1], mode='sum')\n",
    "prelu_1_1 = PReLU()(add_1)\n",
    "downsample_1 = Convolution3D(32, 2,2,2, subsample=(2,2,2))(prelu_1_1)\n",
    "prelu_1_2 = PReLU()(downsample_1)\n",
    "\n",
    "# Layer 2,3,4\n",
    "out2, left2 = downward_layer(prelu_1_2, 2, 64)\n",
    "out3, left3 = downward_layer(out2, 2, 128)\n",
    "out4, left4 = downward_layer(out3, 2, 256)\n",
    "\n",
    "# Layer 5\n",
    "conv_5_1 = Convolution3D(256, 5, 5, 4, border_mode='same', dim_ordering='tf')(out4)\n",
    "prelu_5_1 = PReLU()(conv_5_1)\n",
    "conv_5_2 = Convolution3D(256, 5, 5, 4, border_mode='same', dim_ordering='tf')(prelu_5_1)\n",
    "prelu_5_2 = PReLU()(conv_5_2)\n",
    "conv_5_3 = Convolution3D(256, 5, 5, 4, border_mode='same', dim_ordering='tf')(prelu_5_2)\n",
    "add_5 = merge([conv_5_3, out4], mode='sum')\n",
    "prelu_5_1 = PReLU()(add_5)\n",
    "downsample_5 = Deconvolution3D(128, (2,2,2), (1, 16, 16, 8, 128), subsample=(2,2,2))(prelu_5_1)\n",
    "prelu_5_2 = PReLU()(downsample_5)\n",
    "\n",
    "#Layer 6,7,8\n",
    "out6 = upward_layer(prelu_5_2, left4, 3, 64)\n",
    "out7 = upward_layer(out6, left3, 3, 32)\n",
    "out8 = upward_layer(out7, left2, 2, 16)\n",
    "\n",
    "#Layer 9\n",
    "merged_9 = merge([out8, add_1], mode='concat', concat_axis=4)\n",
    "conv_9_1 = Convolution3D(32, 5, 5, 5, border_mode='same', dim_ordering='tf')(merged_9)\n",
    "add_9 = merge([conv_9_1, merged_9], mode='sum')\n",
    "conv_9_2 = Convolution3D(2, 1, 1, 1, border_mode='same', dim_ordering='tf')(add_9)\n",
    "\n",
    "softmax = Softmax()(conv_9_2)\n",
    "\n",
    "model = Model(input_layer, softmax)"
   ]
  },
  {
   "cell_type": "code",
   "execution_count": 181,
   "metadata": {
    "scrolled": true
   },
   "outputs": [
    {
     "data": {
      "text/plain": [
       "<matplotlib.image.AxesImage at 0x7f1aa056c4e0>"
      ]
     },
     "execution_count": 181,
     "metadata": {},
     "output_type": "execute_result"
    },
    {
     "data": {
      "image/png": "[encoded data removed]",
      "text/plain": [
       "<matplotlib.figure.Figure at 0x7f1aa0803e48>"
      ]
     },
     "metadata": {},
     "output_type": "display_data"
    }
   ],
   "source": [
    "plt.imshow(cpred.sum(1))"
   ]
  },
  {
   "cell_type": "code",
   "execution_count": 148,
   "metadata": {},
   "outputs": [],
   "source": [
    "predicts = pickle.load(open('../../DM_Data/predicts__', 'rb'))"
   ]
  },
  {
   "cell_type": "code",
   "execution_count": 217,
   "metadata": {
    "scrolled": true
   },
   "outputs": [
    {
     "data": {
      "text/plain": [
       "0.6842105263157895"
      ]
     },
     "execution_count": 217,
     "metadata": {},
     "output_type": "execute_result"
    }
   ],
   "source": [
    "sum([i[0] for i in predicts.values()]) / len(predicts)"
   ]
  },
  {
   "cell_type": "code",
   "execution_count": 150,
   "metadata": {
    "scrolled": true
   },
   "outputs": [
    {
     "data": {
      "application/vnd.jupyter.widget-view+json": {
       "model_id": "eea498a7025646a2a0e9ddb3d9611058",
       "version_major": 2,
       "version_minor": 0
      },
      "text/html": [
       "<p>Failed to display Jupyter Widget of type <code>HBox</code>.</p>\n",
       "<p>\n",
       "  If you're reading this message in the Jupyter Notebook or JupyterLab Notebook, it may mean\n",
       "  that the widgets JavaScript is still loading. If this message persists, it\n",
       "  likely means that the widgets JavaScript library is either not installed or\n",
       "  not enabled. See the <a href=\"https://ipywidgets.readthedocs.io/en/stable/user_install.html\">Jupyter\n",
       "  Widgets Documentation</a> for setup instructions.\n",
       "</p>\n",
       "<p>\n",
       "  If you're reading this message in another frontend (for example, a static\n",
       "  rendering on GitHub or <a href=\"https://nbviewer.jupyter.org/\">NBViewer</a>),\n",
       "  it may mean that your frontend doesn't currently support widgets.\n",
       "</p>\n"
      ],
      "text/plain": [
       "HBox(children=(IntProgress(value=0, max=99), HTML(value='')))"
      ]
     },
     "metadata": {},
     "output_type": "display_data"
    },
    {
     "name": "stdout",
     "output_type": "stream",
     "text": [
      "\n",
      "0303R3003:  True 23 [23 23 23] [10.457296419502294, 20.432245012232858, 21.144105340858264] [ 38.44144351  31.02205222  30.0701422   20.43224501  21.14410534\n",
      "  10.45729642]\n"
     ]
    },
    {
     "data": {
      "application/vnd.jupyter.widget-view+json": {
       "model_id": "daa73534779d4e0bab7b3ba09a82bd92",
       "version_major": 2,
       "version_minor": 0
      },
      "text/html": [
       "<p>Failed to display Jupyter Widget of type <code>HBox</code>.</p>\n",
       "<p>\n",
       "  If you're reading this message in the Jupyter Notebook or JupyterLab Notebook, it may mean\n",
       "  that the widgets JavaScript is still loading. If this message persists, it\n",
       "  likely means that the widgets JavaScript library is either not installed or\n",
       "  not enabled. See the <a href=\"https://ipywidgets.readthedocs.io/en/stable/user_install.html\">Jupyter\n",
       "  Widgets Documentation</a> for setup instructions.\n",
       "</p>\n",
       "<p>\n",
       "  If you're reading this message in another frontend (for example, a static\n",
       "  rendering on GitHub or <a href=\"https://nbviewer.jupyter.org/\">NBViewer</a>),\n",
       "  it may mean that your frontend doesn't currently support widgets.\n",
       "</p>\n"
      ],
      "text/plain": [
       "HBox(children=(IntProgress(value=0, max=97), HTML(value='')))"
      ]
     },
     "metadata": {},
     "output_type": "display_data"
    },
    {
     "name": "stdout",
     "output_type": "stream",
     "text": [
      "\n",
      "0780R3015:  True 27 [23 27 27] [15.368853850227534, 36.092078878828367, 46.811700194338009] [ 46.81170019  36.09207888  15.36885385]\n"
     ]
    },
    {
     "data": {
      "application/vnd.jupyter.widget-view+json": {
       "model_id": "abec5484829848b48b9eff49676b5c4f",
       "version_major": 2,
       "version_minor": 0
      },
      "text/html": [
       "<p>Failed to display Jupyter Widget of type <code>HBox</code>.</p>\n",
       "<p>\n",
       "  If you're reading this message in the Jupyter Notebook or JupyterLab Notebook, it may mean\n",
       "  that the widgets JavaScript is still loading. If this message persists, it\n",
       "  likely means that the widgets JavaScript library is either not installed or\n",
       "  not enabled. See the <a href=\"https://ipywidgets.readthedocs.io/en/stable/user_install.html\">Jupyter\n",
       "  Widgets Documentation</a> for setup instructions.\n",
       "</p>\n",
       "<p>\n",
       "  If you're reading this message in another frontend (for example, a static\n",
       "  rendering on GitHub or <a href=\"https://nbviewer.jupyter.org/\">NBViewer</a>),\n",
       "  it may mean that your frontend doesn't currently support widgets.\n",
       "</p>\n"
      ],
      "text/plain": [
       "HBox(children=(IntProgress(value=0, max=84), HTML(value='')))"
      ]
     },
     "metadata": {},
     "output_type": "display_data"
    },
    {
     "name": "stdout",
     "output_type": "stream",
     "text": [
      "\n",
      "1006R3037:  True 27 [27 27] [28.832444945332998, 35.605790053978716] [ 35.60579005  28.83244495]\n"
     ]
    },
    {
     "data": {
      "application/vnd.jupyter.widget-view+json": {
       "model_id": "59179ef077314d06b367bff6ec77e377",
       "version_major": 2,
       "version_minor": 0
      },
      "text/html": [
       "<p>Failed to display Jupyter Widget of type <code>HBox</code>.</p>\n",
       "<p>\n",
       "  If you're reading this message in the Jupyter Notebook or JupyterLab Notebook, it may mean\n",
       "  that the widgets JavaScript is still loading. If this message persists, it\n",
       "  likely means that the widgets JavaScript library is either not installed or\n",
       "  not enabled. See the <a href=\"https://ipywidgets.readthedocs.io/en/stable/user_install.html\">Jupyter\n",
       "  Widgets Documentation</a> for setup instructions.\n",
       "</p>\n",
       "<p>\n",
       "  If you're reading this message in another frontend (for example, a static\n",
       "  rendering on GitHub or <a href=\"https://nbviewer.jupyter.org/\">NBViewer</a>),\n",
       "  it may mean that your frontend doesn't currently support widgets.\n",
       "</p>\n"
      ],
      "text/plain": [
       "HBox(children=(IntProgress(value=0, max=57), HTML(value='')))"
      ]
     },
     "metadata": {},
     "output_type": "display_data"
    },
    {
     "name": "stdout",
     "output_type": "stream",
     "text": [
      "\n",
      "0801R3010:  True 23 [23 23 27] [7.9844949291896636, 21.434558167400581, 29.951635119131719] [ 29.95163512  21.43455817   7.98449493]\n"
     ]
    },
    {
     "data": {
      "application/vnd.jupyter.widget-view+json": {
       "model_id": "5d75fdcc24594325b600c1b385ce8295",
       "version_major": 2,
       "version_minor": 0
      },
      "text/html": [
       "<p>Failed to display Jupyter Widget of type <code>HBox</code>.</p>\n",
       "<p>\n",
       "  If you're reading this message in the Jupyter Notebook or JupyterLab Notebook, it may mean\n",
       "  that the widgets JavaScript is still loading. If this message persists, it\n",
       "  likely means that the widgets JavaScript library is either not installed or\n",
       "  not enabled. See the <a href=\"https://ipywidgets.readthedocs.io/en/stable/user_install.html\">Jupyter\n",
       "  Widgets Documentation</a> for setup instructions.\n",
       "</p>\n",
       "<p>\n",
       "  If you're reading this message in another frontend (for example, a static\n",
       "  rendering on GitHub or <a href=\"https://nbviewer.jupyter.org/\">NBViewer</a>),\n",
       "  it may mean that your frontend doesn't currently support widgets.\n",
       "</p>\n"
      ],
      "text/plain": [
       "HBox(children=(IntProgress(value=0, max=82), HTML(value='')))"
      ]
     },
     "metadata": {},
     "output_type": "display_data"
    },
    {
     "name": "stdout",
     "output_type": "stream",
     "text": [
      "\n",
      "0127R3004:  True 23 [23 27 27] [20.958437650961717, 28.132018730383408, 33.605375763600691] [ 33.60537576  28.13201873  20.95843765]\n"
     ]
    },
    {
     "data": {
      "application/vnd.jupyter.widget-view+json": {
       "model_id": "7bb5afcb263b417b9630b32ee4eabeed",
       "version_major": 2,
       "version_minor": 0
      },
      "text/html": [
       "<p>Failed to display Jupyter Widget of type <code>HBox</code>.</p>\n",
       "<p>\n",
       "  If you're reading this message in the Jupyter Notebook or JupyterLab Notebook, it may mean\n",
       "  that the widgets JavaScript is still loading. If this message persists, it\n",
       "  likely means that the widgets JavaScript library is either not installed or\n",
       "  not enabled. See the <a href=\"https://ipywidgets.readthedocs.io/en/stable/user_install.html\">Jupyter\n",
       "  Widgets Documentation</a> for setup instructions.\n",
       "</p>\n",
       "<p>\n",
       "  If you're reading this message in another frontend (for example, a static\n",
       "  rendering on GitHub or <a href=\"https://nbviewer.jupyter.org/\">NBViewer</a>),\n",
       "  it may mean that your frontend doesn't currently support widgets.\n",
       "</p>\n"
      ],
      "text/plain": [
       "HBox(children=(IntProgress(value=0, max=57), HTML(value='')))"
      ]
     },
     "metadata": {},
     "output_type": "display_data"
    },
    {
     "name": "stdout",
     "output_type": "stream",
     "text": [
      "\n",
      "0763R3021:  False 25 [27 27] [26.881877636727719, 29.844758121599966] [ 26.88187764  29.84475812]\n"
     ]
    },
    {
     "data": {
      "application/vnd.jupyter.widget-view+json": {
       "model_id": "1dc9851c27034d0191eb5774992101c2",
       "version_major": 2,
       "version_minor": 0
      },
      "text/html": [
       "<p>Failed to display Jupyter Widget of type <code>HBox</code>.</p>\n",
       "<p>\n",
       "  If you're reading this message in the Jupyter Notebook or JupyterLab Notebook, it may mean\n",
       "  that the widgets JavaScript is still loading. If this message persists, it\n",
       "  likely means that the widgets JavaScript library is either not installed or\n",
       "  not enabled. See the <a href=\"https://ipywidgets.readthedocs.io/en/stable/user_install.html\">Jupyter\n",
       "  Widgets Documentation</a> for setup instructions.\n",
       "</p>\n",
       "<p>\n",
       "  If you're reading this message in another frontend (for example, a static\n",
       "  rendering on GitHub or <a href=\"https://nbviewer.jupyter.org/\">NBViewer</a>),\n",
       "  it may mean that your frontend doesn't currently support widgets.\n",
       "</p>\n"
      ],
      "text/plain": [
       "HBox(children=(IntProgress(value=0, max=80), HTML(value='')))"
      ]
     },
     "metadata": {},
     "output_type": "display_data"
    },
    {
     "name": "stdout",
     "output_type": "stream",
     "text": [
      "\n",
      "1019R3025:  True 23 [23 27 27] [20.041534325850893, 29.37267938343383, 30.160034893995537] [ 30.16003489  29.37267938  20.04153433]\n"
     ]
    },
    {
     "data": {
      "application/vnd.jupyter.widget-view+json": {
       "model_id": "584f99f86800454a8fb272baccc29d3f",
       "version_major": 2,
       "version_minor": 0
      },
      "text/html": [
       "<p>Failed to display Jupyter Widget of type <code>HBox</code>.</p>\n",
       "<p>\n",
       "  If you're reading this message in the Jupyter Notebook or JupyterLab Notebook, it may mean\n",
       "  that the widgets JavaScript is still loading. If this message persists, it\n",
       "  likely means that the widgets JavaScript library is either not installed or\n",
       "  not enabled. See the <a href=\"https://ipywidgets.readthedocs.io/en/stable/user_install.html\">Jupyter\n",
       "  Widgets Documentation</a> for setup instructions.\n",
       "</p>\n",
       "<p>\n",
       "  If you're reading this message in another frontend (for example, a static\n",
       "  rendering on GitHub or <a href=\"https://nbviewer.jupyter.org/\">NBViewer</a>),\n",
       "  it may mean that your frontend doesn't currently support widgets.\n",
       "</p>\n"
      ],
      "text/plain": [
       "HBox(children=(IntProgress(value=0, max=59), HTML(value='')))"
      ]
     },
     "metadata": {},
     "output_type": "display_data"
    },
    {
     "name": "stdout",
     "output_type": "stream",
     "text": [
      "\n",
      "1184R3012:  False 25 [23 23] [6.6076221722451365, 22.073640373249425] [ 22.07364037   6.60762217]\n"
     ]
    },
    {
     "data": {
      "application/vnd.jupyter.widget-view+json": {
       "model_id": "63fffe8600e34ba3b3ffa2e17b65598f",
       "version_major": 2,
       "version_minor": 0
      },
      "text/html": [
       "<p>Failed to display Jupyter Widget of type <code>HBox</code>.</p>\n",
       "<p>\n",
       "  If you're reading this message in the Jupyter Notebook or JupyterLab Notebook, it may mean\n",
       "  that the widgets JavaScript is still loading. If this message persists, it\n",
       "  likely means that the widgets JavaScript library is either not installed or\n",
       "  not enabled. See the <a href=\"https://ipywidgets.readthedocs.io/en/stable/user_install.html\">Jupyter\n",
       "  Widgets Documentation</a> for setup instructions.\n",
       "</p>\n",
       "<p>\n",
       "  If you're reading this message in another frontend (for example, a static\n",
       "  rendering on GitHub or <a href=\"https://nbviewer.jupyter.org/\">NBViewer</a>),\n",
       "  it may mean that your frontend doesn't currently support widgets.\n",
       "</p>\n"
      ],
      "text/plain": [
       "HBox(children=(IntProgress(value=0, max=75), HTML(value='')))"
      ]
     },
     "metadata": {},
     "output_type": "display_data"
    },
    {
     "name": "stdout",
     "output_type": "stream",
     "text": [
      "\n",
      "0304R3031:  True 27 [23 27 27] [16.049962320182129, 26.08007596646323, 28.60996085196286] [ 28.60996085  26.08007597  16.04996232]\n"
     ]
    },
    {
     "data": {
      "application/vnd.jupyter.widget-view+json": {
       "model_id": "4ec32975c9c74f8a9779de68637ba7af",
       "version_major": 2,
       "version_minor": 0
      },
      "text/html": [
       "<p>Failed to display Jupyter Widget of type <code>HBox</code>.</p>\n",
       "<p>\n",
       "  If you're reading this message in the Jupyter Notebook or JupyterLab Notebook, it may mean\n",
       "  that the widgets JavaScript is still loading. If this message persists, it\n",
       "  likely means that the widgets JavaScript library is either not installed or\n",
       "  not enabled. See the <a href=\"https://ipywidgets.readthedocs.io/en/stable/user_install.html\">Jupyter\n",
       "  Widgets Documentation</a> for setup instructions.\n",
       "</p>\n",
       "<p>\n",
       "  If you're reading this message in another frontend (for example, a static\n",
       "  rendering on GitHub or <a href=\"https://nbviewer.jupyter.org/\">NBViewer</a>),\n",
       "  it may mean that your frontend doesn't currently support widgets.\n",
       "</p>\n"
      ],
      "text/plain": [
       "HBox(children=(IntProgress(value=0, max=101), HTML(value='')))"
      ]
     },
     "metadata": {},
     "output_type": "display_data"
    },
    {
     "name": "stdout",
     "output_type": "stream",
     "text": [
      "\n",
      "0201R3006:  False 25 [23 27 27] [11.625892122644487, 32.010764085532941, 33.157752603004553] [ 35.26167211  32.01076409  33.1577526   11.62589212]\n"
     ]
    },
    {
     "data": {
      "application/vnd.jupyter.widget-view+json": {
       "model_id": "d24212e1096c4f30b171b59af0f503b9",
       "version_major": 2,
       "version_minor": 0
      },
      "text/html": [
       "<p>Failed to display Jupyter Widget of type <code>HBox</code>.</p>\n",
       "<p>\n",
       "  If you're reading this message in the Jupyter Notebook or JupyterLab Notebook, it may mean\n",
       "  that the widgets JavaScript is still loading. If this message persists, it\n",
       "  likely means that the widgets JavaScript library is either not installed or\n",
       "  not enabled. See the <a href=\"https://ipywidgets.readthedocs.io/en/stable/user_install.html\">Jupyter\n",
       "  Widgets Documentation</a> for setup instructions.\n",
       "</p>\n",
       "<p>\n",
       "  If you're reading this message in another frontend (for example, a static\n",
       "  rendering on GitHub or <a href=\"https://nbviewer.jupyter.org/\">NBViewer</a>),\n",
       "  it may mean that your frontend doesn't currently support widgets.\n",
       "</p>\n"
      ],
      "text/plain": [
       "HBox(children=(IntProgress(value=0, max=95), HTML(value='')))"
      ]
     },
     "metadata": {},
     "output_type": "display_data"
    },
    {
     "name": "stdout",
     "output_type": "stream",
     "text": [
      "\n",
      "0159R3030:  True 23 [23 23 27] [8.2430844060506701, 21.975756450272332, 30.756579820301219] [ 30.75657982  21.97575645   8.24308441]\n"
     ]
    },
    {
     "data": {
      "application/vnd.jupyter.widget-view+json": {
       "model_id": "52f97009b13548d1bf17a81eb3e01043",
       "version_major": 2,
       "version_minor": 0
      },
      "text/html": [
       "<p>Failed to display Jupyter Widget of type <code>HBox</code>.</p>\n",
       "<p>\n",
       "  If you're reading this message in the Jupyter Notebook or JupyterLab Notebook, it may mean\n",
       "  that the widgets JavaScript is still loading. If this message persists, it\n",
       "  likely means that the widgets JavaScript library is either not installed or\n",
       "  not enabled. See the <a href=\"https://ipywidgets.readthedocs.io/en/stable/user_install.html\">Jupyter\n",
       "  Widgets Documentation</a> for setup instructions.\n",
       "</p>\n",
       "<p>\n",
       "  If you're reading this message in another frontend (for example, a static\n",
       "  rendering on GitHub or <a href=\"https://nbviewer.jupyter.org/\">NBViewer</a>),\n",
       "  it may mean that your frontend doesn't currently support widgets.\n",
       "</p>\n"
      ],
      "text/plain": [
       "HBox(children=(IntProgress(value=0, max=91), HTML(value='')))"
      ]
     },
     "metadata": {},
     "output_type": "display_data"
    },
    {
     "name": "stdout",
     "output_type": "stream",
     "text": [
      "\n",
      "1006R3051:  True 25 [25 27 27] [25.514686958819201, 31.278148745060005, 31.568340070269972] [ 31.27814875  25.51468696  31.56834007]\n"
     ]
    },
    {
     "data": {
      "application/vnd.jupyter.widget-view+json": {
       "model_id": "240eaefe1f4e4d668e351041b3d37964",
       "version_major": 2,
       "version_minor": 0
      },
      "text/html": [
       "<p>Failed to display Jupyter Widget of type <code>HBox</code>.</p>\n",
       "<p>\n",
       "  If you're reading this message in the Jupyter Notebook or JupyterLab Notebook, it may mean\n",
       "  that the widgets JavaScript is still loading. If this message persists, it\n",
       "  likely means that the widgets JavaScript library is either not installed or\n",
       "  not enabled. See the <a href=\"https://ipywidgets.readthedocs.io/en/stable/user_install.html\">Jupyter\n",
       "  Widgets Documentation</a> for setup instructions.\n",
       "</p>\n",
       "<p>\n",
       "  If you're reading this message in another frontend (for example, a static\n",
       "  rendering on GitHub or <a href=\"https://nbviewer.jupyter.org/\">NBViewer</a>),\n",
       "  it may mean that your frontend doesn't currently support widgets.\n",
       "</p>\n"
      ],
      "text/plain": [
       "HBox(children=(IntProgress(value=0, max=111), HTML(value='')))"
      ]
     },
     "metadata": {},
     "output_type": "display_data"
    },
    {
     "name": "stdout",
     "output_type": "stream",
     "text": [
      "\n",
      "0127R3012:  False 25 [23 23 27] [18.46598865104437, 22.899935578023321, 29.304157891399239] [ 29.30415789  22.89993558  32.3759161   18.46598865]\n"
     ]
    },
    {
     "data": {
      "application/vnd.jupyter.widget-view+json": {
       "model_id": "c912b8eb3704401383798f2244f49c6d",
       "version_major": 2,
       "version_minor": 0
      },
      "text/html": [
       "<p>Failed to display Jupyter Widget of type <code>HBox</code>.</p>\n",
       "<p>\n",
       "  If you're reading this message in the Jupyter Notebook or JupyterLab Notebook, it may mean\n",
       "  that the widgets JavaScript is still loading. If this message persists, it\n",
       "  likely means that the widgets JavaScript library is either not installed or\n",
       "  not enabled. See the <a href=\"https://ipywidgets.readthedocs.io/en/stable/user_install.html\">Jupyter\n",
       "  Widgets Documentation</a> for setup instructions.\n",
       "</p>\n",
       "<p>\n",
       "  If you're reading this message in another frontend (for example, a static\n",
       "  rendering on GitHub or <a href=\"https://nbviewer.jupyter.org/\">NBViewer</a>),\n",
       "  it may mean that your frontend doesn't currently support widgets.\n",
       "</p>\n"
      ],
      "text/plain": [
       "HBox(children=(IntProgress(value=0, max=74), HTML(value='')))"
      ]
     },
     "metadata": {},
     "output_type": "display_data"
    },
    {
     "name": "stdout",
     "output_type": "stream",
     "text": [
      "\n",
      "0763R3092:  True 27 [27 27] [27.396559888706005, 34.37241432735248] [ 27.39655989  34.37241433]\n"
     ]
    },
    {
     "data": {
      "application/vnd.jupyter.widget-view+json": {
       "model_id": "4e46882d1e5340d88e9c06e9f1e318f8",
       "version_major": 2,
       "version_minor": 0
      },
      "text/html": [
       "<p>Failed to display Jupyter Widget of type <code>HBox</code>.</p>\n",
       "<p>\n",
       "  If you're reading this message in the Jupyter Notebook or JupyterLab Notebook, it may mean\n",
       "  that the widgets JavaScript is still loading. If this message persists, it\n",
       "  likely means that the widgets JavaScript library is either not installed or\n",
       "  not enabled. See the <a href=\"https://ipywidgets.readthedocs.io/en/stable/user_install.html\">Jupyter\n",
       "  Widgets Documentation</a> for setup instructions.\n",
       "</p>\n",
       "<p>\n",
       "  If you're reading this message in another frontend (for example, a static\n",
       "  rendering on GitHub or <a href=\"https://nbviewer.jupyter.org/\">NBViewer</a>),\n",
       "  it may mean that your frontend doesn't currently support widgets.\n",
       "</p>\n"
      ],
      "text/plain": [
       "HBox(children=(IntProgress(value=0, max=89), HTML(value='')))"
      ]
     },
     "metadata": {},
     "output_type": "display_data"
    },
    {
     "name": "stdout",
     "output_type": "stream",
     "text": [
      "\n",
      "0863R3010:  True 23 [23 27] [18.673136908032017, 28.754265200944054] [ 28.7542652   18.67313691]\n"
     ]
    },
    {
     "data": {
      "application/vnd.jupyter.widget-view+json": {
       "model_id": "b67734c5d0f5431c8869600531f445f2",
       "version_major": 2,
       "version_minor": 0
      },
      "text/html": [
       "<p>Failed to display Jupyter Widget of type <code>HBox</code>.</p>\n",
       "<p>\n",
       "  If you're reading this message in the Jupyter Notebook or JupyterLab Notebook, it may mean\n",
       "  that the widgets JavaScript is still loading. If this message persists, it\n",
       "  likely means that the widgets JavaScript library is either not installed or\n",
       "  not enabled. See the <a href=\"https://ipywidgets.readthedocs.io/en/stable/user_install.html\">Jupyter\n",
       "  Widgets Documentation</a> for setup instructions.\n",
       "</p>\n",
       "<p>\n",
       "  If you're reading this message in another frontend (for example, a static\n",
       "  rendering on GitHub or <a href=\"https://nbviewer.jupyter.org/\">NBViewer</a>),\n",
       "  it may mean that your frontend doesn't currently support widgets.\n",
       "</p>\n"
      ],
      "text/plain": [
       "HBox(children=(IntProgress(value=0, max=97), HTML(value='')))"
      ]
     },
     "metadata": {},
     "output_type": "display_data"
    },
    {
     "name": "stdout",
     "output_type": "stream",
     "text": [
      "\n",
      "0127R3045:  True 23 [23 27 27] [17.848808949697172, 29.153175214699157, 30.051974610093506] [ 30.05197461  29.15317521  17.84880895]\n"
     ]
    },
    {
     "data": {
      "application/vnd.jupyter.widget-view+json": {
       "model_id": "182f404e1c58419385abaa00c8d56d8e",
       "version_major": 2,
       "version_minor": 0
      },
      "text/html": [
       "<p>Failed to display Jupyter Widget of type <code>HBox</code>.</p>\n",
       "<p>\n",
       "  If you're reading this message in the Jupyter Notebook or JupyterLab Notebook, it may mean\n",
       "  that the widgets JavaScript is still loading. If this message persists, it\n",
       "  likely means that the widgets JavaScript library is either not installed or\n",
       "  not enabled. See the <a href=\"https://ipywidgets.readthedocs.io/en/stable/user_install.html\">Jupyter\n",
       "  Widgets Documentation</a> for setup instructions.\n",
       "</p>\n",
       "<p>\n",
       "  If you're reading this message in another frontend (for example, a static\n",
       "  rendering on GitHub or <a href=\"https://nbviewer.jupyter.org/\">NBViewer</a>),\n",
       "  it may mean that your frontend doesn't currently support widgets.\n",
       "</p>\n"
      ],
      "text/plain": [
       "HBox(children=(IntProgress(value=0, max=118), HTML(value='')))"
      ]
     },
     "metadata": {},
     "output_type": "display_data"
    },
    {
     "name": "stdout",
     "output_type": "stream",
     "text": [
      "\n",
      "0127R3030:  True 27 [23 25 27] [8.5420874921552752, 24.260090648961981, 30.426856746499816] [ 37.34300397  31.1760082   24.26009065  30.42685675   8.54208749]\n"
     ]
    },
    {
     "data": {
      "application/vnd.jupyter.widget-view+json": {
       "model_id": "cea951f1f8204ad8bd90862aa3a5bc4a",
       "version_major": 2,
       "version_minor": 0
      },
      "text/html": [
       "<p>Failed to display Jupyter Widget of type <code>HBox</code>.</p>\n",
       "<p>\n",
       "  If you're reading this message in the Jupyter Notebook or JupyterLab Notebook, it may mean\n",
       "  that the widgets JavaScript is still loading. If this message persists, it\n",
       "  likely means that the widgets JavaScript library is either not installed or\n",
       "  not enabled. See the <a href=\"https://ipywidgets.readthedocs.io/en/stable/user_install.html\">Jupyter\n",
       "  Widgets Documentation</a> for setup instructions.\n",
       "</p>\n",
       "<p>\n",
       "  If you're reading this message in another frontend (for example, a static\n",
       "  rendering on GitHub or <a href=\"https://nbviewer.jupyter.org/\">NBViewer</a>),\n",
       "  it may mean that your frontend doesn't currently support widgets.\n",
       "</p>\n"
      ],
      "text/plain": [
       "HBox(children=(IntProgress(value=0, max=109), HTML(value='')))"
      ]
     },
     "metadata": {},
     "output_type": "display_data"
    },
    {
     "name": "stdout",
     "output_type": "stream",
     "text": [
      "\n",
      "0262R3004:  True 27 [23 27 27] [6.0870061242971447, 28.865252509871912, 30.38409060110002] [ 28.86525251  30.3840906    6.08700612]\n"
     ]
    },
    {
     "data": {
      "application/vnd.jupyter.widget-view+json": {
       "model_id": "e1021e859f2c46d9b360eceb2307cbce",
       "version_major": 2,
       "version_minor": 0
      },
      "text/html": [
       "<p>Failed to display Jupyter Widget of type <code>HBox</code>.</p>\n",
       "<p>\n",
       "  If you're reading this message in the Jupyter Notebook or JupyterLab Notebook, it may mean\n",
       "  that the widgets JavaScript is still loading. If this message persists, it\n",
       "  likely means that the widgets JavaScript library is either not installed or\n",
       "  not enabled. See the <a href=\"https://ipywidgets.readthedocs.io/en/stable/user_install.html\">Jupyter\n",
       "  Widgets Documentation</a> for setup instructions.\n",
       "</p>\n",
       "<p>\n",
       "  If you're reading this message in another frontend (for example, a static\n",
       "  rendering on GitHub or <a href=\"https://nbviewer.jupyter.org/\">NBViewer</a>),\n",
       "  it may mean that your frontend doesn't currently support widgets.\n",
       "</p>\n"
      ],
      "text/plain": [
       "HBox(children=(IntProgress(value=0, max=88), HTML(value='')))"
      ]
     },
     "metadata": {},
     "output_type": "display_data"
    },
    {
     "name": "stdout",
     "output_type": "stream",
     "text": [
      "\n",
      "0266R3036:  True 25 [23 23 25] [5.7409307089938713, 7.3058659462980158, 25.484765464700995] [ 31.58026494  25.48476546   7.30586595   5.74093071]\n"
     ]
    },
    {
     "data": {
      "application/vnd.jupyter.widget-view+json": {
       "model_id": "f7e4e0f48bff44c8a5d4f4f324be5c1b",
       "version_major": 2,
       "version_minor": 0
      },
      "text/html": [
       "<p>Failed to display Jupyter Widget of type <code>HBox</code>.</p>\n",
       "<p>\n",
       "  If you're reading this message in the Jupyter Notebook or JupyterLab Notebook, it may mean\n",
       "  that the widgets JavaScript is still loading. If this message persists, it\n",
       "  likely means that the widgets JavaScript library is either not installed or\n",
       "  not enabled. See the <a href=\"https://ipywidgets.readthedocs.io/en/stable/user_install.html\">Jupyter\n",
       "  Widgets Documentation</a> for setup instructions.\n",
       "</p>\n",
       "<p>\n",
       "  If you're reading this message in another frontend (for example, a static\n",
       "  rendering on GitHub or <a href=\"https://nbviewer.jupyter.org/\">NBViewer</a>),\n",
       "  it may mean that your frontend doesn't currently support widgets.\n",
       "</p>\n"
      ],
      "text/plain": [
       "HBox(children=(IntProgress(value=0, max=80), HTML(value='')))"
      ]
     },
     "metadata": {},
     "output_type": "display_data"
    },
    {
     "name": "stdout",
     "output_type": "stream",
     "text": [
      "\n",
      "0304R3026:  False 25 [23 23 23] [18.365082618946197, 20.982678427725983, 23.960146715265257] [ 32.11925705  23.96014672  20.98267843  18.36508262]\n"
     ]
    },
    {
     "data": {
      "application/vnd.jupyter.widget-view+json": {
       "model_id": "3a9d8f3b87fd4c198714763085176e8d",
       "version_major": 2,
       "version_minor": 0
      },
      "text/html": [
       "<p>Failed to display Jupyter Widget of type <code>HBox</code>.</p>\n",
       "<p>\n",
       "  If you're reading this message in the Jupyter Notebook or JupyterLab Notebook, it may mean\n",
       "  that the widgets JavaScript is still loading. If this message persists, it\n",
       "  likely means that the widgets JavaScript library is either not installed or\n",
       "  not enabled. See the <a href=\"https://ipywidgets.readthedocs.io/en/stable/user_install.html\">Jupyter\n",
       "  Widgets Documentation</a> for setup instructions.\n",
       "</p>\n",
       "<p>\n",
       "  If you're reading this message in another frontend (for example, a static\n",
       "  rendering on GitHub or <a href=\"https://nbviewer.jupyter.org/\">NBViewer</a>),\n",
       "  it may mean that your frontend doesn't currently support widgets.\n",
       "</p>\n"
      ],
      "text/plain": [
       "HBox(children=(IntProgress(value=0, max=101), HTML(value='')))"
      ]
     },
     "metadata": {},
     "output_type": "display_data"
    },
    {
     "name": "stdout",
     "output_type": "stream",
     "text": [
      "\n",
      "0760R3006:  True 27 [23 27 27] [5.9114445168007697, 27.697429635352645, 30.655061952790458] [ 33.11000103  30.65506195  27.69742964   5.91144452]\n"
     ]
    },
    {
     "data": {
      "application/vnd.jupyter.widget-view+json": {
       "model_id": "43008f62594b4598a0db0c29b2b22569",
       "version_major": 2,
       "version_minor": 0
      },
      "text/html": [
       "<p>Failed to display Jupyter Widget of type <code>HBox</code>.</p>\n",
       "<p>\n",
       "  If you're reading this message in the Jupyter Notebook or JupyterLab Notebook, it may mean\n",
       "  that the widgets JavaScript is still loading. If this message persists, it\n",
       "  likely means that the widgets JavaScript library is either not installed or\n",
       "  not enabled. See the <a href=\"https://ipywidgets.readthedocs.io/en/stable/user_install.html\">Jupyter\n",
       "  Widgets Documentation</a> for setup instructions.\n",
       "</p>\n",
       "<p>\n",
       "  If you're reading this message in another frontend (for example, a static\n",
       "  rendering on GitHub or <a href=\"https://nbviewer.jupyter.org/\">NBViewer</a>),\n",
       "  it may mean that your frontend doesn't currently support widgets.\n",
       "</p>\n"
      ],
      "text/plain": [
       "HBox(children=(IntProgress(value=0, max=104), HTML(value='')))"
      ]
     },
     "metadata": {},
     "output_type": "display_data"
    },
    {
     "name": "stdout",
     "output_type": "stream",
     "text": [
      "\n",
      "0127R3035:  False 25 [23 23 23] [8.6611869512413246, 19.34611975782116, 23.343231100766996] [ 33.02301739  23.3432311   19.34611976   8.66118695]\n"
     ]
    },
    {
     "data": {
      "application/vnd.jupyter.widget-view+json": {
       "model_id": "5b860e6cc3e84b268348ba37354a4fcd",
       "version_major": 2,
       "version_minor": 0
      },
      "text/html": [
       "<p>Failed to display Jupyter Widget of type <code>HBox</code>.</p>\n",
       "<p>\n",
       "  If you're reading this message in the Jupyter Notebook or JupyterLab Notebook, it may mean\n",
       "  that the widgets JavaScript is still loading. If this message persists, it\n",
       "  likely means that the widgets JavaScript library is either not installed or\n",
       "  not enabled. See the <a href=\"https://ipywidgets.readthedocs.io/en/stable/user_install.html\">Jupyter\n",
       "  Widgets Documentation</a> for setup instructions.\n",
       "</p>\n",
       "<p>\n",
       "  If you're reading this message in another frontend (for example, a static\n",
       "  rendering on GitHub or <a href=\"https://nbviewer.jupyter.org/\">NBViewer</a>),\n",
       "  it may mean that your frontend doesn't currently support widgets.\n",
       "</p>\n"
      ],
      "text/plain": [
       "HBox(children=(IntProgress(value=0, max=56), HTML(value='')))"
      ]
     },
     "metadata": {},
     "output_type": "display_data"
    },
    {
     "name": "stdout",
     "output_type": "stream",
     "text": [
      "\n",
      "0763R3105:  True 25 [23 25 27] [19.448839754612258, 25.022097673320211, 28.976819448545008] [ 25.02209767  28.97681945  19.44883975]\n"
     ]
    },
    {
     "data": {
      "application/vnd.jupyter.widget-view+json": {
       "model_id": "028745f70eac4b9081f486fcd18627e9",
       "version_major": 2,
       "version_minor": 0
      },
      "text/html": [
       "<p>Failed to display Jupyter Widget of type <code>HBox</code>.</p>\n",
       "<p>\n",
       "  If you're reading this message in the Jupyter Notebook or JupyterLab Notebook, it may mean\n",
       "  that the widgets JavaScript is still loading. If this message persists, it\n",
       "  likely means that the widgets JavaScript library is either not installed or\n",
       "  not enabled. See the <a href=\"https://ipywidgets.readthedocs.io/en/stable/user_install.html\">Jupyter\n",
       "  Widgets Documentation</a> for setup instructions.\n",
       "</p>\n",
       "<p>\n",
       "  If you're reading this message in another frontend (for example, a static\n",
       "  rendering on GitHub or <a href=\"https://nbviewer.jupyter.org/\">NBViewer</a>),\n",
       "  it may mean that your frontend doesn't currently support widgets.\n",
       "</p>\n"
      ],
      "text/plain": [
       "HBox(children=(IntProgress(value=0, max=80), HTML(value='')))"
      ]
     },
     "metadata": {},
     "output_type": "display_data"
    },
    {
     "name": "stdout",
     "output_type": "stream",
     "text": [
      "\n",
      "1006R3038:  True 27 [27 27] [29.61281438183703, 33.166032975850705] [ 29.61281438  33.16603298]\n"
     ]
    },
    {
     "data": {
      "application/vnd.jupyter.widget-view+json": {
       "model_id": "9b6ed2f96b7c4ef58d2e43df2f1fc463",
       "version_major": 2,
       "version_minor": 0
      },
      "text/html": [
       "<p>Failed to display Jupyter Widget of type <code>HBox</code>.</p>\n",
       "<p>\n",
       "  If you're reading this message in the Jupyter Notebook or JupyterLab Notebook, it may mean\n",
       "  that the widgets JavaScript is still loading. If this message persists, it\n",
       "  likely means that the widgets JavaScript library is either not installed or\n",
       "  not enabled. See the <a href=\"https://ipywidgets.readthedocs.io/en/stable/user_install.html\">Jupyter\n",
       "  Widgets Documentation</a> for setup instructions.\n",
       "</p>\n",
       "<p>\n",
       "  If you're reading this message in another frontend (for example, a static\n",
       "  rendering on GitHub or <a href=\"https://nbviewer.jupyter.org/\">NBViewer</a>),\n",
       "  it may mean that your frontend doesn't currently support widgets.\n",
       "</p>\n"
      ],
      "text/plain": [
       "HBox(children=(IntProgress(value=0, max=87), HTML(value='')))"
      ]
     },
     "metadata": {},
     "output_type": "display_data"
    },
    {
     "name": "stdout",
     "output_type": "stream",
     "text": [
      "\n",
      "0266R3025:  False 25 [23 23 27] [22.345803299211962, 22.586935449014124, 28.608002198536923] [ 33.3321328   28.6080022   22.58693545  22.3458033   32.74949619]\n"
     ]
    },
    {
     "data": {
      "application/vnd.jupyter.widget-view+json": {
       "model_id": "f522ca9c015b4f2daf454ae0a68711db",
       "version_major": 2,
       "version_minor": 0
      },
      "text/html": [
       "<p>Failed to display Jupyter Widget of type <code>HBox</code>.</p>\n",
       "<p>\n",
       "  If you're reading this message in the Jupyter Notebook or JupyterLab Notebook, it may mean\n",
       "  that the widgets JavaScript is still loading. If this message persists, it\n",
       "  likely means that the widgets JavaScript library is either not installed or\n",
       "  not enabled. See the <a href=\"https://ipywidgets.readthedocs.io/en/stable/user_install.html\">Jupyter\n",
       "  Widgets Documentation</a> for setup instructions.\n",
       "</p>\n",
       "<p>\n",
       "  If you're reading this message in another frontend (for example, a static\n",
       "  rendering on GitHub or <a href=\"https://nbviewer.jupyter.org/\">NBViewer</a>),\n",
       "  it may mean that your frontend doesn't currently support widgets.\n",
       "</p>\n"
      ],
      "text/plain": [
       "HBox(children=(IntProgress(value=0, max=105), HTML(value='')))"
      ]
     },
     "metadata": {},
     "output_type": "display_data"
    },
    {
     "name": "stdout",
     "output_type": "stream",
     "text": [
      "\n",
      "0753R3012:  False 25 [27] [31.774362686637776] [ 31.77436269]\n"
     ]
    },
    {
     "data": {
      "application/vnd.jupyter.widget-view+json": {
       "model_id": "67ec9e0c3e3f44238689247e09987198",
       "version_major": 2,
       "version_minor": 0
      },
      "text/html": [
       "<p>Failed to display Jupyter Widget of type <code>HBox</code>.</p>\n",
       "<p>\n",
       "  If you're reading this message in the Jupyter Notebook or JupyterLab Notebook, it may mean\n",
       "  that the widgets JavaScript is still loading. If this message persists, it\n",
       "  likely means that the widgets JavaScript library is either not installed or\n",
       "  not enabled. See the <a href=\"https://ipywidgets.readthedocs.io/en/stable/user_install.html\">Jupyter\n",
       "  Widgets Documentation</a> for setup instructions.\n",
       "</p>\n",
       "<p>\n",
       "  If you're reading this message in another frontend (for example, a static\n",
       "  rendering on GitHub or <a href=\"https://nbviewer.jupyter.org/\">NBViewer</a>),\n",
       "  it may mean that your frontend doesn't currently support widgets.\n",
       "</p>\n"
      ],
      "text/plain": [
       "HBox(children=(IntProgress(value=0, max=101), HTML(value='')))"
      ]
     },
     "metadata": {},
     "output_type": "display_data"
    },
    {
     "name": "stdout",
     "output_type": "stream",
     "text": [
      "\n",
      "0458R3006:  True 25 [23 25 25] [18.249781437739671, 25.071996807654397, 25.476358138429553] [ 38.80778669  34.58201301  25.47635814  25.07199681  18.24978144]\n"
     ]
    },
    {
     "data": {
      "application/vnd.jupyter.widget-view+json": {
       "model_id": "592c5cd494564309b2af37f137f3ec17",
       "version_major": 2,
       "version_minor": 0
      },
      "text/html": [
       "<p>Failed to display Jupyter Widget of type <code>HBox</code>.</p>\n",
       "<p>\n",
       "  If you're reading this message in the Jupyter Notebook or JupyterLab Notebook, it may mean\n",
       "  that the widgets JavaScript is still loading. If this message persists, it\n",
       "  likely means that the widgets JavaScript library is either not installed or\n",
       "  not enabled. See the <a href=\"https://ipywidgets.readthedocs.io/en/stable/user_install.html\">Jupyter\n",
       "  Widgets Documentation</a> for setup instructions.\n",
       "</p>\n",
       "<p>\n",
       "  If you're reading this message in another frontend (for example, a static\n",
       "  rendering on GitHub or <a href=\"https://nbviewer.jupyter.org/\">NBViewer</a>),\n",
       "  it may mean that your frontend doesn't currently support widgets.\n",
       "</p>\n"
      ],
      "text/plain": [
       "HBox(children=(IntProgress(value=0, max=55), HTML(value='')))"
      ]
     },
     "metadata": {},
     "output_type": "display_data"
    },
    {
     "name": "stdout",
     "output_type": "stream",
     "text": [
      "\n",
      "1184R3017:  True 25 [23 25 27] [10.569472980295048, 24.91837574461638, 26.720806420652398] [ 24.91837574  26.72080642  10.56947298]\n"
     ]
    },
    {
     "data": {
      "application/vnd.jupyter.widget-view+json": {
       "model_id": "986210249f284742a22722f45a738c3d",
       "version_major": 2,
       "version_minor": 0
      },
      "text/html": [
       "<p>Failed to display Jupyter Widget of type <code>HBox</code>.</p>\n",
       "<p>\n",
       "  If you're reading this message in the Jupyter Notebook or JupyterLab Notebook, it may mean\n",
       "  that the widgets JavaScript is still loading. If this message persists, it\n",
       "  likely means that the widgets JavaScript library is either not installed or\n",
       "  not enabled. See the <a href=\"https://ipywidgets.readthedocs.io/en/stable/user_install.html\">Jupyter\n",
       "  Widgets Documentation</a> for setup instructions.\n",
       "</p>\n",
       "<p>\n",
       "  If you're reading this message in another frontend (for example, a static\n",
       "  rendering on GitHub or <a href=\"https://nbviewer.jupyter.org/\">NBViewer</a>),\n",
       "  it may mean that your frontend doesn't currently support widgets.\n",
       "</p>\n"
      ],
      "text/plain": [
       "HBox(children=(IntProgress(value=0, max=69), HTML(value='')))"
      ]
     },
     "metadata": {},
     "output_type": "display_data"
    },
    {
     "name": "stdout",
     "output_type": "stream",
     "text": [
      "\n",
      "1184R3021:  True 25 [23 25 27] [20.532645669580337, 24.935163917063743, 29.588538817765862] [ 29.58853882  24.93516392  20.53264567]\n"
     ]
    },
    {
     "data": {
      "application/vnd.jupyter.widget-view+json": {
       "model_id": "6d080230066248f8ab794d74c8dac73e",
       "version_major": 2,
       "version_minor": 0
      },
      "text/html": [
       "<p>Failed to display Jupyter Widget of type <code>HBox</code>.</p>\n",
       "<p>\n",
       "  If you're reading this message in the Jupyter Notebook or JupyterLab Notebook, it may mean\n",
       "  that the widgets JavaScript is still loading. If this message persists, it\n",
       "  likely means that the widgets JavaScript library is either not installed or\n",
       "  not enabled. See the <a href=\"https://ipywidgets.readthedocs.io/en/stable/user_install.html\">Jupyter\n",
       "  Widgets Documentation</a> for setup instructions.\n",
       "</p>\n",
       "<p>\n",
       "  If you're reading this message in another frontend (for example, a static\n",
       "  rendering on GitHub or <a href=\"https://nbviewer.jupyter.org/\">NBViewer</a>),\n",
       "  it may mean that your frontend doesn't currently support widgets.\n",
       "</p>\n"
      ],
      "text/plain": [
       "HBox(children=(IntProgress(value=0, max=121), HTML(value='')))"
      ]
     },
     "metadata": {},
     "output_type": "display_data"
    },
    {
     "name": "stdout",
     "output_type": "stream",
     "text": [
      "\n",
      "0127R3007:  True 25 [23 25 27] [19.828302482130407, 24.735519672007989, 33.66574635296287] [ 36.41956728  33.66574635  24.73551967  19.82830248]\n"
     ]
    },
    {
     "data": {
      "application/vnd.jupyter.widget-view+json": {
       "model_id": "ecf2438290e44f689df6830e49e52ce2",
       "version_major": 2,
       "version_minor": 0
      },
      "text/html": [
       "<p>Failed to display Jupyter Widget of type <code>HBox</code>.</p>\n",
       "<p>\n",
       "  If you're reading this message in the Jupyter Notebook or JupyterLab Notebook, it may mean\n",
       "  that the widgets JavaScript is still loading. If this message persists, it\n",
       "  likely means that the widgets JavaScript library is either not installed or\n",
       "  not enabled. See the <a href=\"https://ipywidgets.readthedocs.io/en/stable/user_install.html\">Jupyter\n",
       "  Widgets Documentation</a> for setup instructions.\n",
       "</p>\n",
       "<p>\n",
       "  If you're reading this message in another frontend (for example, a static\n",
       "  rendering on GitHub or <a href=\"https://nbviewer.jupyter.org/\">NBViewer</a>),\n",
       "  it may mean that your frontend doesn't currently support widgets.\n",
       "</p>\n"
      ],
      "text/plain": [
       "HBox(children=(IntProgress(value=0, max=49), HTML(value='')))"
      ]
     },
     "metadata": {},
     "output_type": "display_data"
    },
    {
     "name": "stdout",
     "output_type": "stream",
     "text": [
      "\n",
      "0763R3094:  False 25 [23 27 27] [10.473281562899221, 28.414823411800313, 35.077155070418009] [ 28.41482341  35.07715507  10.47328156]\n"
     ]
    },
    {
     "data": {
      "application/vnd.jupyter.widget-view+json": {
       "model_id": "578f2eba1ebb406e8f7550e412737737",
       "version_major": 2,
       "version_minor": 0
      },
      "text/html": [
       "<p>Failed to display Jupyter Widget of type <code>HBox</code>.</p>\n",
       "<p>\n",
       "  If you're reading this message in the Jupyter Notebook or JupyterLab Notebook, it may mean\n",
       "  that the widgets JavaScript is still loading. If this message persists, it\n",
       "  likely means that the widgets JavaScript library is either not installed or\n",
       "  not enabled. See the <a href=\"https://ipywidgets.readthedocs.io/en/stable/user_install.html\">Jupyter\n",
       "  Widgets Documentation</a> for setup instructions.\n",
       "</p>\n",
       "<p>\n",
       "  If you're reading this message in another frontend (for example, a static\n",
       "  rendering on GitHub or <a href=\"https://nbviewer.jupyter.org/\">NBViewer</a>),\n",
       "  it may mean that your frontend doesn't currently support widgets.\n",
       "</p>\n"
      ],
      "text/plain": [
       "HBox(children=(IntProgress(value=0, max=49), HTML(value='')))"
      ]
     },
     "metadata": {},
     "output_type": "display_data"
    },
    {
     "name": "stdout",
     "output_type": "stream",
     "text": [
      "\n",
      "1006R3077:  True 23 [23] [22.291824989911529] [ 22.29182499]\n"
     ]
    },
    {
     "data": {
      "application/vnd.jupyter.widget-view+json": {
       "model_id": "a96cd0ac721541eab2cf24d7fa2773e3",
       "version_major": 2,
       "version_minor": 0
      },
      "text/html": [
       "<p>Failed to display Jupyter Widget of type <code>HBox</code>.</p>\n",
       "<p>\n",
       "  If you're reading this message in the Jupyter Notebook or JupyterLab Notebook, it may mean\n",
       "  that the widgets JavaScript is still loading. If this message persists, it\n",
       "  likely means that the widgets JavaScript library is either not installed or\n",
       "  not enabled. See the <a href=\"https://ipywidgets.readthedocs.io/en/stable/user_install.html\">Jupyter\n",
       "  Widgets Documentation</a> for setup instructions.\n",
       "</p>\n",
       "<p>\n",
       "  If you're reading this message in another frontend (for example, a static\n",
       "  rendering on GitHub or <a href=\"https://nbviewer.jupyter.org/\">NBViewer</a>),\n",
       "  it may mean that your frontend doesn't currently support widgets.\n",
       "</p>\n"
      ],
      "text/plain": [
       "HBox(children=(IntProgress(value=0, max=93), HTML(value='')))"
      ]
     },
     "metadata": {},
     "output_type": "display_data"
    },
    {
     "name": "stdout",
     "output_type": "stream",
     "text": [
      "\n",
      "0201R3004:  True 23 [23 23 27] [12.730823704569769, 23.870166558508391, 30.494921124728091] [ 34.84248655  30.49492112  23.87016656  12.7308237 ]\n"
     ]
    },
    {
     "data": {
      "application/vnd.jupyter.widget-view+json": {
       "model_id": "ee4f9967f1d5465eb301f104e08a9353",
       "version_major": 2,
       "version_minor": 0
      },
      "text/html": [
       "<p>Failed to display Jupyter Widget of type <code>HBox</code>.</p>\n",
       "<p>\n",
       "  If you're reading this message in the Jupyter Notebook or JupyterLab Notebook, it may mean\n",
       "  that the widgets JavaScript is still loading. If this message persists, it\n",
       "  likely means that the widgets JavaScript library is either not installed or\n",
       "  not enabled. See the <a href=\"https://ipywidgets.readthedocs.io/en/stable/user_install.html\">Jupyter\n",
       "  Widgets Documentation</a> for setup instructions.\n",
       "</p>\n",
       "<p>\n",
       "  If you're reading this message in another frontend (for example, a static\n",
       "  rendering on GitHub or <a href=\"https://nbviewer.jupyter.org/\">NBViewer</a>),\n",
       "  it may mean that your frontend doesn't currently support widgets.\n",
       "</p>\n"
      ],
      "text/plain": [
       "HBox(children=(IntProgress(value=0, max=94), HTML(value='')))"
      ]
     },
     "metadata": {},
     "output_type": "display_data"
    },
    {
     "name": "stdout",
     "output_type": "stream",
     "text": [
      "\n",
      "1006R3017:  False 25 [23 23 23] [9.3961901032561297, 21.239304320500747, 21.609272515122917] [ 28.4427585   21.60927252   9.3961901   21.23930432]\n"
     ]
    },
    {
     "data": {
      "application/vnd.jupyter.widget-view+json": {
       "model_id": "c41b098021984b548f3ea17acd3a1e10",
       "version_major": 2,
       "version_minor": 0
      },
      "text/html": [
       "<p>Failed to display Jupyter Widget of type <code>HBox</code>.</p>\n",
       "<p>\n",
       "  If you're reading this message in the Jupyter Notebook or JupyterLab Notebook, it may mean\n",
       "  that the widgets JavaScript is still loading. If this message persists, it\n",
       "  likely means that the widgets JavaScript library is either not installed or\n",
       "  not enabled. See the <a href=\"https://ipywidgets.readthedocs.io/en/stable/user_install.html\">Jupyter\n",
       "  Widgets Documentation</a> for setup instructions.\n",
       "</p>\n",
       "<p>\n",
       "  If you're reading this message in another frontend (for example, a static\n",
       "  rendering on GitHub or <a href=\"https://nbviewer.jupyter.org/\">NBViewer</a>),\n",
       "  it may mean that your frontend doesn't currently support widgets.\n",
       "</p>\n"
      ],
      "text/plain": [
       "HBox(children=(IntProgress(value=0, max=82), HTML(value='')))"
      ]
     },
     "metadata": {},
     "output_type": "display_data"
    },
    {
     "name": "stdout",
     "output_type": "stream",
     "text": [
      "\n",
      "0262R3018:  False 25 [23 27 27] [23.600804084166018, 26.372870805679831, 34.658241122483268] [ 38.53787727  34.65824112  26.37287081  23.60080408]\n"
     ]
    },
    {
     "data": {
      "application/vnd.jupyter.widget-view+json": {
       "model_id": "27c4dbd7e03344f98ecbc0f5147ba994",
       "version_major": 2,
       "version_minor": 0
      },
      "text/html": [
       "<p>Failed to display Jupyter Widget of type <code>HBox</code>.</p>\n",
       "<p>\n",
       "  If you're reading this message in the Jupyter Notebook or JupyterLab Notebook, it may mean\n",
       "  that the widgets JavaScript is still loading. If this message persists, it\n",
       "  likely means that the widgets JavaScript library is either not installed or\n",
       "  not enabled. See the <a href=\"https://ipywidgets.readthedocs.io/en/stable/user_install.html\">Jupyter\n",
       "  Widgets Documentation</a> for setup instructions.\n",
       "</p>\n",
       "<p>\n",
       "  If you're reading this message in another frontend (for example, a static\n",
       "  rendering on GitHub or <a href=\"https://nbviewer.jupyter.org/\">NBViewer</a>),\n",
       "  it may mean that your frontend doesn't currently support widgets.\n",
       "</p>\n"
      ],
      "text/plain": [
       "HBox(children=(IntProgress(value=0, max=86), HTML(value='')))"
      ]
     },
     "metadata": {},
     "output_type": "display_data"
    },
    {
     "name": "stdout",
     "output_type": "stream",
     "text": [
      "\n",
      "0123R3034:  False 25 [27 27] [26.795319347589576, 31.637723363327392] [ 31.63772336  26.79531935]\n"
     ]
    },
    {
     "data": {
      "application/vnd.jupyter.widget-view+json": {
       "model_id": "410159ac627a46e0a0f9340779a7b556",
       "version_major": 2,
       "version_minor": 0
      },
      "text/html": [
       "<p>Failed to display Jupyter Widget of type <code>HBox</code>.</p>\n",
       "<p>\n",
       "  If you're reading this message in the Jupyter Notebook or JupyterLab Notebook, it may mean\n",
       "  that the widgets JavaScript is still loading. If this message persists, it\n",
       "  likely means that the widgets JavaScript library is either not installed or\n",
       "  not enabled. See the <a href=\"https://ipywidgets.readthedocs.io/en/stable/user_install.html\">Jupyter\n",
       "  Widgets Documentation</a> for setup instructions.\n",
       "</p>\n",
       "<p>\n",
       "  If you're reading this message in another frontend (for example, a static\n",
       "  rendering on GitHub or <a href=\"https://nbviewer.jupyter.org/\">NBViewer</a>),\n",
       "  it may mean that your frontend doesn't currently support widgets.\n",
       "</p>\n"
      ],
      "text/plain": [
       "HBox(children=(IntProgress(value=0, max=112), HTML(value='')))"
      ]
     },
     "metadata": {},
     "output_type": "display_data"
    },
    {
     "name": "stdout",
     "output_type": "stream",
     "text": [
      "\n",
      "0127R3063:  True 27 [27 27 27] [26.905649938872838, 32.603062922687378, 36.145408613818638] [ 38.0843515   32.60306292  26.90564994  36.14540861]\n"
     ]
    },
    {
     "data": {
      "application/vnd.jupyter.widget-view+json": {
       "model_id": "1bc657ba23a944238ef52d9e59028bec",
       "version_major": 2,
       "version_minor": 0
      },
      "text/html": [
       "<p>Failed to display Jupyter Widget of type <code>HBox</code>.</p>\n",
       "<p>\n",
       "  If you're reading this message in the Jupyter Notebook or JupyterLab Notebook, it may mean\n",
       "  that the widgets JavaScript is still loading. If this message persists, it\n",
       "  likely means that the widgets JavaScript library is either not installed or\n",
       "  not enabled. See the <a href=\"https://ipywidgets.readthedocs.io/en/stable/user_install.html\">Jupyter\n",
       "  Widgets Documentation</a> for setup instructions.\n",
       "</p>\n",
       "<p>\n",
       "  If you're reading this message in another frontend (for example, a static\n",
       "  rendering on GitHub or <a href=\"https://nbviewer.jupyter.org/\">NBViewer</a>),\n",
       "  it may mean that your frontend doesn't currently support widgets.\n",
       "</p>\n"
      ],
      "text/plain": [
       "HBox(children=(IntProgress(value=0), HTML(value='')))"
      ]
     },
     "metadata": {},
     "output_type": "display_data"
    },
    {
     "name": "stdout",
     "output_type": "stream",
     "text": [
      "\n",
      "0972R3009:  False 25 [23 27] [21.536970131945367, 34.785286863377138] [ 34.78528686  21.53697013]\n"
     ]
    },
    {
     "data": {
      "application/vnd.jupyter.widget-view+json": {
       "model_id": "06d417c10f7546f5b94fe67c298b2ee5",
       "version_major": 2,
       "version_minor": 0
      },
      "text/html": [
       "<p>Failed to display Jupyter Widget of type <code>HBox</code>.</p>\n",
       "<p>\n",
       "  If you're reading this message in the Jupyter Notebook or JupyterLab Notebook, it may mean\n",
       "  that the widgets JavaScript is still loading. If this message persists, it\n",
       "  likely means that the widgets JavaScript library is either not installed or\n",
       "  not enabled. See the <a href=\"https://ipywidgets.readthedocs.io/en/stable/user_install.html\">Jupyter\n",
       "  Widgets Documentation</a> for setup instructions.\n",
       "</p>\n",
       "<p>\n",
       "  If you're reading this message in another frontend (for example, a static\n",
       "  rendering on GitHub or <a href=\"https://nbviewer.jupyter.org/\">NBViewer</a>),\n",
       "  it may mean that your frontend doesn't currently support widgets.\n",
       "</p>\n"
      ],
      "text/plain": [
       "HBox(children=(IntProgress(value=0, max=123), HTML(value='')))"
      ]
     },
     "metadata": {},
     "output_type": "display_data"
    },
    {
     "name": "stdout",
     "output_type": "stream",
     "text": [
      "\n",
      "0262R3005:  True 25 [23 23 25] [7.8520334106067589, 8.9493772900631381, 25.250755223725008] [ 27.8593329   25.25075522   8.94937729   7.85203341]\n"
     ]
    },
    {
     "data": {
      "application/vnd.jupyter.widget-view+json": {
       "model_id": "52d668e38ac34df1b205647930154399",
       "version_major": 2,
       "version_minor": 0
      },
      "text/html": [
       "<p>Failed to display Jupyter Widget of type <code>HBox</code>.</p>\n",
       "<p>\n",
       "  If you're reading this message in the Jupyter Notebook or JupyterLab Notebook, it may mean\n",
       "  that the widgets JavaScript is still loading. If this message persists, it\n",
       "  likely means that the widgets JavaScript library is either not installed or\n",
       "  not enabled. See the <a href=\"https://ipywidgets.readthedocs.io/en/stable/user_install.html\">Jupyter\n",
       "  Widgets Documentation</a> for setup instructions.\n",
       "</p>\n",
       "<p>\n",
       "  If you're reading this message in another frontend (for example, a static\n",
       "  rendering on GitHub or <a href=\"https://nbviewer.jupyter.org/\">NBViewer</a>),\n",
       "  it may mean that your frontend doesn't currently support widgets.\n",
       "</p>\n"
      ],
      "text/plain": [
       "HBox(children=(IntProgress(value=0, max=64), HTML(value='')))"
      ]
     },
     "metadata": {},
     "output_type": "display_data"
    },
    {
     "name": "stdout",
     "output_type": "stream",
     "text": [
      "\n",
      "1006R3052:  True 27 [23 27 27] [17.990903347782343, 27.902124699025432, 28.560879160506289] [ 28.56087916  27.9021247   17.99090335]\n"
     ]
    },
    {
     "data": {
      "application/vnd.jupyter.widget-view+json": {
       "model_id": "e07425af196241048530917be5fb5b62",
       "version_major": 2,
       "version_minor": 0
      },
      "text/html": [
       "<p>Failed to display Jupyter Widget of type <code>HBox</code>.</p>\n",
       "<p>\n",
       "  If you're reading this message in the Jupyter Notebook or JupyterLab Notebook, it may mean\n",
       "  that the widgets JavaScript is still loading. If this message persists, it\n",
       "  likely means that the widgets JavaScript library is either not installed or\n",
       "  not enabled. See the <a href=\"https://ipywidgets.readthedocs.io/en/stable/user_install.html\">Jupyter\n",
       "  Widgets Documentation</a> for setup instructions.\n",
       "</p>\n",
       "<p>\n",
       "  If you're reading this message in another frontend (for example, a static\n",
       "  rendering on GitHub or <a href=\"https://nbviewer.jupyter.org/\">NBViewer</a>),\n",
       "  it may mean that your frontend doesn't currently support widgets.\n",
       "</p>\n"
      ],
      "text/plain": [
       "HBox(children=(IntProgress(value=0, max=95), HTML(value='')))"
      ]
     },
     "metadata": {},
     "output_type": "display_data"
    },
    {
     "name": "stdout",
     "output_type": "stream",
     "text": [
      "\n",
      "0111R3004:  True 23 [23 23 27] [21.301218876620371, 23.399834893889469, 27.343181386881305] [ 31.50470842  27.34318139  23.39983489  21.30121888]\n"
     ]
    },
    {
     "data": {
      "application/vnd.jupyter.widget-view+json": {
       "model_id": "65a52a16b8804b20855d64af64a53565",
       "version_major": 2,
       "version_minor": 0
      },
      "text/html": [
       "<p>Failed to display Jupyter Widget of type <code>HBox</code>.</p>\n",
       "<p>\n",
       "  If you're reading this message in the Jupyter Notebook or JupyterLab Notebook, it may mean\n",
       "  that the widgets JavaScript is still loading. If this message persists, it\n",
       "  likely means that the widgets JavaScript library is either not installed or\n",
       "  not enabled. See the <a href=\"https://ipywidgets.readthedocs.io/en/stable/user_install.html\">Jupyter\n",
       "  Widgets Documentation</a> for setup instructions.\n",
       "</p>\n",
       "<p>\n",
       "  If you're reading this message in another frontend (for example, a static\n",
       "  rendering on GitHub or <a href=\"https://nbviewer.jupyter.org/\">NBViewer</a>),\n",
       "  it may mean that your frontend doesn't currently support widgets.\n",
       "</p>\n"
      ],
      "text/plain": [
       "HBox(children=(IntProgress(value=0, max=73), HTML(value='')))"
      ]
     },
     "metadata": {},
     "output_type": "display_data"
    },
    {
     "name": "stdout",
     "output_type": "stream",
     "text": [
      "\n",
      "0679R3024:  True 25 [25 27 27] [25.713760455192112, 29.379852823898016, 30.436594362308586] [ 30.43659436  25.71376046  31.76645146  29.37985282]\n"
     ]
    },
    {
     "data": {
      "application/vnd.jupyter.widget-view+json": {
       "model_id": "7995335e46414df68400c4e12f9e6268",
       "version_major": 2,
       "version_minor": 0
      },
      "text/html": [
       "<p>Failed to display Jupyter Widget of type <code>HBox</code>.</p>\n",
       "<p>\n",
       "  If you're reading this message in the Jupyter Notebook or JupyterLab Notebook, it may mean\n",
       "  that the widgets JavaScript is still loading. If this message persists, it\n",
       "  likely means that the widgets JavaScript library is either not installed or\n",
       "  not enabled. See the <a href=\"https://ipywidgets.readthedocs.io/en/stable/user_install.html\">Jupyter\n",
       "  Widgets Documentation</a> for setup instructions.\n",
       "</p>\n",
       "<p>\n",
       "  If you're reading this message in another frontend (for example, a static\n",
       "  rendering on GitHub or <a href=\"https://nbviewer.jupyter.org/\">NBViewer</a>),\n",
       "  it may mean that your frontend doesn't currently support widgets.\n",
       "</p>\n"
      ],
      "text/plain": [
       "HBox(children=(IntProgress(value=0, max=94), HTML(value='')))"
      ]
     },
     "metadata": {},
     "output_type": "display_data"
    },
    {
     "name": "stdout",
     "output_type": "stream",
     "text": [
      "\n",
      "0679R3013:  True 23 [23 23 27] [11.502683277096159, 21.191917021688408, 30.337232128001705] [ 33.74807518  30.33723213  21.19191702  11.50268328]\n"
     ]
    },
    {
     "data": {
      "application/vnd.jupyter.widget-view+json": {
       "model_id": "69794924f57c4e74b4a648f345673e39",
       "version_major": 2,
       "version_minor": 0
      },
      "text/html": [
       "<p>Failed to display Jupyter Widget of type <code>HBox</code>.</p>\n",
       "<p>\n",
       "  If you're reading this message in the Jupyter Notebook or JupyterLab Notebook, it may mean\n",
       "  that the widgets JavaScript is still loading. If this message persists, it\n",
       "  likely means that the widgets JavaScript library is either not installed or\n",
       "  not enabled. See the <a href=\"https://ipywidgets.readthedocs.io/en/stable/user_install.html\">Jupyter\n",
       "  Widgets Documentation</a> for setup instructions.\n",
       "</p>\n",
       "<p>\n",
       "  If you're reading this message in another frontend (for example, a static\n",
       "  rendering on GitHub or <a href=\"https://nbviewer.jupyter.org/\">NBViewer</a>),\n",
       "  it may mean that your frontend doesn't currently support widgets.\n",
       "</p>\n"
      ],
      "text/plain": [
       "HBox(children=(IntProgress(value=0, max=92), HTML(value='')))"
      ]
     },
     "metadata": {},
     "output_type": "display_data"
    },
    {
     "name": "stdout",
     "output_type": "stream",
     "text": [
      "\n",
      "1649R3010:  False 25 [23 23 27] [7.0871856961864728, 21.602005469758556, 33.170358413188673] [ 33.17035841  21.60200547   7.0871857 ]\n"
     ]
    },
    {
     "data": {
      "application/vnd.jupyter.widget-view+json": {
       "model_id": "5d614000795c44d086c03d8473f94b72",
       "version_major": 2,
       "version_minor": 0
      },
      "text/html": [
       "<p>Failed to display Jupyter Widget of type <code>HBox</code>.</p>\n",
       "<p>\n",
       "  If you're reading this message in the Jupyter Notebook or JupyterLab Notebook, it may mean\n",
       "  that the widgets JavaScript is still loading. If this message persists, it\n",
       "  likely means that the widgets JavaScript library is either not installed or\n",
       "  not enabled. See the <a href=\"https://ipywidgets.readthedocs.io/en/stable/user_install.html\">Jupyter\n",
       "  Widgets Documentation</a> for setup instructions.\n",
       "</p>\n",
       "<p>\n",
       "  If you're reading this message in another frontend (for example, a static\n",
       "  rendering on GitHub or <a href=\"https://nbviewer.jupyter.org/\">NBViewer</a>),\n",
       "  it may mean that your frontend doesn't currently support widgets.\n",
       "</p>\n"
      ],
      "text/plain": [
       "HBox(children=(IntProgress(value=0, max=101), HTML(value='')))"
      ]
     },
     "metadata": {},
     "output_type": "display_data"
    },
    {
     "name": "stdout",
     "output_type": "stream",
     "text": [
      "\n",
      "1342R3014:  False 27 [23 23 25] [12.811931440172481, 14.760378299657377, 25.701808682785135] [ 38.85307476  33.60633184  25.70180868  14.7603783   12.81193144]\n"
     ]
    },
    {
     "data": {
      "application/vnd.jupyter.widget-view+json": {
       "model_id": "b57d264e7de14373935b94723ac9f0c4",
       "version_major": 2,
       "version_minor": 0
      },
      "text/html": [
       "<p>Failed to display Jupyter Widget of type <code>HBox</code>.</p>\n",
       "<p>\n",
       "  If you're reading this message in the Jupyter Notebook or JupyterLab Notebook, it may mean\n",
       "  that the widgets JavaScript is still loading. If this message persists, it\n",
       "  likely means that the widgets JavaScript library is either not installed or\n",
       "  not enabled. See the <a href=\"https://ipywidgets.readthedocs.io/en/stable/user_install.html\">Jupyter\n",
       "  Widgets Documentation</a> for setup instructions.\n",
       "</p>\n",
       "<p>\n",
       "  If you're reading this message in another frontend (for example, a static\n",
       "  rendering on GitHub or <a href=\"https://nbviewer.jupyter.org/\">NBViewer</a>),\n",
       "  it may mean that your frontend doesn't currently support widgets.\n",
       "</p>\n"
      ],
      "text/plain": [
       "HBox(children=(IntProgress(value=0, max=69), HTML(value='')))"
      ]
     },
     "metadata": {},
     "output_type": "display_data"
    },
    {
     "name": "stdout",
     "output_type": "stream",
     "text": [
      "\n",
      "0104R3012:  False 25 [23 23 27] [7.6440174560788297, 22.054635893652229, 28.352727652933389] [ 28.35272765  22.05463589   7.64401746]\n"
     ]
    },
    {
     "data": {
      "application/vnd.jupyter.widget-view+json": {
       "model_id": "bec1aa5a065f4967bb8912bc5c50e245",
       "version_major": 2,
       "version_minor": 0
      },
      "text/html": [
       "<p>Failed to display Jupyter Widget of type <code>HBox</code>.</p>\n",
       "<p>\n",
       "  If you're reading this message in the Jupyter Notebook or JupyterLab Notebook, it may mean\n",
       "  that the widgets JavaScript is still loading. If this message persists, it\n",
       "  likely means that the widgets JavaScript library is either not installed or\n",
       "  not enabled. See the <a href=\"https://ipywidgets.readthedocs.io/en/stable/user_install.html\">Jupyter\n",
       "  Widgets Documentation</a> for setup instructions.\n",
       "</p>\n",
       "<p>\n",
       "  If you're reading this message in another frontend (for example, a static\n",
       "  rendering on GitHub or <a href=\"https://nbviewer.jupyter.org/\">NBViewer</a>),\n",
       "  it may mean that your frontend doesn't currently support widgets.\n",
       "</p>\n"
      ],
      "text/plain": [
       "HBox(children=(IntProgress(value=0, max=81), HTML(value='')))"
      ]
     },
     "metadata": {},
     "output_type": "display_data"
    },
    {
     "name": "stdout",
     "output_type": "stream",
     "text": [
      "\n",
      "1649R3007:  True 27 [23 27 27] [9.5185223904747769, 29.178886826003907, 38.59159055861015] [ 39.92413644  40.02867838  38.59159056  29.17888683   9.51852239]\n"
     ]
    },
    {
     "data": {
      "application/vnd.jupyter.widget-view+json": {
       "model_id": "9920ce4b3013409281c5c9f7c557011b",
       "version_major": 2,
       "version_minor": 0
      },
      "text/html": [
       "<p>Failed to display Jupyter Widget of type <code>HBox</code>.</p>\n",
       "<p>\n",
       "  If you're reading this message in the Jupyter Notebook or JupyterLab Notebook, it may mean\n",
       "  that the widgets JavaScript is still loading. If this message persists, it\n",
       "  likely means that the widgets JavaScript library is either not installed or\n",
       "  not enabled. See the <a href=\"https://ipywidgets.readthedocs.io/en/stable/user_install.html\">Jupyter\n",
       "  Widgets Documentation</a> for setup instructions.\n",
       "</p>\n",
       "<p>\n",
       "  If you're reading this message in another frontend (for example, a static\n",
       "  rendering on GitHub or <a href=\"https://nbviewer.jupyter.org/\">NBViewer</a>),\n",
       "  it may mean that your frontend doesn't currently support widgets.\n",
       "</p>\n"
      ],
      "text/plain": [
       "HBox(children=(IntProgress(value=0, max=84), HTML(value='')))"
      ]
     },
     "metadata": {},
     "output_type": "display_data"
    },
    {
     "name": "stdout",
     "output_type": "stream",
     "text": [
      "\n",
      "0760R3012:  True 27 [23 23 27] [21.425567938725926, 21.562047577340955, 26.167008149980713] [ 27.41131427  26.16700815  21.56204758  21.42556794]\n"
     ]
    },
    {
     "data": {
      "application/vnd.jupyter.widget-view+json": {
       "model_id": "8c0d9c42beac4df088f8e5399accd5ec",
       "version_major": 2,
       "version_minor": 0
      },
      "text/html": [
       "<p>Failed to display Jupyter Widget of type <code>HBox</code>.</p>\n",
       "<p>\n",
       "  If you're reading this message in the Jupyter Notebook or JupyterLab Notebook, it may mean\n",
       "  that the widgets JavaScript is still loading. If this message persists, it\n",
       "  likely means that the widgets JavaScript library is either not installed or\n",
       "  not enabled. See the <a href=\"https://ipywidgets.readthedocs.io/en/stable/user_install.html\">Jupyter\n",
       "  Widgets Documentation</a> for setup instructions.\n",
       "</p>\n",
       "<p>\n",
       "  If you're reading this message in another frontend (for example, a static\n",
       "  rendering on GitHub or <a href=\"https://nbviewer.jupyter.org/\">NBViewer</a>),\n",
       "  it may mean that your frontend doesn't currently support widgets.\n",
       "</p>\n"
      ],
      "text/plain": [
       "HBox(children=(IntProgress(value=0, max=111), HTML(value='')))"
      ]
     },
     "metadata": {},
     "output_type": "display_data"
    },
    {
     "name": "stdout",
     "output_type": "stream",
     "text": [
      "\n",
      "1019R3017:  False 25 [23 23 27] [10.381248398865969, 19.890481342456088, 34.211421235692427] [ 19.89048134  34.21142124  10.3812484 ]\n"
     ]
    }
   ],
   "source": [
    "fd = pd.read_excel('../../DM_Data/REPRISE III Sizes.xlsx')\n",
    "ctest = [t for t in test if (fd['Subject name or identifier'] == os.path.basename(t)).sum()]\n",
    "diameters = np.array([23, 25, 27])\n",
    "# predicts = dict()\n",
    "\n",
    "for test_idx in range(len(predicts), len(ctest)):\n",
    "    try:\n",
    "        patient, meta = load_utils.load_patient(PATHS['DATA'], os.path.basename(ctest[test_idx]), metadata=True)\n",
    "        row = fd[fd['Subject name or identifier'] == os.path.basename(ctest[test_idx])]\n",
    "        fact = meta['PixSpac']\n",
    "        try:\n",
    "            test_gen = test_generator(patient)\n",
    "            arr = np.concatenate([next(test_gen) for i in range(len(patient) // BATCH_SIZE + 1)])\n",
    "            test_gen = test_generator(patient)\n",
    "            p = model.predict_generator(test_gen, len(patient) // BATCH_SIZE + 1)\n",
    "            test_gen = test_generator(np.flip(patient, 1))\n",
    "            p1 = model.predict_generator(test_gen, len(patient) // BATCH_SIZE + 1)\n",
    "            test_gen = test_generator(np.flip(patient, 2))\n",
    "            p2 = model.predict_generator(test_gen, len(patient) // BATCH_SIZE + 1)\n",
    "            test_gen = test_generator(np.flip(np.flip(patient, 1), 2))\n",
    "            p3 = model.predict_generator(test_gen, len(patient) // BATCH_SIZE + 1)\n",
    "        except:\n",
    "            test_gen = test_generator(patient)\n",
    "            arr = np.concatenate([next(test_gen) for i in range(len(patient) // BATCH_SIZE)])\n",
    "            test_gen = test_generator(patient)\n",
    "            p = model.predict_generator(test_gen, len(patient) // BATCH_SIZE)\n",
    "            test_gen = test_generator(np.flip(patient, 1))\n",
    "            p1 = model.predict_generator(test_gen, len(patient) // BATCH_SIZE)\n",
    "            test_gen = test_generator(np.flip(patient, 2))\n",
    "            p2 = model.predict_generator(test_gen, len(patient) // BATCH_SIZE)\n",
    "            test_gen = test_generator(np.flip(np.flip(patient, 1), 2))\n",
    "            p3 = model.predict_generator(test_gen, len(patient) // BATCH_SIZE)\n",
    "\n",
    "\n",
    "        pred = np.mean(\n",
    "            np.stack([\n",
    "                p, \n",
    "                np.flip(p1, 1), \n",
    "                np.flip(p2, 2), \n",
    "                np.flip(np.flip(p3, 1), 2)\n",
    "            ], -1), \n",
    "            -1\n",
    "        )\n",
    "\n",
    "        pred = postprocess_test(pred[..., 0] > .5, patient)\n",
    "        patient = scipy.ndimage.zoom(patient, fact, order=3)\n",
    "        pred = scipy.ndimage.zoom(pred, fact, order=0)\n",
    "\n",
    "\n",
    "        lpred, _ = scipy.ndimage.label(pred > .5)\n",
    "        idx = np.argmax(np.bincount(lpred.flatten())[1:]) + 1\n",
    "        lpred[lpred != idx] = 0\n",
    "        lpred = scipy.ndimage.binary_closing(lpred, iterations=5)\n",
    "\n",
    "        x, y = np.asarray(np.where(lpred))[[0, 2]]\n",
    "        z = np.polyfit(x, y, 2)\n",
    "        p = np.poly1d(z)\n",
    "\n",
    "        init_d = p.deriv()\n",
    "        opt = p(init_d.roots)\n",
    "        flipped = False\n",
    "        if np.abs(p(x.min()) - opt) > np.abs(p(x.max()) - opt):\n",
    "            flipped = True\n",
    "            patient = np.flip(patient, 0)\n",
    "            lpred = np.flip(lpred, 0)\n",
    "            pred = np.flip(pred, 0)\n",
    "            x, y = np.asarray(np.where(lpred))[[0, 2]]\n",
    "            z = np.polyfit(x, y, 2)\n",
    "            p = np.poly1d(z)\n",
    "\n",
    "        summedx = (lpred).sum(1).astype(np.float)\n",
    "        xp = np.linspace(x.min(), x.max(), 100)\n",
    "\n",
    "        cx, cy = np.asarray(np.where(lpred))[[0, 1]]\n",
    "        cz = np.polyfit(cx, cy, 1)\n",
    "        cp = np.poly1d(cz)\n",
    "        cxp = np.linspace(cx.min(), cx.max(), 100)\n",
    "\n",
    "\n",
    "        length = min(min(patient.shape[1:]), 224)\n",
    "        tangs = list()\n",
    "        x_unique = np.unique(x)[30:]\n",
    "        x_unique = np.concatenate([\n",
    "            x_unique, \n",
    "            np.arange(x_unique.max() + 1, x_unique.max() + 21)\n",
    "        ])\n",
    "        init_p = np.poly1d(p.coefficients)\n",
    "        zis = list()\n",
    "        mis = list()\n",
    "\n",
    "        for point in tqdm(x_unique):\n",
    "            v = np.array([1, cp(point + 1) - cp(point), init_p(point + 1) - init_p(point)])\n",
    "            v = np.stack([np.cross(v, np.array([0, 1, 0])), v])\n",
    "            v = np.stack([np.cross(v[0], v[1]), v[0]])\n",
    "            v = length * v / np.expand_dims(np.linalg.norm(v, ord=2, axis=1), -1)\n",
    "\n",
    "            origin = np.array([point, cp(point), init_p(point)])\n",
    "\n",
    "            lz = multi_linespace((-v[0] / 2 + origin), (v[0] / 2 + origin), length)\n",
    "            lz = multi_linespace((lz.T - v[1] / 2), (lz.T + v[1] / 2), length)\n",
    "            lz = np.rollaxis(lz, 1, 0).reshape(3, -1)\n",
    "\n",
    "            zi = scipy.ndimage.map_coordinates(patient, lz)\n",
    "            zi = zi.reshape((length, length))\n",
    "            zi = cv2.resize(zi, dsize=(SIDE, SIDE))\n",
    "            zi = (np.expand_dims(zi, -1) + 199.) / 461.\n",
    "            zis.append(zi)\n",
    "\n",
    "            mi = scipy.ndimage.map_coordinates(lpred.astype(np.float), lz)\n",
    "            mi = mi.reshape((length, length))\n",
    "            mis.append(np.expand_dims(mi, -1))\n",
    "\n",
    "\n",
    "        zis = np.stack(zis, 0)\n",
    "        mis = np.stack(mis, 0)\n",
    "\n",
    "        p = model.predict(zis)\n",
    "        p1 = model.predict(np.flip(zis, 1))\n",
    "        p2 = model.predict(np.flip(zis, 2))\n",
    "        p3 = model.predict(np.flip(np.flip(zis, 1), 2))\n",
    "\n",
    "        pred = np.mean(\n",
    "            np.stack([\n",
    "                p, \n",
    "                np.flip(p1, 1), \n",
    "                np.flip(p2, 2), \n",
    "                np.flip(np.flip(p3, 1), 2)\n",
    "            ], -1), \n",
    "            -1\n",
    "        )\n",
    "\n",
    "\n",
    "        tangs = list()\n",
    "        large = list()\n",
    "        small = list()\n",
    "        for mi in pred[..., 0]:\n",
    "            mask, _ = scipy.ndimage.label(mi > .5)\n",
    "            try:\n",
    "                idx = np.argmax(np.bincount(mask.flatten())[1:]) + 1\n",
    "                mask = mask == idx\n",
    "                rgroup = regionprops(mask.astype(np.int))[0]\n",
    "                large.append(rgroup.major_axis_length * length / SIDE)\n",
    "                small.append(rgroup.minor_axis_length * length / SIDE)\n",
    "            except:\n",
    "                tangs.append(0)\n",
    "                continue\n",
    "\n",
    "        tangs = np.array([0 if np.isnan(l) or np.isnan(s) else l for l, s in zip(large, small)])\n",
    "        small = np.array([0 if np.isnan(l) or np.isnan(s) else s for l, s in zip(large, small)])\n",
    "\n",
    "        tangs = scipy.ndimage.gaussian_filter1d(tangs, 3)\n",
    "        args = scipy.signal.argrelextrema(tangs, np.less_equal, order=1)[0]\n",
    "        args = args[small[args] > 5]\n",
    "        tangs = small.copy()\n",
    "        \n",
    "\n",
    "        row = fd[fd['Subject name or identifier'] == os.path.basename(ctest[test_idx])]\n",
    "        gt = int(row['Valve Size (Model number)'].values[0][:2])\n",
    "\n",
    "        idxs = np.argmin(np.square([diameters - t for t in sorted([i for i in tangs[args] if i > 18])[:1]]), axis=1)\n",
    "        vsp = diameters[idxs]\n",
    "        pp = any(diameters[idxs] == gt)\n",
    "\n",
    "\n",
    "        predicts[os.path.basename(ctest[test_idx])] = (pp, gt, vsp, sorted(tangs[args])[:3], tangs[args])\n",
    "        print(os.path.basename(ctest[test_idx]) + ': ', pp, gt, vsp, sorted(tangs[args])[:3], tangs[args])\n",
    "        pickle.dump(predicts, open('../../DM_Data/predicts__', 'wb'))\n",
    "    except:\n",
    "        print(test_idx, os.path.basename(ctest[test_idx]))"
   ]
  },
  {
   "cell_type": "code",
   "execution_count": 546,
   "metadata": {},
   "outputs": [
    {
     "data": {
      "application/vnd.jupyter.widget-view+json": {
       "model_id": "cfe545608db743bea09086483302f238",
       "version_major": 2,
       "version_minor": 0
      },
      "text/html": [
       "<p>Failed to display Jupyter Widget of type <code>HBox</code>.</p>\n",
       "<p>\n",
       "  If you're reading this message in the Jupyter Notebook or JupyterLab Notebook, it may mean\n",
       "  that the widgets JavaScript is still loading. If this message persists, it\n",
       "  likely means that the widgets JavaScript library is either not installed or\n",
       "  not enabled. See the <a href=\"https://ipywidgets.readthedocs.io/en/stable/user_install.html\">Jupyter\n",
       "  Widgets Documentation</a> for setup instructions.\n",
       "</p>\n",
       "<p>\n",
       "  If you're reading this message in another frontend (for example, a static\n",
       "  rendering on GitHub or <a href=\"https://nbviewer.jupyter.org/\">NBViewer</a>),\n",
       "  it may mean that your frontend doesn't currently support widgets.\n",
       "</p>\n"
      ],
      "text/plain": [
       "HBox(children=(IntProgress(value=0, max=3), HTML(value='')))"
      ]
     },
     "metadata": {},
     "output_type": "display_data"
    },
    {
     "name": "stdout",
     "output_type": "stream",
     "text": [
      "\n"
     ]
    },
    {
     "data": {
      "image/png": "[encoded data removed]",
      "text/plain": [
       "<matplotlib.figure.Figure at 0x7f8f0917cb00>"
      ]
     },
     "metadata": {},
     "output_type": "display_data"
    }
   ],
   "source": [
    "shift = np.array(patient.shape[1:]) // 2 - length // 2\n",
    "shift = np.clip(shift, 0, np.array(patient.shape[1:]) - length)\n",
    "\n",
    "plt.imshow(summedx)\n",
    "plt.plot(init_p(xp), xp, '-');\n",
    "\n",
    "zis = list()\n",
    "mis = list()\n",
    "prods = list()\n",
    "for point in tqdm(x_unique[args].tolist()):\n",
    "    v = np.array([1, cp(point + 1) - cp(point), init_p(point + 1) - init_p(point)])\n",
    "    v = np.stack([np.cross(v, np.array([0, 1, 0])), v])\n",
    "    v = np.stack([np.cross(v[0], v[1]), v[0]])\n",
    "    v = length * v / np.expand_dims(np.linalg.norm(v, ord=2, axis=1), -1)\n",
    "\n",
    "    origin = np.array([point, cp(point), init_p(point)])\n",
    "\n",
    "    clz = multi_linespace((-v[1] / 2 + origin), (v[1] / 2 + origin), length)\n",
    "    lz = multi_linespace((clz.T - v[0] / 2), (clz.T + v[0] / 2), length)\n",
    "    \n",
    "    plt.plot(clz[2, [0, -1]], clz[0, [0, -1]], '--', c='y');\n",
    "    lz = np.rollaxis(lz, 1, 0).reshape(3, -1)\n",
    "\n",
    "    plt.scatter(init_p(point), point, c='b')\n",
    "    \n",
    "    mi = scipy.ndimage.map_coordinates(lpred.astype(np.float), lz)\n",
    "    mi = mi.reshape((length, length))\n",
    "    mi = cv2.resize(mi, dsize=(SIDE, SIDE))\n",
    "    mi = (np.expand_dims(mi, -1) + 199.) / 461.\n",
    "    mis.append(mi)\n",
    "    \n",
    "    zi = scipy.ndimage.map_coordinates(patient, lz)\n",
    "    zi = zi.reshape((length, length))\n",
    "    zi = cv2.resize(zi, dsize=(SIDE, SIDE))\n",
    "    zi = (np.expand_dims(zi, -1) + 199.) / 461.\n",
    "    zis.append(zi)\n"
   ]
  },
  {
   "cell_type": "code",
   "execution_count": 526,
   "metadata": {},
   "outputs": [
    {
     "data": {
      "image/png": "[encoded data removed]",
      "text/plain": [
       "<matplotlib.figure.Figure at 0x7f8f09329588>"
      ]
     },
     "metadata": {},
     "output_type": "display_data"
    },
    {
     "name": "stdout",
     "output_type": "stream",
     "text": [
      "Diameter: 28.7681369588\n",
      "Diameter convex hull: 29.7686869569\n"
     ]
    },
    {
     "data": {
      "image/png": "[encoded data removed]",
      "text/plain": [
       "<matplotlib.figure.Figure at 0x7f8f091c29e8>"
      ]
     },
     "metadata": {},
     "output_type": "display_data"
    },
    {
     "data": {
      "image/png": "[encoded data removed]",
      "text/plain": [
       "<matplotlib.figure.Figure at 0x7f8f077ea748>"
      ]
     },
     "metadata": {},
     "output_type": "display_data"
    }
   ],
   "source": [
    "i = 0\n",
    "\n",
    "plt.imshow(zis[i, ..., 0])\n",
    "plt.show()\n",
    "\n",
    "from skimage import measure\n",
    "from skimage.morphology import convex_hull_image\n",
    "\n",
    "coeff = SIDE / length\n",
    " \n",
    "# Find contours at a constant value of 0.8\n",
    "mask = pred[i, ..., 0] > .5\n",
    "mask, _ = scipy.ndimage.label(mask)\n",
    "idx = np.argmax(np.bincount(mask.flatten())[1:]) + 1\n",
    "mask = mask == idx\n",
    "cmask = convex_hull_image(mask)\n",
    "print('Diameter:', 2 * np.sqrt(mask.sum() / np.pi))\n",
    "print('Diameter convex hull:', 2 * np.sqrt(cmask.sum() / np.pi))\n",
    "contours = measure.find_contours(mask, .9)\n",
    "\n",
    "\n",
    "# Display the image and plot all contours found\n",
    "fig, ax = plt.subplots()\n",
    "ax.imshow(mask, interpolation='nearest', cmap=plt.cm.gray)\n",
    "\n",
    "for n, contour in enumerate(contours):\n",
    "    ax.plot(contour[:, 1], contour[:, 0], linewidth=2)\n",
    "plt.show()\n",
    "\n",
    "plt.imshow(zis[i, ..., 0])\n",
    "for n, contour in enumerate(contours):\n",
    "    plt.plot(contour[:, 1], contour[:, 0], linewidth=2)\n",
    "\n",
    "plt.show()"
   ]
  },
  {
   "cell_type": "markdown",
   "metadata": {},
   "source": [
    "# Hard negative mining"
   ]
  },
  {
   "cell_type": "code",
   "execution_count": null,
   "metadata": {},
   "outputs": [],
   "source": [
    "model = unet.get_unet(224, 224)\n",
    "model.load_weights(os.path.join(PATHS['DATA'], 'unet_model'))"
   ]
  },
  {
   "cell_type": "code",
   "execution_count": null,
   "metadata": {},
   "outputs": [],
   "source": [
    "def np_dice_coef(y_true, y_pred, smooth=1.0):\n",
    "    y_true_f = y_true.flatten()\n",
    "    y_pred_f = y_pred.flatten()\n",
    "    intersection = np.sum(y_true_f * y_pred_f)\n",
    "    return ( (2. * intersection + smooth) / \n",
    "             (np.sum(y_true_f) + np.sum(y_pred_f) + smooth) )"
   ]
  },
  {
   "cell_type": "code",
   "execution_count": null,
   "metadata": {
    "scrolled": true
   },
   "outputs": [],
   "source": [
    "for t in tqdm(train):\n",
    "    patient, meta = load_utils.load_patient(PATHS['DATA'], os.path.basename(t), metadata=True)\n",
    "    meshs = glob(os.path.join(PATHS['DATA'], os.path.basename(t), '*_A.stl'))\n",
    "    meshs = load_utils.load_mesh(meshs[0], meta) \n",
    "    meshs = meshs[:patient.shape[0], :patient.shape[1], :patient.shape[2]]\n",
    "    patient = np.stack([patient, meshs], -1)\n",
    "    test_gen = eval_generator(patient, batch_size=len(patient))\n",
    "    cgen = next(test_gen)\n",
    "    valeval = model.predict(cgen[0], 32)\n",
    "    valeval = np.array([np_dice_coef(cgen[1][i], valeval[i]) for i in range(len(valeval))])\n",
    "    np.save(os.path.join(t, 'dice'), valeval)\n",
    "    print(os.path.join(t, 'dice'))\n",
    "    break"
   ]
  }
 ],
 "metadata": {
  "kernelspec": {
   "display_name": "Environment (conda_tensorflow_p36)",
   "language": "python",
   "name": "conda_tensorflow_p36"
  },
  "language_info": {
   "codemirror_mode": {
    "name": "ipython",
    "version": 3
   },
   "file_extension": ".py",
   "mimetype": "text/x-python",
   "name": "python",
   "nbconvert_exporter": "python",
   "pygments_lexer": "ipython3",
   "version": "3.6.3"
  }
 },
 "nbformat": 4,
 "nbformat_minor": 2
}
